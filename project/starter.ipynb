{
 "cells": [
  {
   "cell_type": "markdown",
   "metadata": {},
   "source": [
    "* changed by nov05 on 2024-11-24  "
   ]
  },
  {
   "cell_type": "markdown",
   "metadata": {},
   "source": [
    "# Deploy and monitor a machine learning workflow for Image Classification"
   ]
  },
  {
   "cell_type": "markdown",
   "metadata": {},
   "source": [
    "## Setting up this notebook\n",
    "\n",
    "Notes about the instance size and kernel setup: this notebook has been tested on\n",
    "\n",
    "1. The `Python 3 (Data Science)` kernel\n",
    "2. The `ml.t3.medium` Sagemaker notebook instance\n",
    "\n",
    "## Data Staging\n",
    "\n",
    "We'll use a sample dataset called CIFAR to simulate the challenges Scones Unlimited are facing in Image Classification. In order to start working with CIFAR we'll need to:\n",
    "\n",
    "1. Extract the data from a hosting service\n",
    "2. Transform it into a usable shape and format\n",
    "3. Load it into a production system\n",
    "\n",
    "In other words, we're going to do some simple ETL!\n",
    "\n",
    "### 1. Extract the data from the hosting service\n",
    "\n",
    "In the cell below, define a function `extract_cifar_data` that extracts python version of the CIFAR-100 dataset. The CIFAR dataaset is open source and generously hosted by the University of Toronto at: https://www.cs.toronto.edu/~kriz/cifar-100-python.tar.gz "
   ]
  },
  {
   "cell_type": "code",
   "execution_count": null,
   "metadata": {},
   "outputs": [],
   "source": [
    "import requests\n",
    "def extract_cifar_data(url=\"https://www.cs.toronto.edu/~kriz/cifar-100-python.tar.gz\",\n",
    "                       filename=\"cifar.tar.gz\"):\n",
    "    \"\"\"\n",
    "    A function for extracting the CIFAR-100 dataset and storing it as a gzipped file\n",
    "    Arguments:\n",
    "    url      -- the URL where the dataset is hosted\n",
    "    filename -- the full path where the dataset will be written\n",
    "    \"\"\"\n",
    "    # Todo: request the data from the data url\n",
    "    # Hint: use `requests.get` method\n",
    "    response = requests.get(url)\n",
    "    with open(filename, \"wb\") as file_context:\n",
    "        file_context.write(response.content)\n",
    "    return"
   ]
  },
  {
   "cell_type": "markdown",
   "metadata": {},
   "source": [
    "Let's test it out! Run the following cell and check whether a new file `cifar.tar.gz` is created in the file explorer."
   ]
  },
  {
   "cell_type": "code",
   "execution_count": null,
   "metadata": {},
   "outputs": [],
   "source": [
    "extract_cifar_data(\"https://www.cs.toronto.edu/~kriz/cifar-100-python.tar.gz\")   \n",
    "## $ rm project\\cifar.tar.gz  \n",
    "## 29.4s, 161 MB"
   ]
  },
  {
   "cell_type": "markdown",
   "metadata": {},
   "source": [
    "### 2. Transform the data into a usable shape and format\n",
    "\n",
    "Clearly, distributing the data as a gzipped archive makes sense for the hosting service! It saves on bandwidth, storage, and it's a widely-used archive format. In fact, it's so widely used that the Python community ships a utility for working with them, `tarfile`, as part of its Standard Library. Execute the following cell to decompress your extracted dataset:"
   ]
  },
  {
   "cell_type": "code",
   "execution_count": null,
   "metadata": {},
   "outputs": [],
   "source": [
    "import tarfile\n",
    "with tarfile.open(\"cifar.tar.gz\", \"r:gz\") as tar:\n",
    "    tar.extractall()\n",
    "## project\\cifar-100-python\\"
   ]
  },
  {
   "cell_type": "markdown",
   "metadata": {},
   "source": [
    "A new folder `cifar-100-python` should be created, containing `meta`, `test`, and `train` files. These files are `pickles` and the [CIFAR homepage](https://www.cs.toronto.edu/~kriz/cifar.html) provides a simple script that can be used to load them. We've adapted the script below for you to run:"
   ]
  },
  {
   "cell_type": "code",
   "execution_count": 5,
   "metadata": {},
   "outputs": [],
   "source": [
    "import pickle\n",
    "with open(\"./cifar-100-python/meta\", \"rb\") as f:\n",
    "    dataset_meta = pickle.load(f, encoding='bytes')\n",
    "with open(\"./cifar-100-python/test\", \"rb\") as f:\n",
    "    dataset_test = pickle.load(f, encoding='bytes')\n",
    "with open(\"./cifar-100-python/train\", \"rb\") as f:\n",
    "    dataset_train = pickle.load(f, encoding='bytes')"
   ]
  },
  {
   "cell_type": "code",
   "execution_count": 44,
   "metadata": {},
   "outputs": [
    {
     "name": "stdout",
     "output_type": "stream",
     "text": [
      "dict_keys([b'fine_label_names', b'coarse_label_names'])\n",
      "dict_keys([b'filenames', b'batch_label', b'fine_labels', b'coarse_labels', b'data'])\n"
     ]
    }
   ],
   "source": [
    "# Feel free to explore the datasets\n",
    "print(dataset_meta.keys())\n",
    "print(dataset_train.keys())"
   ]
  },
  {
   "cell_type": "code",
   "execution_count": 49,
   "metadata": {},
   "outputs": [
    {
     "name": "stdout",
     "output_type": "stream",
     "text": [
      "There are 50000 files.\n",
      "There are 13 batch labels.\n",
      "There are 100 fine labels.\n",
      "There are 20 coarse labels.\n",
      "There are 100 fine label names.\n",
      "There are 20 coarse label names.\n"
     ]
    }
   ],
   "source": [
    "print(f\"There are {len(dataset_train[b'filenames'])} files.\")\n",
    "print(f\"There are {len(set(dataset_train[b'batch_label']))} batch labels.\")\n",
    "print(f\"There are {len(set(dataset_train[b'fine_labels']))} fine labels.\")\n",
    "print(f\"There are {len(set(dataset_train[b'coarse_labels']))} coarse labels.\")\n",
    "print(f\"There are {len(dataset_meta[b'fine_label_names'])} fine label names.\")\n",
    "print(f\"There are {len(dataset_meta[b'coarse_label_names'])} coarse label names.\")"
   ]
  },
  {
   "cell_type": "markdown",
   "metadata": {},
   "source": [
    "As documented on the homepage, `b'data'` contains rows of 3072 unsigned integers, representing three channels (red, green, and blue) for one 32x32 pixel image per row."
   ]
  },
  {
   "cell_type": "code",
   "execution_count": 19,
   "metadata": {},
   "outputs": [
    {
     "name": "stdout",
     "output_type": "stream",
     "text": [
      "32*32*3 = 3072\n",
      "3072\n"
     ]
    }
   ],
   "source": [
    "print(\"32*32*3 =\", 32*32*3)\n",
    "print(len(dataset_train[b'data'][0]))"
   ]
  },
  {
   "cell_type": "markdown",
   "metadata": {},
   "source": [
    "For a simple gut-check, let's transform one of our images. Each 1024 items in a row is a channel (red, green, then blue). Each 32 items in the channel are a row in the 32x32 image. Using python, we can stack these channels into a 32x32x3 array, and save it as a PNG file:"
   ]
  },
  {
   "cell_type": "code",
   "execution_count": 20,
   "metadata": {},
   "outputs": [],
   "source": [
    "import numpy as np\n",
    "\n",
    "# Each 1024 in a row is a channel (red, green, then blue)\n",
    "row = dataset_train[b'data'][0]\n",
    "red, green, blue = row[0:1024], row[1024:2048], row[2048:]\n",
    "\n",
    "# Each 32 items in the channel are a row in the 32x32 image\n",
    "red = red.reshape(32,32)\n",
    "green = green.reshape(32,32)\n",
    "blue = blue.reshape(32,32)\n",
    "\n",
    "# Combine the channels into a 32x32x3 image!\n",
    "combined = np.dstack((red,green,blue))"
   ]
  },
  {
   "cell_type": "markdown",
   "metadata": {},
   "source": [
    "For a more concise version, consider the following:"
   ]
  },
  {
   "cell_type": "code",
   "execution_count": 21,
   "metadata": {},
   "outputs": [],
   "source": [
    "# All in one:\n",
    "test_image = np.dstack((\n",
    "    row[0:1024].reshape(32,32),\n",
    "    row[1024:2048].reshape(32,32),\n",
    "    row[2048:].reshape(32,32)\n",
    "))"
   ]
  },
  {
   "cell_type": "code",
   "execution_count": null,
   "metadata": {},
   "outputs": [
    {
     "data": {
      "text/plain": [
       "True"
      ]
     },
     "execution_count": 99,
     "metadata": {},
     "output_type": "execute_result"
    }
   ],
   "source": [
    "## use this one\n",
    "test_image_too = np.transpose(\n",
    "    np.array(row).reshape(3, 32, 32), \n",
    "    axes=(1, 2, 0)\n",
    ")\n",
    "np.array_equal(test_image, test_image_too)"
   ]
  },
  {
   "cell_type": "code",
   "execution_count": 22,
   "metadata": {},
   "outputs": [
    {
     "data": {
      "image/png": "[encoded data removed]",
      "text/plain": [
       "<Figure size 640x480 with 1 Axes>"
      ]
     },
     "metadata": {},
     "output_type": "display_data"
    }
   ],
   "source": [
    "import matplotlib.pyplot as plt\n",
    "plt.imshow(test_image);"
   ]
  },
  {
   "cell_type": "markdown",
   "metadata": {},
   "source": [
    "Looks like a cow! Let's check the label. `dataset_meta` contains label names in order, and `dataset_train` has a list of labels for each row."
   ]
  },
  {
   "cell_type": "code",
   "execution_count": 23,
   "metadata": {},
   "outputs": [
    {
     "data": {
      "text/plain": [
       "19"
      ]
     },
     "execution_count": 23,
     "metadata": {},
     "output_type": "execute_result"
    }
   ],
   "source": [
    "dataset_train[b'fine_labels'][0]"
   ]
  },
  {
   "cell_type": "markdown",
   "metadata": {},
   "source": [
    "Our image has a label of `19`, so let's see what the 19th item is in the list of label names."
   ]
  },
  {
   "cell_type": "code",
   "execution_count": 24,
   "metadata": {},
   "outputs": [
    {
     "name": "stdout",
     "output_type": "stream",
     "text": [
      "b'cattle'\n"
     ]
    }
   ],
   "source": [
    "print(dataset_meta[b'fine_label_names'][19])"
   ]
  },
  {
   "cell_type": "markdown",
   "metadata": {},
   "source": [
    "Ok! 'cattle' sounds about right. By the way, using the previous two lines we can do:"
   ]
  },
  {
   "cell_type": "code",
   "execution_count": 45,
   "metadata": {},
   "outputs": [
    {
     "name": "stdout",
     "output_type": "stream",
     "text": [
      "b'cattle'\n"
     ]
    }
   ],
   "source": [
    "print(dataset_meta[b'fine_label_names'][dataset_train[b'fine_labels'][0]])"
   ]
  },
  {
   "cell_type": "markdown",
   "metadata": {},
   "source": [
    "Now we know how to check labels, is there a way that we can also check file names? `dataset_train` also contains a `b'filenames'` key. Let's see what we have here:"
   ]
  },
  {
   "cell_type": "code",
   "execution_count": 28,
   "metadata": {},
   "outputs": [
    {
     "name": "stdout",
     "output_type": "stream",
     "text": [
      "b'bos_taurus_s_000507.png'\n"
     ]
    }
   ],
   "source": [
    "print(dataset_train[b'filenames'][0])"
   ]
  },
  {
   "cell_type": "markdown",
   "metadata": {},
   "source": [
    "\"Taurus\" is the name of a subspecies of cattle, so this looks like a pretty reasonable filename. To save an image we can also do:"
   ]
  },
  {
   "cell_type": "code",
   "execution_count": null,
   "metadata": {},
   "outputs": [],
   "source": [
    "## '.\\bos_taurus_s_000507.png' should be created\n",
    "plt.imsave(dataset_train[b'filenames'][0].decode('utf-8'), test_image)"
   ]
  },
  {
   "cell_type": "markdown",
   "metadata": {},
   "source": [
    "Your new PNG file should now appear in the file explorer -- go ahead and pop it open to see!\n",
    "\n",
    "Now that you know how to reshape the images, save them as files, and capture their filenames and labels, let's just capture all the bicycles and motorcycles and save them. Scones Unlimited can use a model that tells these apart to route delivery drivers automatically.\n",
    "\n",
    "In the following cell, identify the label numbers for Bicycles and Motorcycles:"
   ]
  },
  {
   "cell_type": "code",
   "execution_count": null,
   "metadata": {},
   "outputs": [
    {
     "name": "stdout",
     "output_type": "stream",
     "text": [
      "the label number for Bicycle: 8\n",
      "the label number for Motorcycle: 48\n"
     ]
    }
   ],
   "source": [
    "import pandas as pd\n",
    "# Todo: Filter the dataset_train and dataset_meta objects to find the label numbers for Bicycle and Motorcycle\n",
    "s = pd.Series(dataset_meta[b'fine_label_names'])\n",
    "print(\"the label number for Bicycle:\", s[s==b'bicycle'].index.values[0])\n",
    "print(\"the label number for Motorcycle:\", s[s==b'motorcycle'].index.values[0])\n"
   ]
  },
  {
   "cell_type": "markdown",
   "metadata": {},
   "source": [
    "Good job! We only need objects with label 8 and 48 -- this drastically simplifies our handling of the data! Below we construct a dataframe for you, and you can safely drop the rows that don't contain observations about bicycles and motorcycles. Fill in the missing lines below to drop all other rows:"
   ]
  },
  {
   "cell_type": "code",
   "execution_count": 125,
   "metadata": {},
   "outputs": [],
   "source": [
    "# Construct the dataframe\n",
    "df_train = (\n",
    "    pd.DataFrame({\n",
    "        \"filenames\": dataset_train[b'filenames'],\n",
    "        \"labels\": dataset_train[b'fine_labels'],})\n",
    "    .reset_index()\n",
    "    .rename(columns={'index': 'row'}) \n",
    ")\n",
    "# Drop all rows from df_train where label is not 8 or 48\n",
    "df_train = df_train.loc[\n",
    "    (df_train['labels']==8) | \n",
    "    (df_train['labels']==48)\n",
    "] #TODO: Fill in\n",
    "\n",
    "# Decode df_train.filenames so they are regular strings\n",
    "df_train[\"filenames\"] = df_train[\"filenames\"].apply(\n",
    "    lambda x: x.decode(\"utf-8\")\n",
    ")\n",
    "df_test = (\n",
    "    pd.DataFrame({\n",
    "        \"filenames\": dataset_test[b'filenames'],\n",
    "        \"labels\": dataset_test[b'fine_labels'],})\n",
    "    .reset_index()\n",
    "    .rename(columns={'index': 'row'})\n",
    ")\n",
    "# Drop all rows from df_test where label is not 8 or 48\n",
    "df_test = df_test.loc[\n",
    "    (df_test['labels']==8) | \n",
    "    (df_test['labels']==48)\n",
    "] #TODO: Fill in\n",
    "\n",
    "# Decode df_test.filenames so they are regular strings\n",
    "df_test[\"filenames\"] = df_test[\"filenames\"].apply(\n",
    "    lambda x: x.decode(\"utf-8\")\n",
    ")"
   ]
  },
  {
   "cell_type": "code",
   "execution_count": 126,
   "metadata": {},
   "outputs": [
    {
     "data": {
      "text/html": [
       "<div>\n",
       "<style scoped>\n",
       "    .dataframe tbody tr th:only-of-type {\n",
       "        vertical-align: middle;\n",
       "    }\n",
       "\n",
       "    .dataframe tbody tr th {\n",
       "        vertical-align: top;\n",
       "    }\n",
       "\n",
       "    .dataframe thead th {\n",
       "        text-align: right;\n",
       "    }\n",
       "</style>\n",
       "<table border=\"1\" class=\"dataframe\">\n",
       "  <thead>\n",
       "    <tr style=\"text-align: right;\">\n",
       "      <th></th>\n",
       "      <th>row</th>\n",
       "      <th>filenames</th>\n",
       "      <th>labels</th>\n",
       "    </tr>\n",
       "  </thead>\n",
       "  <tbody>\n",
       "    <tr>\n",
       "      <th>46157</th>\n",
       "      <td>46157</td>\n",
       "      <td>cycle_s_002503.png</td>\n",
       "      <td>8</td>\n",
       "    </tr>\n",
       "    <tr>\n",
       "      <th>3464</th>\n",
       "      <td>3464</td>\n",
       "      <td>minibike_s_001972.png</td>\n",
       "      <td>48</td>\n",
       "    </tr>\n",
       "    <tr>\n",
       "      <th>9455</th>\n",
       "      <td>9455</td>\n",
       "      <td>minibike_s_000149.png</td>\n",
       "      <td>48</td>\n",
       "    </tr>\n",
       "  </tbody>\n",
       "</table>\n",
       "</div>"
      ],
      "text/plain": [
       "         row              filenames  labels\n",
       "46157  46157     cycle_s_002503.png       8\n",
       "3464    3464  minibike_s_001972.png      48\n",
       "9455    9455  minibike_s_000149.png      48"
      ]
     },
     "execution_count": 126,
     "metadata": {},
     "output_type": "execute_result"
    }
   ],
   "source": [
    "## check the result\n",
    "df_train.sample(3)"
   ]
  },
  {
   "cell_type": "markdown",
   "metadata": {},
   "source": [
    "Now that the data is filtered for just our classes, we can save all our images."
   ]
  },
  {
   "cell_type": "code",
   "execution_count": 93,
   "metadata": {},
   "outputs": [],
   "source": [
    "# !mkdir ./train\n",
    "# !mkdir ./test\n",
    "import os\n",
    "local_path_train = './train'\n",
    "local_path_test = './test'\n",
    "# Create directories if they don't exist\n",
    "os.makedirs(local_path_train, exist_ok=True)\n",
    "os.makedirs(local_path_test, exist_ok=True)"
   ]
  },
  {
   "cell_type": "markdown",
   "metadata": {},
   "source": [
    "In the previous sections we introduced you to several key snippets of code:\n",
    "\n",
    "1. Grabbing the image data:\n",
    "\n",
    "```python\n",
    "dataset_train[b'data'][0]\n",
    "```\n",
    "\n",
    "2. A simple idiom for stacking the image data into the right shape\n",
    "\n",
    "```python\n",
    "np.transpose(\n",
    "    np.array(row).reshape(3, 32, 32), \n",
    "    axes=(1, 2, 0)\n",
    ")\n",
    "```\n",
    "\n",
    "3. A simple `matplotlib` utility for saving images\n",
    "\n",
    "```python\n",
    "plt.imsave(path+row['filenames'], target)\n",
    "```\n",
    "\n",
    "Compose these together into a function that saves all the images into the `./test` and `./train` directories. Use the comments in the body of the `save_images` function below to guide your construction of the function:\n"
   ]
  },
  {
   "cell_type": "code",
   "execution_count": 127,
   "metadata": {},
   "outputs": [
    {
     "data": {
      "text/plain": [
       "True"
      ]
     },
     "execution_count": 127,
     "metadata": {},
     "output_type": "execute_result"
    }
   ],
   "source": [
    "def save_image(dataset, df_row, path):\n",
    "    try:\n",
    "        # Grab the image data in row-major form\n",
    "        # Consolidated stacking/reshaping from earlier\n",
    "        img = np.transpose(\n",
    "            np.array(dataset[b'data'][df_row['row']]).reshape(3, 32, 32), \n",
    "            axes=(1, 2, 0)\n",
    "        )\n",
    "        # Save the image\n",
    "        plt.imsave(\n",
    "            path + '/' + dataset[b'filenames'][df_row['row']].decode('utf-8'), \n",
    "            img\n",
    "        )\n",
    "    except Exception as e:\n",
    "        print(e)\n",
    "        return False\n",
    "    # Return any signal data you want for debugging\n",
    "    return True\n",
    "\n",
    "## test processing one row of df_train\n",
    "## \".\\train\\bike_s_000682.png\" should be created\n",
    "save_image(dataset_train, df_train.iloc[0], local_path_train)"
   ]
  },
  {
   "cell_type": "code",
   "execution_count": 128,
   "metadata": {},
   "outputs": [
    {
     "data": {
      "text/plain": [
       "27      True\n",
       "28      True\n",
       "116     True\n",
       "161     True\n",
       "319     True\n",
       "        ... \n",
       "9654    True\n",
       "9692    True\n",
       "9833    True\n",
       "9928    True\n",
       "9939    True\n",
       "Length: 200, dtype: bool"
      ]
     },
     "execution_count": 128,
     "metadata": {},
     "output_type": "execute_result"
    }
   ],
   "source": [
    "## TODO: save ALL images using the save_images function\n",
    "df_train.apply(\n",
    "    lambda df_row: save_image(dataset_train, df_row, local_path_train),\n",
    "    axis=1\n",
    ")\n",
    "df_test.apply(\n",
    "    lambda df_row: save_image(dataset_test, df_row, local_path_test),\n",
    "    axis=1\n",
    ")"
   ]
  },
  {
   "cell_type": "code",
   "execution_count": 129,
   "metadata": {},
   "outputs": [
    {
     "name": "stdout",
     "output_type": "stream",
     "text": [
      "True\n",
      "True\n"
     ]
    }
   ],
   "source": [
    "## verify results\n",
    "from pathlib import Path\n",
    "print(len([f for f in Path(local_path_train).iterdir() if f.is_file()])==df_train.shape[0])\n",
    "print(len([f for f in Path(local_path_test).iterdir() if f.is_file()])==df_test.shape[0])"
   ]
  },
  {
   "cell_type": "markdown",
   "metadata": {},
   "source": [
    "### 3. Load the data\n",
    "\n",
    "Now we can load the data into S3.\n",
    "\n",
    "Using the sagemaker SDK grab the current region, execution role, and bucket."
   ]
  },
  {
   "cell_type": "markdown",
   "metadata": {},
   "source": [
    "🟢 Tips:   \n",
    "* In Windows `Powershell`  \n",
    "    ```bash\n",
    "    $ Resolve-Path ~  \n",
    "    $ notepad C:\\Users\\*\\.aws\\credentials  \n",
    "    ```  \n",
    "* Add `aws_access_key_id`, `aws_secret_access_key`, and `aws_session_token` (if needed)  \n",
    "    ```bash  \n",
    "    $ cat ~/.aws/credentials  \n",
    "    ```  "
   ]
  },
  {
   "cell_type": "code",
   "execution_count": null,
   "metadata": {},
   "outputs": [
    {
     "data": {
      "text/html": [
       "<pre style=\"white-space:pre;overflow-x:auto;line-height:normal;font-family:Menlo,'DejaVu Sans Mono',consolas,'Courier New',monospace\"><span style=\"color: #7fbfbf; text-decoration-color: #7fbfbf\">[11/25/24 15:18:26] </span><span style=\"color: #0069ff; text-decoration-color: #0069ff; font-weight: bold\">INFO    </span> Found credentials in shared credentials file: ~<span style=\"color: #e100e1; text-decoration-color: #e100e1\">/.aws/credentials</span>   <a href=\"file://d:\\Users\\guido\\miniconda3\\envs\\awsmle_py310\\lib\\site-packages\\botocore\\credentials.py\" target=\"_blank\"><span style=\"color: #7f7f7f; text-decoration-color: #7f7f7f\">credentials.py</span></a><span style=\"color: #7f7f7f; text-decoration-color: #7f7f7f\">:</span><a href=\"file://d:\\Users\\guido\\miniconda3\\envs\\awsmle_py310\\lib\\site-packages\\botocore\\credentials.py#1278\" target=\"_blank\"><span style=\"color: #7f7f7f; text-decoration-color: #7f7f7f\">1278</span></a>\n",
       "</pre>\n"
      ],
      "text/plain": [
       "\u001b[2;36m[11/25/24 15:18:26]\u001b[0m\u001b[2;36m \u001b[0m\u001b[1;38;2;0;105;255mINFO    \u001b[0m Found credentials in shared credentials file: ~\u001b[38;2;225;0;225m/.aws/\u001b[0m\u001b[38;2;225;0;225mcredentials\u001b[0m   \u001b]8;id=463326;file://d:\\Users\\guido\\miniconda3\\envs\\awsmle_py310\\lib\\site-packages\\botocore\\credentials.py\u001b\\\u001b[2mcredentials.py\u001b[0m\u001b]8;;\u001b\\\u001b[2m:\u001b[0m\u001b]8;id=47538;file://d:\\Users\\guido\\miniconda3\\envs\\awsmle_py310\\lib\\site-packages\\botocore\\credentials.py#1278\u001b\\\u001b[2m1278\u001b[0m\u001b]8;;\u001b\\\n"
      ]
     },
     "metadata": {},
     "output_type": "display_data"
    },
    {
     "data": {
      "text/html": [
       "<pre style=\"white-space:pre;overflow-x:auto;line-height:normal;font-family:Menlo,'DejaVu Sans Mono',consolas,'Courier New',monospace\"><span style=\"color: #7fbfbf; text-decoration-color: #7fbfbf\">[11/25/24 15:18:27] </span><span style=\"color: #d7af00; text-decoration-color: #d7af00; font-weight: bold\">WARNING </span> Couldn't call <span style=\"color: #008700; text-decoration-color: #008700\">'get_role'</span> to get Role ARN from role name voclabs to get <a href=\"file://d:\\Users\\guido\\miniconda3\\envs\\awsmle_py310\\lib\\site-packages\\sagemaker\\session.py\" target=\"_blank\"><span style=\"color: #7f7f7f; text-decoration-color: #7f7f7f\">session.py</span></a><span style=\"color: #7f7f7f; text-decoration-color: #7f7f7f\">:</span><a href=\"file://d:\\Users\\guido\\miniconda3\\envs\\awsmle_py310\\lib\\site-packages\\sagemaker\\session.py#5902\" target=\"_blank\"><span style=\"color: #7f7f7f; text-decoration-color: #7f7f7f\">5902</span></a>\n",
       "<span style=\"color: #7fbfbf; text-decoration-color: #7fbfbf\">                    </span>         Role path.                                                             <span style=\"color: #7f7f7f; text-decoration-color: #7f7f7f\">               </span>\n",
       "</pre>\n"
      ],
      "text/plain": [
       "\u001b[2;36m[11/25/24 15:18:27]\u001b[0m\u001b[2;36m \u001b[0m\u001b[1;38;2;215;175;0mWARNING \u001b[0m Couldn't call \u001b[38;2;0;135;0m'get_role'\u001b[0m to get Role ARN from role name voclabs to get \u001b]8;id=608847;file://d:\\Users\\guido\\miniconda3\\envs\\awsmle_py310\\lib\\site-packages\\sagemaker\\session.py\u001b\\\u001b[2msession.py\u001b[0m\u001b]8;;\u001b\\\u001b[2m:\u001b[0m\u001b]8;id=584487;file://d:\\Users\\guido\\miniconda3\\envs\\awsmle_py310\\lib\\site-packages\\sagemaker\\session.py#5902\u001b\\\u001b[2m5902\u001b[0m\u001b]8;;\u001b\\\n",
       "\u001b[2;36m                    \u001b[0m         Role path.                                                             \u001b[2m               \u001b[0m\n"
      ]
     },
     "metadata": {},
     "output_type": "display_data"
    },
    {
     "name": "stdout",
     "output_type": "stream",
     "text": [
      "Role ARN: arn:aws:iam::807711953667:role/service-role/AmazonSageMaker-ExecutionRole-20241121T213663\n"
     ]
    },
    {
     "data": {
      "text/html": [
       "<pre style=\"white-space:pre;overflow-x:auto;line-height:normal;font-family:Menlo,'DejaVu Sans Mono',consolas,'Courier New',monospace\"><span style=\"color: #7fbfbf; text-decoration-color: #7fbfbf\">[11/25/24 15:18:28] </span><span style=\"color: #0069ff; text-decoration-color: #0069ff; font-weight: bold\">INFO    </span> Found credentials in shared credentials file: ~<span style=\"color: #e100e1; text-decoration-color: #e100e1\">/.aws/credentials</span>   <a href=\"file://d:\\Users\\guido\\miniconda3\\envs\\awsmle_py310\\lib\\site-packages\\botocore\\credentials.py\" target=\"_blank\"><span style=\"color: #7f7f7f; text-decoration-color: #7f7f7f\">credentials.py</span></a><span style=\"color: #7f7f7f; text-decoration-color: #7f7f7f\">:</span><a href=\"file://d:\\Users\\guido\\miniconda3\\envs\\awsmle_py310\\lib\\site-packages\\botocore\\credentials.py#1278\" target=\"_blank\"><span style=\"color: #7f7f7f; text-decoration-color: #7f7f7f\">1278</span></a>\n",
       "</pre>\n"
      ],
      "text/plain": [
       "\u001b[2;36m[11/25/24 15:18:28]\u001b[0m\u001b[2;36m \u001b[0m\u001b[1;38;2;0;105;255mINFO    \u001b[0m Found credentials in shared credentials file: ~\u001b[38;2;225;0;225m/.aws/\u001b[0m\u001b[38;2;225;0;225mcredentials\u001b[0m   \u001b]8;id=785975;file://d:\\Users\\guido\\miniconda3\\envs\\awsmle_py310\\lib\\site-packages\\botocore\\credentials.py\u001b\\\u001b[2mcredentials.py\u001b[0m\u001b]8;;\u001b\\\u001b[2m:\u001b[0m\u001b]8;id=26658;file://d:\\Users\\guido\\miniconda3\\envs\\awsmle_py310\\lib\\site-packages\\botocore\\credentials.py#1278\u001b\\\u001b[2m1278\u001b[0m\u001b]8;;\u001b\\\n"
      ]
     },
     "metadata": {},
     "output_type": "display_data"
    },
    {
     "name": "stdout",
     "output_type": "stream",
     "text": [
      "AWS Region: us-east-1\n",
      "Default Bucket: sagemaker-us-east-1-807711953667\n",
      "RoleArn: arn:aws:iam::807711953667:role/service-role/AmazonSageMaker-ExecutionRole-20241121T213663\n"
     ]
    }
   ],
   "source": [
    "import sagemaker # type: ignore\n",
    "from sagemaker import get_execution_role # type: ignore\n",
    "from sagemaker.session import Session # type: ignore\n",
    "\n",
    "role_arn = get_execution_role()  ## get role ARN\n",
    "if 'AmazonSageMaker-ExecutionRole' not in role_arn:\n",
    "    ## your own role here\n",
    "    role_arn = \"arn:aws:iam::807711953667:role/service-role/AmazonSageMaker-ExecutionRole-20241121T213663\"\n",
    "print(\"Role ARN:\", role_arn) ## If local, Role ARN: arn:aws:iam::807711953667:role/voclabs\n",
    "session = sagemaker.Session()\n",
    "region = session.boto_region_name\n",
    "bucket = session.default_bucket()\n",
    "\n",
    "print(\"AWS Region: {}\".format(region))\n",
    "print(\"Default Bucket: {}\".format(bucket))\n",
    "print(\"RoleArn: {}\".format(role_arn))"
   ]
  },
  {
   "cell_type": "markdown",
   "metadata": {},
   "source": [
    "With this data we can easily sync your data up into S3!"
   ]
  },
  {
   "cell_type": "code",
   "execution_count": null,
   "metadata": {},
   "outputs": [
    {
     "data": {
      "text/plain": [
       "0"
      ]
     },
     "execution_count": 123,
     "metadata": {},
     "output_type": "execute_result"
    }
   ],
   "source": [
    "import os\n",
    "os.environ[\"DEFAULT_S3_BUCKET\"] = bucket\n",
    "# !aws s3 sync ./train s3://${DEFAULT_S3_BUCKET}/train/\n",
    "# !aws s3 sync ./test s3://${DEFAULT_S3_BUCKET}/test/\n",
    "## Windows OS\n",
    "os.system(f'aws s3 sync ./train s3://{os.environ[\"DEFAULT_S3_BUCKET\"]}/train/')\n",
    "os.system(f'aws s3 sync ./test s3://{os.environ[\"DEFAULT_S3_BUCKET\"]}/test/')\n",
    "## go to AWS S3. all the pictures should have been uploaded to the bucket"
   ]
  },
  {
   "cell_type": "markdown",
   "metadata": {},
   "source": [
    "And that's it! You can check the bucket and verify that the items were uploaded.\n",
    "\n",
    "## Model Training\n",
    "\n",
    "For Image Classification, Sagemaker [also expects metadata](https://docs.aws.amazon.com/sagemaker/latest/dg/image-classification.html) e.g. in the form of TSV files with labels and filepaths. We can generate these using our Pandas DataFrames from earlier:"
   ]
  },
  {
   "cell_type": "code",
   "execution_count": 130,
   "metadata": {},
   "outputs": [],
   "source": [
    "def to_metadata_file(df, prefix):\n",
    "    df[\"s3_path\"] = df[\"filenames\"]\n",
    "    df[\"labels\"] = df[\"labels\"].apply(lambda x: 0 if x==8 else 1)\n",
    "    return df[[\"row\", \"labels\", \"s3_path\"]].to_csv(\n",
    "        f\"{prefix}.lst\", sep=\"\\t\", index=False, header=False\n",
    "    ) \n",
    "to_metadata_file(df_train.copy(), \"train\")\n",
    "to_metadata_file(df_test.copy(), \"test\")"
   ]
  },
  {
   "cell_type": "markdown",
   "metadata": {},
   "source": [
    "We can also upload our manifest files:"
   ]
  },
  {
   "cell_type": "code",
   "execution_count": 131,
   "metadata": {},
   "outputs": [
    {
     "data": {
      "text/html": [
       "<pre style=\"white-space:pre;overflow-x:auto;line-height:normal;font-family:Menlo,'DejaVu Sans Mono',consolas,'Courier New',monospace\"><span style=\"color: #7fbfbf; text-decoration-color: #7fbfbf\">[11/25/24 15:40:29] </span><span style=\"color: #0069ff; text-decoration-color: #0069ff; font-weight: bold\">INFO    </span> Found credentials in shared credentials file: ~<span style=\"color: #e100e1; text-decoration-color: #e100e1\">/.aws/credentials</span>   <a href=\"file://d:\\Users\\guido\\miniconda3\\envs\\awsmle_py310\\lib\\site-packages\\botocore\\credentials.py\" target=\"_blank\"><span style=\"color: #7f7f7f; text-decoration-color: #7f7f7f\">credentials.py</span></a><span style=\"color: #7f7f7f; text-decoration-color: #7f7f7f\">:</span><a href=\"file://d:\\Users\\guido\\miniconda3\\envs\\awsmle_py310\\lib\\site-packages\\botocore\\credentials.py#1278\" target=\"_blank\"><span style=\"color: #7f7f7f; text-decoration-color: #7f7f7f\">1278</span></a>\n",
       "</pre>\n"
      ],
      "text/plain": [
       "\u001b[2;36m[11/25/24 15:40:29]\u001b[0m\u001b[2;36m \u001b[0m\u001b[1;38;2;0;105;255mINFO    \u001b[0m Found credentials in shared credentials file: ~\u001b[38;2;225;0;225m/.aws/\u001b[0m\u001b[38;2;225;0;225mcredentials\u001b[0m   \u001b]8;id=215586;file://d:\\Users\\guido\\miniconda3\\envs\\awsmle_py310\\lib\\site-packages\\botocore\\credentials.py\u001b\\\u001b[2mcredentials.py\u001b[0m\u001b]8;;\u001b\\\u001b[2m:\u001b[0m\u001b]8;id=201840;file://d:\\Users\\guido\\miniconda3\\envs\\awsmle_py310\\lib\\site-packages\\botocore\\credentials.py#1278\u001b\\\u001b[2m1278\u001b[0m\u001b]8;;\u001b\\\n"
      ]
     },
     "metadata": {},
     "output_type": "display_data"
    },
    {
     "data": {
      "text/html": [
       "<pre style=\"white-space:pre;overflow-x:auto;line-height:normal;font-family:Menlo,'DejaVu Sans Mono',consolas,'Courier New',monospace\"><span style=\"color: #7fbfbf; text-decoration-color: #7fbfbf\">[11/25/24 15:40:30] </span><span style=\"color: #0069ff; text-decoration-color: #0069ff; font-weight: bold\">INFO    </span> Found credentials in shared credentials file: ~<span style=\"color: #e100e1; text-decoration-color: #e100e1\">/.aws/credentials</span>   <a href=\"file://d:\\Users\\guido\\miniconda3\\envs\\awsmle_py310\\lib\\site-packages\\botocore\\credentials.py\" target=\"_blank\"><span style=\"color: #7f7f7f; text-decoration-color: #7f7f7f\">credentials.py</span></a><span style=\"color: #7f7f7f; text-decoration-color: #7f7f7f\">:</span><a href=\"file://d:\\Users\\guido\\miniconda3\\envs\\awsmle_py310\\lib\\site-packages\\botocore\\credentials.py#1278\" target=\"_blank\"><span style=\"color: #7f7f7f; text-decoration-color: #7f7f7f\">1278</span></a>\n",
       "</pre>\n"
      ],
      "text/plain": [
       "\u001b[2;36m[11/25/24 15:40:30]\u001b[0m\u001b[2;36m \u001b[0m\u001b[1;38;2;0;105;255mINFO    \u001b[0m Found credentials in shared credentials file: ~\u001b[38;2;225;0;225m/.aws/\u001b[0m\u001b[38;2;225;0;225mcredentials\u001b[0m   \u001b]8;id=658976;file://d:\\Users\\guido\\miniconda3\\envs\\awsmle_py310\\lib\\site-packages\\botocore\\credentials.py\u001b\\\u001b[2mcredentials.py\u001b[0m\u001b]8;;\u001b\\\u001b[2m:\u001b[0m\u001b]8;id=139549;file://d:\\Users\\guido\\miniconda3\\envs\\awsmle_py310\\lib\\site-packages\\botocore\\credentials.py#1278\u001b\\\u001b[2m1278\u001b[0m\u001b]8;;\u001b\\\n"
      ]
     },
     "metadata": {},
     "output_type": "display_data"
    }
   ],
   "source": [
    "import boto3\n",
    "# Upload files\n",
    "boto3.Session().resource('s3').Bucket(\n",
    "    bucket).Object('train.lst').upload_file('./train.lst')\n",
    "boto3.Session().resource('s3').Bucket(\n",
    "    bucket).Object('test.lst').upload_file('./test.lst')"
   ]
  },
  {
   "cell_type": "markdown",
   "metadata": {},
   "source": [
    "Using the `bucket` and `region` info we can get the latest prebuilt container to run our training job, and define an output location on our s3 bucket for the model. Use the `image_uris` function from the SageMaker SDK to retrieve the latest `image-classification` image below:"
   ]
  },
  {
   "cell_type": "code",
   "execution_count": 135,
   "metadata": {},
   "outputs": [
    {
     "data": {
      "text/html": [
       "<pre style=\"white-space:pre;overflow-x:auto;line-height:normal;font-family:Menlo,'DejaVu Sans Mono',consolas,'Courier New',monospace\"><span style=\"color: #7fbfbf; text-decoration-color: #7fbfbf\">[11/25/24 15:53:22] </span><span style=\"color: #0069ff; text-decoration-color: #0069ff; font-weight: bold\">INFO    </span> Same images used for training and inference. Defaulting to image     <a href=\"file://d:\\Users\\guido\\miniconda3\\envs\\awsmle_py310\\lib\\site-packages\\sagemaker\\image_uris.py\" target=\"_blank\"><span style=\"color: #7f7f7f; text-decoration-color: #7f7f7f\">image_uris.py</span></a><span style=\"color: #7f7f7f; text-decoration-color: #7f7f7f\">:</span><a href=\"file://d:\\Users\\guido\\miniconda3\\envs\\awsmle_py310\\lib\\site-packages\\sagemaker\\image_uris.py#387\" target=\"_blank\"><span style=\"color: #7f7f7f; text-decoration-color: #7f7f7f\">387</span></a>\n",
       "<span style=\"color: #7fbfbf; text-decoration-color: #7fbfbf\">                    </span>         scope: inference.                                                    <span style=\"color: #7f7f7f; text-decoration-color: #7f7f7f\">                 </span>\n",
       "</pre>\n"
      ],
      "text/plain": [
       "\u001b[2;36m[11/25/24 15:53:22]\u001b[0m\u001b[2;36m \u001b[0m\u001b[1;38;2;0;105;255mINFO    \u001b[0m Same images used for training and inference. Defaulting to image     \u001b]8;id=140559;file://d:\\Users\\guido\\miniconda3\\envs\\awsmle_py310\\lib\\site-packages\\sagemaker\\image_uris.py\u001b\\\u001b[2mimage_uris.py\u001b[0m\u001b]8;;\u001b\\\u001b[2m:\u001b[0m\u001b]8;id=850440;file://d:\\Users\\guido\\miniconda3\\envs\\awsmle_py310\\lib\\site-packages\\sagemaker\\image_uris.py#387\u001b\\\u001b[2m387\u001b[0m\u001b]8;;\u001b\\\n",
       "\u001b[2;36m                    \u001b[0m         scope: inference.                                                    \u001b[2m                 \u001b[0m\n"
      ]
     },
     "metadata": {},
     "output_type": "display_data"
    },
    {
     "data": {
      "text/html": [
       "<pre style=\"white-space:pre;overflow-x:auto;line-height:normal;font-family:Menlo,'DejaVu Sans Mono',consolas,'Courier New',monospace\"><span style=\"color: #7fbfbf; text-decoration-color: #7fbfbf\">                    </span><span style=\"color: #d7af00; text-decoration-color: #d7af00; font-weight: bold\">WARNING </span> Defaulting to the only supported framework/algorithm version: <span style=\"color: #008080; text-decoration-color: #008080; font-weight: bold\">1</span>.     <a href=\"file://d:\\Users\\guido\\miniconda3\\envs\\awsmle_py310\\lib\\site-packages\\sagemaker\\image_uris.py\" target=\"_blank\"><span style=\"color: #7f7f7f; text-decoration-color: #7f7f7f\">image_uris.py</span></a><span style=\"color: #7f7f7f; text-decoration-color: #7f7f7f\">:</span><a href=\"file://d:\\Users\\guido\\miniconda3\\envs\\awsmle_py310\\lib\\site-packages\\sagemaker\\image_uris.py#485\" target=\"_blank\"><span style=\"color: #7f7f7f; text-decoration-color: #7f7f7f\">485</span></a>\n",
       "<span style=\"color: #7fbfbf; text-decoration-color: #7fbfbf\">                    </span>         Ignoring framework/algorithm version: latest.                        <span style=\"color: #7f7f7f; text-decoration-color: #7f7f7f\">                 </span>\n",
       "</pre>\n"
      ],
      "text/plain": [
       "\u001b[2;36m                   \u001b[0m\u001b[2;36m \u001b[0m\u001b[1;38;2;215;175;0mWARNING \u001b[0m Defaulting to the only supported framework/algorithm version: \u001b[1;36m1\u001b[0m.     \u001b]8;id=244990;file://d:\\Users\\guido\\miniconda3\\envs\\awsmle_py310\\lib\\site-packages\\sagemaker\\image_uris.py\u001b\\\u001b[2mimage_uris.py\u001b[0m\u001b]8;;\u001b\\\u001b[2m:\u001b[0m\u001b]8;id=497799;file://d:\\Users\\guido\\miniconda3\\envs\\awsmle_py310\\lib\\site-packages\\sagemaker\\image_uris.py#485\u001b\\\u001b[2m485\u001b[0m\u001b]8;;\u001b\\\n",
       "\u001b[2;36m                    \u001b[0m         Ignoring framework/algorithm version: latest.                        \u001b[2m                 \u001b[0m\n"
      ]
     },
     "metadata": {},
     "output_type": "display_data"
    },
    {
     "data": {
      "text/html": [
       "<pre style=\"white-space:pre;overflow-x:auto;line-height:normal;font-family:Menlo,'DejaVu Sans Mono',consolas,'Courier New',monospace\"><span style=\"color: #7fbfbf; text-decoration-color: #7fbfbf\">                    </span><span style=\"color: #0069ff; text-decoration-color: #0069ff; font-weight: bold\">INFO    </span> Ignoring unnecessary instance type: <span style=\"color: #e100e1; text-decoration-color: #e100e1; font-style: italic\">None</span>.                            <a href=\"file://d:\\Users\\guido\\miniconda3\\envs\\awsmle_py310\\lib\\site-packages\\sagemaker\\image_uris.py\" target=\"_blank\"><span style=\"color: #7f7f7f; text-decoration-color: #7f7f7f\">image_uris.py</span></a><span style=\"color: #7f7f7f; text-decoration-color: #7f7f7f\">:</span><a href=\"file://d:\\Users\\guido\\miniconda3\\envs\\awsmle_py310\\lib\\site-packages\\sagemaker\\image_uris.py#523\" target=\"_blank\"><span style=\"color: #7f7f7f; text-decoration-color: #7f7f7f\">523</span></a>\n",
       "</pre>\n"
      ],
      "text/plain": [
       "\u001b[2;36m                   \u001b[0m\u001b[2;36m \u001b[0m\u001b[1;38;2;0;105;255mINFO    \u001b[0m Ignoring unnecessary instance type: \u001b[3;38;2;225;0;225mNone\u001b[0m.                            \u001b]8;id=195657;file://d:\\Users\\guido\\miniconda3\\envs\\awsmle_py310\\lib\\site-packages\\sagemaker\\image_uris.py\u001b\\\u001b[2mimage_uris.py\u001b[0m\u001b]8;;\u001b\\\u001b[2m:\u001b[0m\u001b]8;id=848899;file://d:\\Users\\guido\\miniconda3\\envs\\awsmle_py310\\lib\\site-packages\\sagemaker\\image_uris.py#523\u001b\\\u001b[2m523\u001b[0m\u001b]8;;\u001b\\\n"
      ]
     },
     "metadata": {},
     "output_type": "display_data"
    }
   ],
   "source": [
    "# Use the image_uris function to retrieve the latest 'image-classification' image \n",
    "algo_image = sagemaker.image_uris.retrieve(\"image-classification\", region, version='latest') ## TODO: fill in\n",
    "s3_model_output = f\"s3://{bucket}/models/cifar_image_model\""
   ]
  },
  {
   "cell_type": "markdown",
   "metadata": {},
   "source": [
    "🟢 Tips: \n",
    "* Check `AWS > Documentation > Amazon SageMaker > ECR Paths`  \n",
    "    [Docker Registry Paths and Example Code for US East (N. Virginia) (us-east-1)](https://docs.aws.amazon.com/sagemaker/latest/dg-ecr-paths/ecr-us-east-1.html)    \n",
    "    [Image classification (algorithm)](https://docs.aws.amazon.com/sagemaker/latest/dg-ecr-paths/ecr-us-east-1.html#image-classification-us-east-1)    "
   ]
  },
  {
   "cell_type": "markdown",
   "metadata": {},
   "source": [
    "We're ready to create an estimator! Create an estimator `img_classifier_model` that uses one instance of `ml.p3.2xlarge` ``. Ensure that y ou use the output location we defined above - we'll be referring to that later!  "
   ]
  },
  {
   "cell_type": "code",
   "execution_count": 141,
   "metadata": {},
   "outputs": [],
   "source": [
    "img_classifier_model=sagemaker.estimator.Estimator(\n",
    "    ## TODO: define your estimator options  \n",
    "    image_uri=algo_image,\n",
    "    role=role_arn,\n",
    "    instance_count=1,\n",
    "    instance_type='ml.p3.2xlarge',\n",
    "    volume_size=5,\n",
    "    output_path=s3_model_output,\n",
    "    sagemaker_session=session  \n",
    ")"
   ]
  },
  {
   "cell_type": "markdown",
   "metadata": {},
   "source": [
    "We can also set a few key hyperparameters and define the inputs for our model:"
   ]
  },
  {
   "cell_type": "code",
   "execution_count": 142,
   "metadata": {},
   "outputs": [],
   "source": [
    "img_classifier_model.set_hyperparameters(\n",
    "    image_shape=\"3,32,32\", # TODO: Fill in\n",
    "    num_classes=2, # TODO: Fill in\n",
    "    num_training_samples=1000 # TODO: fill in\n",
    ")"
   ]
  },
  {
   "cell_type": "markdown",
   "metadata": {},
   "source": [
    "The `image-classification` image uses four input channels with very specific input parameters. For convenience, we've provided them below:"
   ]
  },
  {
   "cell_type": "code",
   "execution_count": 143,
   "metadata": {},
   "outputs": [],
   "source": [
    "from sagemaker.debugger import Rule, rule_configs\n",
    "from sagemaker.session import TrainingInput\n",
    "model_inputs = {\n",
    "        \"train\": sagemaker.inputs.TrainingInput(\n",
    "            s3_data=f\"s3://{bucket}/train/\",\n",
    "            content_type=\"application/x-image\"\n",
    "        ),\n",
    "        \"validation\": sagemaker.inputs.TrainingInput(\n",
    "            s3_data=f\"s3://{bucket}/test/\",\n",
    "            content_type=\"application/x-image\"\n",
    "        ),\n",
    "        \"train_lst\": sagemaker.inputs.TrainingInput(\n",
    "            s3_data=f\"s3://{bucket}/train.lst\",\n",
    "            content_type=\"application/x-image\"\n",
    "        ),\n",
    "        \"validation_lst\": sagemaker.inputs.TrainingInput(\n",
    "            s3_data=f\"s3://{bucket}/test.lst\",\n",
    "            content_type=\"application/x-image\"\n",
    "        )\n",
    "}"
   ]
  },
  {
   "cell_type": "markdown",
   "metadata": {},
   "source": [
    "Great, now we can train the model using the model_inputs. In the cell below, call the `fit` method on our model,:"
   ]
  },
  {
   "cell_type": "code",
   "execution_count": null,
   "metadata": {},
   "outputs": [
    {
     "data": {
      "text/html": [
       "<pre style=\"white-space:pre;overflow-x:auto;line-height:normal;font-family:Menlo,'DejaVu Sans Mono',consolas,'Courier New',monospace\"><span style=\"color: #7fbfbf; text-decoration-color: #7fbfbf\">[11/25/24 16:18:30] </span><span style=\"color: #0069ff; text-decoration-color: #0069ff; font-weight: bold\">INFO    </span> Creating training-job with name:                                       <a href=\"file://d:\\Users\\guido\\miniconda3\\envs\\awsmle_py310\\lib\\site-packages\\sagemaker\\session.py\" target=\"_blank\"><span style=\"color: #7f7f7f; text-decoration-color: #7f7f7f\">session.py</span></a><span style=\"color: #7f7f7f; text-decoration-color: #7f7f7f\">:</span><a href=\"file://d:\\Users\\guido\\miniconda3\\envs\\awsmle_py310\\lib\\site-packages\\sagemaker\\session.py#1042\" target=\"_blank\"><span style=\"color: #7f7f7f; text-decoration-color: #7f7f7f\">1042</span></a>\n",
       "<span style=\"color: #7fbfbf; text-decoration-color: #7fbfbf\">                    </span>         image-classification-<span style=\"color: #008080; text-decoration-color: #008080; font-weight: bold\">2024</span>-11-25-22-18-30-465                           <span style=\"color: #7f7f7f; text-decoration-color: #7f7f7f\">               </span>\n",
       "</pre>\n"
      ],
      "text/plain": [
       "\u001b[2;36m[11/25/24 16:18:30]\u001b[0m\u001b[2;36m \u001b[0m\u001b[1;38;2;0;105;255mINFO    \u001b[0m Creating training-job with name:                                       \u001b]8;id=132624;file://d:\\Users\\guido\\miniconda3\\envs\\awsmle_py310\\lib\\site-packages\\sagemaker\\session.py\u001b\\\u001b[2msession.py\u001b[0m\u001b]8;;\u001b\\\u001b[2m:\u001b[0m\u001b]8;id=276209;file://d:\\Users\\guido\\miniconda3\\envs\\awsmle_py310\\lib\\site-packages\\sagemaker\\session.py#1042\u001b\\\u001b[2m1042\u001b[0m\u001b]8;;\u001b\\\n",
       "\u001b[2;36m                    \u001b[0m         image-classification-\u001b[1;36m2024\u001b[0m-11-25-22-18-30-465                           \u001b[2m               \u001b[0m\n"
      ]
     },
     "metadata": {},
     "output_type": "display_data"
    },
    {
     "name": "stdout",
     "output_type": "stream",
     "text": [
      "2024-11-25 22:18:31 Starting - Starting the training job......\n",
      "2024-11-25 22:19:14 Pending - Training job waiting for capacity.........\n",
      "2024-11-25 22:21:09 Pending - Preparing the instances for training...\n",
      "2024-11-25 22:21:45 Downloading - Downloading input data...\n",
      "2024-11-25 22:22:05 Downloading - Downloading the training image...........................\n",
      "2024-11-25 22:26:53 Training - Training image download completed. Training in progress..Docker entrypoint called with argument(s): train\n",
      "Running default environment configuration script\n",
      "Nvidia gpu devices, drivers and cuda toolkit versions (only available on hosts with GPU):\n",
      "Mon Nov 25 22:27:15 2024       \n",
      "+-----------------------------------------------------------------------------------------+\n",
      "| NVIDIA-SMI 550.127.05             Driver Version: 550.127.05     CUDA Version: 12.4     |\n",
      "|-----------------------------------------+------------------------+----------------------+\n",
      "| GPU  Name                 Persistence-M | Bus-Id          Disp.A | Volatile Uncorr. ECC |\n",
      "| Fan  Temp   Perf          Pwr:Usage/Cap |           Memory-Usage | GPU-Util  Compute M. |\n",
      "|                                         |                        |               MIG M. |\n",
      "|=========================================+========================+======================|\n",
      "|   0  Tesla V100-SXM2-16GB           On  |   00000000:00:1E.0 Off |                    0 |\n",
      "| N/A   37C    P0             25W /  300W |       1MiB /  16384MiB |      0%      Default |\n",
      "|                                         |                        |                  N/A |\n",
      "+-----------------------------------------+------------------------+----------------------+\n",
      "                                                                                         \n",
      "+-----------------------------------------------------------------------------------------+\n",
      "| Processes:                                                                              |\n",
      "|  GPU   GI   CI        PID   Type   Process name                              GPU Memory |\n",
      "|        ID   ID                                                               Usage      |\n",
      "|=========================================================================================|\n",
      "|  No running processes found                                                             |\n",
      "+-----------------------------------------------------------------------------------------+\n",
      "Checking for nvidia driver and cuda compatibility.\n",
      "CUDA Compatibility driver provided.\n",
      "Proceeding with compatibility check between driver, cuda-toolkit and cuda-compat.\n",
      "Detected cuda-toolkit version: 11.1.\n",
      "Detected cuda-compat version: 455.32.00.\n",
      "Detected Nvidia driver version: 550.127.05.\n",
      "Nvidia driver compatible with cuda-toolkit. Disabling cuda-compat.\n",
      "/opt/amazon/lib/python3.8/site-packages/mxnet/model.py:97: SyntaxWarning: \"is\" with a literal. Did you mean \"==\"?\n",
      "  if num_device is 1 and 'dist' not in kvstore:\n",
      "[11/25/2024 22:27:19 INFO 140036257187648] Reading default configuration from /opt/amazon/lib/python3.8/site-packages/image_classification/default-input.json: {'use_pretrained_model': 0, 'num_layers': 152, 'epochs': 30, 'learning_rate': 0.1, 'lr_scheduler_factor': 0.1, 'optimizer': 'sgd', 'momentum': 0, 'weight_decay': 0.0001, 'beta_1': 0.9, 'beta_2': 0.999, 'eps': 1e-08, 'gamma': 0.9, 'mini_batch_size': 32, 'image_shape': '3,224,224', 'precision_dtype': 'float32'}\n",
      "[11/25/2024 22:27:19 INFO 140036257187648] Merging with provided configuration from /opt/ml/input/config/hyperparameters.json: {'image_shape': '3,32,32', 'num_classes': '2', 'num_training_samples': '1000'}\n",
      "[11/25/2024 22:27:19 INFO 140036257187648] Final configuration: {'use_pretrained_model': 0, 'num_layers': 152, 'epochs': 30, 'learning_rate': 0.1, 'lr_scheduler_factor': 0.1, 'optimizer': 'sgd', 'momentum': 0, 'weight_decay': 0.0001, 'beta_1': 0.9, 'beta_2': 0.999, 'eps': 1e-08, 'gamma': 0.9, 'mini_batch_size': 32, 'image_shape': '3,32,32', 'precision_dtype': 'float32', 'num_classes': '2', 'num_training_samples': '1000'}\n",
      "[11/25/2024 22:27:19 INFO 140036257187648] Searching for .lst files in /opt/ml/input/data/train_lst.\n",
      "[11/25/2024 22:27:19 INFO 140036257187648] Creating record files for train.lst\n",
      "[11/25/2024 22:27:19 INFO 140036257187648] Done creating record files...\n",
      "[11/25/2024 22:27:19 INFO 140036257187648] Searching for .lst files in /opt/ml/input/data/validation_lst.\n",
      "[11/25/2024 22:27:19 INFO 140036257187648] Creating record files for test.lst\n",
      "[11/25/2024 22:27:19 INFO 140036257187648] Done creating record files...\n",
      "[11/25/2024 22:27:19 INFO 140036257187648] use_pretrained_model: 0\n",
      "[11/25/2024 22:27:19 INFO 140036257187648] multi_label: 0\n",
      "[11/25/2024 22:27:19 INFO 140036257187648] Performing random weight initialization\n",
      "[11/25/2024 22:27:19 INFO 140036257187648] ---- Parameters ----\n",
      "[11/25/2024 22:27:19 INFO 140036257187648] num_layers: 152\n",
      "[11/25/2024 22:27:19 INFO 140036257187648] data type: <class 'numpy.float32'>\n",
      "[11/25/2024 22:27:19 INFO 140036257187648] epochs: 30\n",
      "[11/25/2024 22:27:19 INFO 140036257187648] optimizer: sgd\n",
      "[11/25/2024 22:27:19 INFO 140036257187648] momentum: 0.9\n",
      "[11/25/2024 22:27:19 INFO 140036257187648] weight_decay: 0.0001\n",
      "[11/25/2024 22:27:19 INFO 140036257187648] learning_rate: 0.1\n",
      "[11/25/2024 22:27:19 INFO 140036257187648] num_training_samples: 1000\n",
      "[11/25/2024 22:27:19 INFO 140036257187648] mini_batch_size: 32\n",
      "[11/25/2024 22:27:19 INFO 140036257187648] image_shape: 3,32,32\n",
      "[11/25/2024 22:27:19 INFO 140036257187648] num_classes: 2\n",
      "[11/25/2024 22:27:19 INFO 140036257187648] augmentation_type: None\n",
      "[11/25/2024 22:27:19 INFO 140036257187648] kv_store: device\n",
      "[11/25/2024 22:27:19 INFO 140036257187648] checkpoint_frequency not set, will store the best model\n",
      "[11/25/2024 22:27:19 INFO 140036257187648] --------------------\n",
      "/opt/amazon/python3.8/lib/python3.8/subprocess.py:848: RuntimeWarning: line buffering (buffering=1) isn't supported in binary mode, the default buffer size will be used\n",
      "  self.stdout = io.open(c2pread, 'rb', bufsize)\n",
      "[11/25/2024 22:27:19 INFO 140036257187648] Setting number of threads: 7\n",
      "[22:27:23] /opt/brazil-pkg-cache/packages/AIAlgorithmsMXNet/AIAlgorithmsMXNet-1.4.x_ecl_Cuda_11.1.x.441.0/AL2_x86_64/generic-flavor/src/src/operator/nn/./cudnn/./cudnn_algoreg-inl.h:97: Running performance tests to find the best convolution algorithm, this can take a while... (setting env variable MXNET_CUDNN_AUTOTUNE_DEFAULT to 0 to disable)\n",
      "[11/25/2024 22:27:28 INFO 140036257187648] Epoch[0] Batch [20]#011Speed: 123.925 samples/sec#011accuracy=0.558036\n",
      "[11/25/2024 22:27:30 INFO 140036257187648] Epoch[0] Train-accuracy=0.593750\n",
      "[11/25/2024 22:27:30 INFO 140036257187648] Epoch[0] Time cost=6.803\n",
      "[11/25/2024 22:27:30 INFO 140036257187648] Epoch[0] Validation-accuracy=0.453125\n",
      "[11/25/2024 22:27:31 INFO 140036257187648] Storing the best model with validation accuracy: 0.453125\n",
      "[11/25/2024 22:27:31 INFO 140036257187648] Saved checkpoint to \"/opt/ml/model/image-classification-0001.params\"\n",
      "[11/25/2024 22:27:34 INFO 140036257187648] Epoch[1] Batch [20]#011Speed: 190.458 samples/sec#011accuracy=0.688988\n",
      "[11/25/2024 22:27:36 INFO 140036257187648] Epoch[1] Train-accuracy=0.704637\n",
      "[11/25/2024 22:27:36 INFO 140036257187648] Epoch[1] Time cost=5.013\n",
      "[11/25/2024 22:27:37 INFO 140036257187648] Epoch[1] Validation-accuracy=0.713542\n",
      "[11/25/2024 22:27:37 INFO 140036257187648] Storing the best model with validation accuracy: 0.713542\n",
      "[11/25/2024 22:27:37 INFO 140036257187648] Saved checkpoint to \"/opt/ml/model/image-classification-0002.params\"\n",
      "[11/25/2024 22:27:41 INFO 140036257187648] Epoch[2] Batch [20]#011Speed: 191.918 samples/sec#011accuracy=0.699405\n",
      "[11/25/2024 22:27:42 INFO 140036257187648] Epoch[2] Train-accuracy=0.699597\n",
      "[11/25/2024 22:27:42 INFO 140036257187648] Epoch[2] Time cost=4.951\n",
      "[11/25/2024 22:27:43 INFO 140036257187648] Epoch[2] Validation-accuracy=0.791667\n",
      "[11/25/2024 22:27:43 INFO 140036257187648] Storing the best model with validation accuracy: 0.791667\n",
      "[11/25/2024 22:27:43 INFO 140036257187648] Saved checkpoint to \"/opt/ml/model/image-classification-0003.params\"\n",
      "[11/25/2024 22:27:47 INFO 140036257187648] Epoch[3] Batch [20]#011Speed: 194.959 samples/sec#011accuracy=0.714286\n",
      "[11/25/2024 22:27:48 INFO 140036257187648] Epoch[3] Train-accuracy=0.747984\n",
      "[11/25/2024 22:27:48 INFO 140036257187648] Epoch[3] Time cost=4.905\n",
      "[11/25/2024 22:27:49 INFO 140036257187648] Epoch[3] Validation-accuracy=0.830357\n",
      "[11/25/2024 22:27:49 INFO 140036257187648] Storing the best model with validation accuracy: 0.830357\n",
      "[11/25/2024 22:27:49 INFO 140036257187648] Saved checkpoint to \"/opt/ml/model/image-classification-0004.params\"\n",
      "[11/25/2024 22:27:53 INFO 140036257187648] Epoch[4] Batch [20]#011Speed: 193.156 samples/sec#011accuracy=0.809524\n",
      "[11/25/2024 22:27:54 INFO 140036257187648] Epoch[4] Train-accuracy=0.793347\n",
      "[11/25/2024 22:27:54 INFO 140036257187648] Epoch[4] Time cost=4.926\n",
      "[11/25/2024 22:27:55 INFO 140036257187648] Epoch[4] Validation-accuracy=0.838542\n",
      "[11/25/2024 22:27:55 INFO 140036257187648] Storing the best model with validation accuracy: 0.838542\n",
      "[11/25/2024 22:27:55 INFO 140036257187648] Saved checkpoint to \"/opt/ml/model/image-classification-0005.params\"\n",
      "[11/25/2024 22:27:59 INFO 140036257187648] Epoch[5] Batch [20]#011Speed: 192.720 samples/sec#011accuracy=0.811012\n",
      "[11/25/2024 22:28:00 INFO 140036257187648] Epoch[5] Train-accuracy=0.805444\n",
      "[11/25/2024 22:28:00 INFO 140036257187648] Epoch[5] Time cost=4.929\n",
      "[11/25/2024 22:28:01 INFO 140036257187648] Epoch[5] Validation-accuracy=0.833333\n",
      "[11/25/2024 22:28:05 INFO 140036257187648] Epoch[6] Batch [20]#011Speed: 189.213 samples/sec#011accuracy=0.816964\n",
      "[11/25/2024 22:28:06 INFO 140036257187648] Epoch[6] Train-accuracy=0.819556\n",
      "[11/25/2024 22:28:06 INFO 140036257187648] Epoch[6] Time cost=5.013\n",
      "[11/25/2024 22:28:07 INFO 140036257187648] Epoch[6] Validation-accuracy=0.833333\n",
      "[11/25/2024 22:28:11 INFO 140036257187648] Epoch[7] Batch [20]#011Speed: 192.202 samples/sec#011accuracy=0.831845\n",
      "[11/25/2024 22:28:12 INFO 140036257187648] Epoch[7] Train-accuracy=0.833669\n",
      "[11/25/2024 22:28:12 INFO 140036257187648] Epoch[7] Time cost=4.951\n",
      "[11/25/2024 22:28:13 INFO 140036257187648] Epoch[7] Validation-accuracy=0.812500\n",
      "[11/25/2024 22:28:16 INFO 140036257187648] Epoch[8] Batch [20]#011Speed: 192.449 samples/sec#011accuracy=0.855655\n",
      "[11/25/2024 22:28:18 INFO 140036257187648] Epoch[8] Train-accuracy=0.851815\n",
      "[11/25/2024 22:28:18 INFO 140036257187648] Epoch[8] Time cost=4.935\n",
      "[11/25/2024 22:28:19 INFO 140036257187648] Epoch[8] Validation-accuracy=0.812500\n",
      "[11/25/2024 22:28:22 INFO 140036257187648] Epoch[9] Batch [20]#011Speed: 193.855 samples/sec#011accuracy=0.836310\n",
      "[11/25/2024 22:28:24 INFO 140036257187648] Epoch[9] Train-accuracy=0.832661\n",
      "[11/25/2024 22:28:24 INFO 140036257187648] Epoch[9] Time cost=4.920\n",
      "[11/25/2024 22:28:24 INFO 140036257187648] Epoch[9] Validation-accuracy=0.822917\n",
      "[11/25/2024 22:28:28 INFO 140036257187648] Epoch[10] Batch [20]#011Speed: 192.944 samples/sec#011accuracy=0.872024\n",
      "[11/25/2024 22:28:30 INFO 140036257187648] Epoch[10] Train-accuracy=0.858871\n",
      "[11/25/2024 22:28:30 INFO 140036257187648] Epoch[10] Time cost=4.934\n",
      "[11/25/2024 22:28:30 INFO 140036257187648] Epoch[10] Validation-accuracy=0.833333\n",
      "[11/25/2024 22:28:34 INFO 140036257187648] Epoch[11] Batch [20]#011Speed: 194.195 samples/sec#011accuracy=0.872024\n",
      "[11/25/2024 22:28:36 INFO 140036257187648] Epoch[11] Train-accuracy=0.873992\n",
      "[11/25/2024 22:28:36 INFO 140036257187648] Epoch[11] Time cost=4.909\n",
      "[11/25/2024 22:28:36 INFO 140036257187648] Epoch[11] Validation-accuracy=0.816964\n",
      "[11/25/2024 22:28:40 INFO 140036257187648] Epoch[12] Batch [20]#011Speed: 193.577 samples/sec#011accuracy=0.927083\n",
      "[11/25/2024 22:28:41 INFO 140036257187648] Epoch[12] Train-accuracy=0.907258\n",
      "[11/25/2024 22:28:41 INFO 140036257187648] Epoch[12] Time cost=4.929\n",
      "[11/25/2024 22:28:42 INFO 140036257187648] Epoch[12] Validation-accuracy=0.812500\n",
      "[11/25/2024 22:28:46 INFO 140036257187648] Epoch[13] Batch [20]#011Speed: 194.219 samples/sec#011accuracy=0.873512\n",
      "[11/25/2024 22:28:47 INFO 140036257187648] Epoch[13] Train-accuracy=0.884073\n",
      "[11/25/2024 22:28:47 INFO 140036257187648] Epoch[13] Time cost=4.920\n",
      "[11/25/2024 22:28:48 INFO 140036257187648] Epoch[13] Validation-accuracy=0.838542\n",
      "[11/25/2024 22:28:52 INFO 140036257187648] Epoch[14] Batch [20]#011Speed: 193.544 samples/sec#011accuracy=0.950893\n",
      "[11/25/2024 22:28:53 INFO 140036257187648] Epoch[14] Train-accuracy=0.947581\n",
      "[11/25/2024 22:28:53 INFO 140036257187648] Epoch[14] Time cost=4.925\n",
      "[11/25/2024 22:28:54 INFO 140036257187648] Epoch[14] Validation-accuracy=0.843750\n",
      "[11/25/2024 22:28:54 INFO 140036257187648] Storing the best model with validation accuracy: 0.843750\n",
      "[11/25/2024 22:28:54 INFO 140036257187648] Saved checkpoint to \"/opt/ml/model/image-classification-0015.params\"\n",
      "[11/25/2024 22:28:58 INFO 140036257187648] Epoch[15] Batch [20]#011Speed: 193.724 samples/sec#011accuracy=0.924107\n",
      "[11/25/2024 22:28:59 INFO 140036257187648] Epoch[15] Train-accuracy=0.913306\n",
      "[11/25/2024 22:28:59 INFO 140036257187648] Epoch[15] Time cost=4.914\n",
      "[11/25/2024 22:29:00 INFO 140036257187648] Epoch[15] Validation-accuracy=0.848214\n",
      "[11/25/2024 22:29:00 INFO 140036257187648] Storing the best model with validation accuracy: 0.848214\n",
      "[11/25/2024 22:29:00 INFO 140036257187648] Saved checkpoint to \"/opt/ml/model/image-classification-0016.params\"\n",
      "[11/25/2024 22:29:04 INFO 140036257187648] Epoch[16] Batch [20]#011Speed: 187.678 samples/sec#011accuracy=0.934524\n",
      "[11/25/2024 22:29:05 INFO 140036257187648] Epoch[16] Train-accuracy=0.926411\n",
      "[11/25/2024 22:29:05 INFO 140036257187648] Epoch[16] Time cost=5.029\n",
      "[11/25/2024 22:29:06 INFO 140036257187648] Epoch[16] Validation-accuracy=0.791667\n",
      "[11/25/2024 22:29:10 INFO 140036257187648] Epoch[17] Batch [20]#011Speed: 194.577 samples/sec#011accuracy=0.956845\n",
      "[11/25/2024 22:29:11 INFO 140036257187648] Epoch[17] Train-accuracy=0.946573\n",
      "[11/25/2024 22:29:11 INFO 140036257187648] Epoch[17] Time cost=4.912\n",
      "[11/25/2024 22:29:12 INFO 140036257187648] Epoch[17] Validation-accuracy=0.791667\n",
      "[11/25/2024 22:29:16 INFO 140036257187648] Epoch[18] Batch [20]#011Speed: 195.573 samples/sec#011accuracy=0.916667\n",
      "[11/25/2024 22:29:17 INFO 140036257187648] Epoch[18] Train-accuracy=0.916331\n",
      "[11/25/2024 22:29:17 INFO 140036257187648] Epoch[18] Time cost=4.893\n",
      "[11/25/2024 22:29:18 INFO 140036257187648] Epoch[18] Validation-accuracy=0.885417\n",
      "[11/25/2024 22:29:18 INFO 140036257187648] Storing the best model with validation accuracy: 0.885417\n",
      "[11/25/2024 22:29:18 INFO 140036257187648] Saved checkpoint to \"/opt/ml/model/image-classification-0019.params\"\n",
      "[11/25/2024 22:29:22 INFO 140036257187648] Epoch[19] Batch [20]#011Speed: 193.950 samples/sec#011accuracy=0.941964\n",
      "[11/25/2024 22:29:23 INFO 140036257187648] Epoch[19] Train-accuracy=0.944556\n",
      "[11/25/2024 22:29:23 INFO 140036257187648] Epoch[19] Time cost=4.920\n",
      "[11/25/2024 22:29:24 INFO 140036257187648] Epoch[19] Validation-accuracy=0.821429\n",
      "[11/25/2024 22:29:28 INFO 140036257187648] Epoch[20] Batch [20]#011Speed: 192.842 samples/sec#011accuracy=0.974702\n",
      "[11/25/2024 22:29:29 INFO 140036257187648] Epoch[20] Train-accuracy=0.971774\n",
      "[11/25/2024 22:29:29 INFO 140036257187648] Epoch[20] Time cost=4.933\n",
      "[11/25/2024 22:29:30 INFO 140036257187648] Epoch[20] Validation-accuracy=0.796875\n",
      "[11/25/2024 22:29:33 INFO 140036257187648] Epoch[21] Batch [20]#011Speed: 193.677 samples/sec#011accuracy=0.971726\n",
      "[11/25/2024 22:29:35 INFO 140036257187648] Epoch[21] Train-accuracy=0.969758\n",
      "[11/25/2024 22:29:35 INFO 140036257187648] Epoch[21] Time cost=4.907\n",
      "[11/25/2024 22:29:35 INFO 140036257187648] Epoch[21] Validation-accuracy=0.786458\n",
      "[11/25/2024 22:29:39 INFO 140036257187648] Epoch[22] Batch [20]#011Speed: 194.993 samples/sec#011accuracy=0.958333\n",
      "[11/25/2024 22:29:41 INFO 140036257187648] Epoch[22] Train-accuracy=0.960685\n",
      "[11/25/2024 22:29:41 INFO 140036257187648] Epoch[22] Time cost=4.922\n",
      "[11/25/2024 22:29:41 INFO 140036257187648] Epoch[22] Validation-accuracy=0.822917\n",
      "[11/25/2024 22:29:45 INFO 140036257187648] Epoch[23] Batch [20]#011Speed: 195.437 samples/sec#011accuracy=0.973214\n",
      "[11/25/2024 22:29:47 INFO 140036257187648] Epoch[23] Train-accuracy=0.963710\n",
      "[11/25/2024 22:29:47 INFO 140036257187648] Epoch[23] Time cost=4.884\n",
      "[11/25/2024 22:29:47 INFO 140036257187648] Epoch[23] Validation-accuracy=0.772321\n",
      "[11/25/2024 22:29:51 INFO 140036257187648] Epoch[24] Batch [20]#011Speed: 191.059 samples/sec#011accuracy=0.968750\n",
      "[11/25/2024 22:29:52 INFO 140036257187648] Epoch[24] Train-accuracy=0.975806\n",
      "[11/25/2024 22:29:52 INFO 140036257187648] Epoch[24] Time cost=4.959\n",
      "[11/25/2024 22:29:53 INFO 140036257187648] Epoch[24] Validation-accuracy=0.864583\n",
      "[11/25/2024 22:29:57 INFO 140036257187648] Epoch[25] Batch [20]#011Speed: 192.825 samples/sec#011accuracy=0.979167\n",
      "[11/25/2024 22:29:58 INFO 140036257187648] Epoch[25] Train-accuracy=0.981855\n",
      "[11/25/2024 22:29:58 INFO 140036257187648] Epoch[25] Time cost=4.953\n",
      "[11/25/2024 22:29:59 INFO 140036257187648] Epoch[25] Validation-accuracy=0.802083\n",
      "[11/25/2024 22:30:03 INFO 140036257187648] Epoch[26] Batch [20]#011Speed: 189.286 samples/sec#011accuracy=0.947917\n",
      "[11/25/2024 22:30:04 INFO 140036257187648] Epoch[26] Train-accuracy=0.954637\n",
      "[11/25/2024 22:30:04 INFO 140036257187648] Epoch[26] Time cost=5.011\n",
      "[11/25/2024 22:30:05 INFO 140036257187648] Epoch[26] Validation-accuracy=0.828125\n",
      "[11/25/2024 22:30:08 INFO 140036257187648] Epoch[27] Batch [20]#011Speed: 194.285 samples/sec#011accuracy=0.977679\n",
      "[11/25/2024 22:30:10 INFO 140036257187648] Epoch[27] Train-accuracy=0.973790\n",
      "[11/25/2024 22:30:10 INFO 140036257187648] Epoch[27] Time cost=4.896\n",
      "[11/25/2024 22:30:11 INFO 140036257187648] Epoch[27] Validation-accuracy=0.821429\n",
      "[11/25/2024 22:30:14 INFO 140036257187648] Epoch[28] Batch [20]#011Speed: 195.139 samples/sec#011accuracy=0.985119\n",
      "[11/25/2024 22:30:16 INFO 140036257187648] Epoch[28] Train-accuracy=0.980847\n",
      "[11/25/2024 22:30:16 INFO 140036257187648] Epoch[28] Time cost=4.896\n",
      "[11/25/2024 22:30:16 INFO 140036257187648] Epoch[28] Validation-accuracy=0.875000\n",
      "\n",
      "2024-11-25 22:30:29 Uploading - Uploading generated training model[11/25/2024 22:30:20 INFO 140036257187648] Epoch[29] Batch [20]#011Speed: 194.547 samples/sec#011accuracy=0.980655\n",
      "[11/25/2024 22:30:22 INFO 140036257187648] Epoch[29] Train-accuracy=0.974798\n",
      "[11/25/2024 22:30:22 INFO 140036257187648] Epoch[29] Time cost=4.906\n",
      "[11/25/2024 22:30:22 INFO 140036257187648] Epoch[29] Validation-accuracy=0.750000\n",
      "\n",
      "2024-11-25 22:30:47 Completed - Training job completed\n",
      "Training seconds: 543\n",
      "Billable seconds: 543\n"
     ]
    }
   ],
   "source": [
    "## TODO: train your model\n",
    "img_classifier_model.fit(model_inputs)\n",
    "## Go to \"SageMaker -> Training -> Training jobs\"\n",
    "## Check the job there, e.g. \"image-classification-2024-11-25-22-18-30-465\"\n",
    "## 12m 51.3s"
   ]
  },
  {
   "cell_type": "markdown",
   "metadata": {},
   "source": [
    "If all goes well, you'll end up with a model topping out above `.8` validation accuracy. With only 1000 training samples in the CIFAR dataset, that's pretty good. We could definitely pursue data augmentation & gathering more samples to help us improve further, but for now let's proceed to deploy our model.\n",
    "\n",
    "###  **👉 Getting ready to deploy**\n",
    "\n",
    "🟢 Tips: To reduce AWS costs, deploy the model only when needed and delete the endpoint once it's no longer in use.\n",
    "\n",
    "To begin with, let's configure Model Monitor to track our deployment. We'll define a `DataCaptureConfig` below:"
   ]
  },
  {
   "cell_type": "code",
   "execution_count": 146,
   "metadata": {},
   "outputs": [],
   "source": [
    "from sagemaker.model_monitor import DataCaptureConfig\n",
    "data_capture_config = DataCaptureConfig(\n",
    "    ## TODO: Set config options\n",
    "    enable_capture=True,\n",
    "    # sampling_percentage=50,  ## default 100\n",
    "    destination_s3_uri=f\"s3://{bucket}/data_capture\"\n",
    ")"
   ]
  },
  {
   "cell_type": "code",
   "execution_count": null,
   "metadata": {},
   "outputs": [
    {
     "data": {
      "text/html": [
       "<pre style=\"white-space:pre;overflow-x:auto;line-height:normal;font-family:Menlo,'DejaVu Sans Mono',consolas,'Courier New',monospace\"><span style=\"color: #7fbfbf; text-decoration-color: #7fbfbf\">[11/25/24 19:42:55] </span><span style=\"color: #0069ff; text-decoration-color: #0069ff; font-weight: bold\">INFO    </span> Same images used for training and inference. Defaulting to image     <a href=\"file://d:\\Users\\guido\\miniconda3\\envs\\awsmle_py310\\lib\\site-packages\\sagemaker\\image_uris.py\" target=\"_blank\"><span style=\"color: #7f7f7f; text-decoration-color: #7f7f7f\">image_uris.py</span></a><span style=\"color: #7f7f7f; text-decoration-color: #7f7f7f\">:</span><a href=\"file://d:\\Users\\guido\\miniconda3\\envs\\awsmle_py310\\lib\\site-packages\\sagemaker\\image_uris.py#387\" target=\"_blank\"><span style=\"color: #7f7f7f; text-decoration-color: #7f7f7f\">387</span></a>\n",
       "<span style=\"color: #7fbfbf; text-decoration-color: #7fbfbf\">                    </span>         scope: inference.                                                    <span style=\"color: #7f7f7f; text-decoration-color: #7f7f7f\">                 </span>\n",
       "</pre>\n"
      ],
      "text/plain": [
       "\u001b[2;36m[11/25/24 19:42:55]\u001b[0m\u001b[2;36m \u001b[0m\u001b[1;38;2;0;105;255mINFO    \u001b[0m Same images used for training and inference. Defaulting to image     \u001b]8;id=59798;file://d:\\Users\\guido\\miniconda3\\envs\\awsmle_py310\\lib\\site-packages\\sagemaker\\image_uris.py\u001b\\\u001b[2mimage_uris.py\u001b[0m\u001b]8;;\u001b\\\u001b[2m:\u001b[0m\u001b]8;id=571360;file://d:\\Users\\guido\\miniconda3\\envs\\awsmle_py310\\lib\\site-packages\\sagemaker\\image_uris.py#387\u001b\\\u001b[2m387\u001b[0m\u001b]8;;\u001b\\\n",
       "\u001b[2;36m                    \u001b[0m         scope: inference.                                                    \u001b[2m                 \u001b[0m\n"
      ]
     },
     "metadata": {},
     "output_type": "display_data"
    },
    {
     "data": {
      "text/html": [
       "<pre style=\"white-space:pre;overflow-x:auto;line-height:normal;font-family:Menlo,'DejaVu Sans Mono',consolas,'Courier New',monospace\"><span style=\"color: #7fbfbf; text-decoration-color: #7fbfbf\">                    </span><span style=\"color: #d7af00; text-decoration-color: #d7af00; font-weight: bold\">WARNING </span> Defaulting to the only supported framework/algorithm version: <span style=\"color: #008080; text-decoration-color: #008080; font-weight: bold\">1</span>.     <a href=\"file://d:\\Users\\guido\\miniconda3\\envs\\awsmle_py310\\lib\\site-packages\\sagemaker\\image_uris.py\" target=\"_blank\"><span style=\"color: #7f7f7f; text-decoration-color: #7f7f7f\">image_uris.py</span></a><span style=\"color: #7f7f7f; text-decoration-color: #7f7f7f\">:</span><a href=\"file://d:\\Users\\guido\\miniconda3\\envs\\awsmle_py310\\lib\\site-packages\\sagemaker\\image_uris.py#485\" target=\"_blank\"><span style=\"color: #7f7f7f; text-decoration-color: #7f7f7f\">485</span></a>\n",
       "<span style=\"color: #7fbfbf; text-decoration-color: #7fbfbf\">                    </span>         Ignoring framework/algorithm version: latest.                        <span style=\"color: #7f7f7f; text-decoration-color: #7f7f7f\">                 </span>\n",
       "</pre>\n"
      ],
      "text/plain": [
       "\u001b[2;36m                   \u001b[0m\u001b[2;36m \u001b[0m\u001b[1;38;2;215;175;0mWARNING \u001b[0m Defaulting to the only supported framework/algorithm version: \u001b[1;36m1\u001b[0m.     \u001b]8;id=458204;file://d:\\Users\\guido\\miniconda3\\envs\\awsmle_py310\\lib\\site-packages\\sagemaker\\image_uris.py\u001b\\\u001b[2mimage_uris.py\u001b[0m\u001b]8;;\u001b\\\u001b[2m:\u001b[0m\u001b]8;id=854908;file://d:\\Users\\guido\\miniconda3\\envs\\awsmle_py310\\lib\\site-packages\\sagemaker\\image_uris.py#485\u001b\\\u001b[2m485\u001b[0m\u001b]8;;\u001b\\\n",
       "\u001b[2;36m                    \u001b[0m         Ignoring framework/algorithm version: latest.                        \u001b[2m                 \u001b[0m\n"
      ]
     },
     "metadata": {},
     "output_type": "display_data"
    },
    {
     "data": {
      "text/html": [
       "<pre style=\"white-space:pre;overflow-x:auto;line-height:normal;font-family:Menlo,'DejaVu Sans Mono',consolas,'Courier New',monospace\"><span style=\"color: #7fbfbf; text-decoration-color: #7fbfbf\">                    </span><span style=\"color: #0069ff; text-decoration-color: #0069ff; font-weight: bold\">INFO    </span> Ignoring unnecessary instance type: <span style=\"color: #e100e1; text-decoration-color: #e100e1; font-style: italic\">None</span>.                            <a href=\"file://d:\\Users\\guido\\miniconda3\\envs\\awsmle_py310\\lib\\site-packages\\sagemaker\\image_uris.py\" target=\"_blank\"><span style=\"color: #7f7f7f; text-decoration-color: #7f7f7f\">image_uris.py</span></a><span style=\"color: #7f7f7f; text-decoration-color: #7f7f7f\">:</span><a href=\"file://d:\\Users\\guido\\miniconda3\\envs\\awsmle_py310\\lib\\site-packages\\sagemaker\\image_uris.py#523\" target=\"_blank\"><span style=\"color: #7f7f7f; text-decoration-color: #7f7f7f\">523</span></a>\n",
       "</pre>\n"
      ],
      "text/plain": [
       "\u001b[2;36m                   \u001b[0m\u001b[2;36m \u001b[0m\u001b[1;38;2;0;105;255mINFO    \u001b[0m Ignoring unnecessary instance type: \u001b[3;38;2;225;0;225mNone\u001b[0m.                            \u001b]8;id=939168;file://d:\\Users\\guido\\miniconda3\\envs\\awsmle_py310\\lib\\site-packages\\sagemaker\\image_uris.py\u001b\\\u001b[2mimage_uris.py\u001b[0m\u001b]8;;\u001b\\\u001b[2m:\u001b[0m\u001b]8;id=631725;file://d:\\Users\\guido\\miniconda3\\envs\\awsmle_py310\\lib\\site-packages\\sagemaker\\image_uris.py#523\u001b\\\u001b[2m523\u001b[0m\u001b]8;;\u001b\\\n"
      ]
     },
     "metadata": {},
     "output_type": "display_data"
    }
   ],
   "source": [
    "# ## load trained model if you start this notebook from here.\n",
    "# algo_image = sagemaker.image_uris.retrieve(\"image-classification\", region, version='latest') \n",
    "# s3_uri_model = \"s3://sagemaker-us-east-1-807711953667/models/cifar_image_model/image-classification-2024-11-25-22-18-30-465/output/model.tar.gz\"\n",
    "# img_classifier_model = sagemaker.Model(\n",
    "#     model_data=s3_uri_model,\n",
    "#     role=role_arn,\n",
    "#     sagemaker_session=sagemaker.Session(),\n",
    "#     image_uri=algo_image)  "
   ]
  },
  {
   "cell_type": "markdown",
   "metadata": {},
   "source": [
    "Note the `destination_s3_uri` parameter: At the end of the project, we can explore the `data_capture` directory in S3 to find crucial data about the inputs and outputs Model Monitor has observed on our model endpoint over time.\n",
    "\n",
    "With that done, deploy your model on a single `ml.m5.xlarge` instance with the data capture config attached:"
   ]
  },
  {
   "cell_type": "code",
   "execution_count": null,
   "metadata": {},
   "outputs": [],
   "source": [
    "predictor = img_classifier_model.deploy(\n",
    "    ## TODO: fill in deployment options\n",
    "    initial_instance_count=1, \n",
    "    instance_type='ml.m5.xlarge',\n",
    "    data_capture_config=data_capture_config\n",
    "    )\n",
    "endpoint_name = img_classifier_model.endpoint_name\n",
    "## Check it in \"SageMaker -> Inference -> Endpoints\"\n",
    "## 7m 36.2s"
   ]
  },
  {
   "cell_type": "markdown",
   "metadata": {},
   "source": [
    "Note the endpoint name for later as well.  \n",
    "Next, instantiate a Predictor:  "
   ]
  },
  {
   "cell_type": "code",
   "execution_count": null,
   "metadata": {},
   "outputs": [],
   "source": [
    "if predictor is None:\n",
    "    predictor = sagemaker.predictor.Predictor(\n",
    "        endpoint_name=endpoint_name,  \n",
    "        sagemaker_session=sagemaker.Session(),  \n",
    "        # serializer=JSONSerializer(),  # You can change the serializer if needed\n",
    "        # deserializer=JSONDeserializer(),  # Change the deserializer according to your data format\n",
    "    )"
   ]
  },
  {
   "cell_type": "markdown",
   "metadata": {},
   "source": [
    "In the code snippet below we are going to prepare one of your saved images for prediction. Use the predictor to process the `payload`. Your `inference` object is an array of two values, the predicted probability value for each of your classes (bicycle and motorcycle respectively.) So, for example, a value of `b'[0.91, 0.09]'` indicates the probability of being a bike is 91% and being a motorcycle is 9%."
   ]
  },
  {
   "cell_type": "code",
   "execution_count": null,
   "metadata": {},
   "outputs": [],
   "source": [
    "from sagemaker.serializers import IdentitySerializer\n",
    "import base64\n",
    "predictor.serializer = IdentitySerializer(\"image/png\")\n",
    "with open(\"./test/bicycle_s_001789.png\", \"rb\") as f:\n",
    "    payload = f.read()\n",
    "inference = predictor.predict(payload).decode('utf-8') ## TODO: Process the payload with your predictor\n",
    "print(inference)\n",
    "## e.g. [0.9986796975135803, 0.0013202379923313856]\n"
   ]
  },
  {
   "cell_type": "code",
   "execution_count": null,
   "metadata": {},
   "outputs": [
    {
     "data": {
      "text/html": [
       "<pre style=\"white-space:pre;overflow-x:auto;line-height:normal;font-family:Menlo,'DejaVu Sans Mono',consolas,'Courier New',monospace\"><span style=\"color: #7fbfbf; text-decoration-color: #7fbfbf\">[11/25/24 20:19:07] </span><span style=\"color: #0069ff; text-decoration-color: #0069ff; font-weight: bold\">INFO    </span> Deleting endpoint configuration with name:                             <a href=\"file://d:\\Users\\guido\\miniconda3\\envs\\awsmle_py310\\lib\\site-packages\\sagemaker\\session.py\" target=\"_blank\"><span style=\"color: #7f7f7f; text-decoration-color: #7f7f7f\">session.py</span></a><span style=\"color: #7f7f7f; text-decoration-color: #7f7f7f\">:</span><a href=\"file://d:\\Users\\guido\\miniconda3\\envs\\awsmle_py310\\lib\\site-packages\\sagemaker\\session.py#4796\" target=\"_blank\"><span style=\"color: #7f7f7f; text-decoration-color: #7f7f7f\">4796</span></a>\n",
       "<span style=\"color: #7fbfbf; text-decoration-color: #7fbfbf\">                    </span>         image-classification-<span style=\"color: #008080; text-decoration-color: #008080; font-weight: bold\">2024</span>-11-26-01-42-59-325                           <span style=\"color: #7f7f7f; text-decoration-color: #7f7f7f\">               </span>\n",
       "</pre>\n"
      ],
      "text/plain": [
       "\u001b[2;36m[11/25/24 20:19:07]\u001b[0m\u001b[2;36m \u001b[0m\u001b[1;38;2;0;105;255mINFO    \u001b[0m Deleting endpoint configuration with name:                             \u001b]8;id=959008;file://d:\\Users\\guido\\miniconda3\\envs\\awsmle_py310\\lib\\site-packages\\sagemaker\\session.py\u001b\\\u001b[2msession.py\u001b[0m\u001b]8;;\u001b\\\u001b[2m:\u001b[0m\u001b]8;id=970116;file://d:\\Users\\guido\\miniconda3\\envs\\awsmle_py310\\lib\\site-packages\\sagemaker\\session.py#4796\u001b\\\u001b[2m4796\u001b[0m\u001b]8;;\u001b\\\n",
       "\u001b[2;36m                    \u001b[0m         image-classification-\u001b[1;36m2024\u001b[0m-11-26-01-42-59-325                           \u001b[2m               \u001b[0m\n"
      ]
     },
     "metadata": {},
     "output_type": "display_data"
    },
    {
     "data": {
      "text/html": [
       "<pre style=\"white-space:pre;overflow-x:auto;line-height:normal;font-family:Menlo,'DejaVu Sans Mono',consolas,'Courier New',monospace\"><span style=\"color: #7fbfbf; text-decoration-color: #7fbfbf\">                    </span><span style=\"color: #0069ff; text-decoration-color: #0069ff; font-weight: bold\">INFO    </span> Deleting endpoint with name:                                           <a href=\"file://d:\\Users\\guido\\miniconda3\\envs\\awsmle_py310\\lib\\site-packages\\sagemaker\\session.py\" target=\"_blank\"><span style=\"color: #7f7f7f; text-decoration-color: #7f7f7f\">session.py</span></a><span style=\"color: #7f7f7f; text-decoration-color: #7f7f7f\">:</span><a href=\"file://d:\\Users\\guido\\miniconda3\\envs\\awsmle_py310\\lib\\site-packages\\sagemaker\\session.py#4786\" target=\"_blank\"><span style=\"color: #7f7f7f; text-decoration-color: #7f7f7f\">4786</span></a>\n",
       "<span style=\"color: #7fbfbf; text-decoration-color: #7fbfbf\">                    </span>         image-classification-<span style=\"color: #008080; text-decoration-color: #008080; font-weight: bold\">2024</span>-11-26-01-42-59-325                           <span style=\"color: #7f7f7f; text-decoration-color: #7f7f7f\">               </span>\n",
       "</pre>\n"
      ],
      "text/plain": [
       "\u001b[2;36m                   \u001b[0m\u001b[2;36m \u001b[0m\u001b[1;38;2;0;105;255mINFO    \u001b[0m Deleting endpoint with name:                                           \u001b]8;id=561767;file://d:\\Users\\guido\\miniconda3\\envs\\awsmle_py310\\lib\\site-packages\\sagemaker\\session.py\u001b\\\u001b[2msession.py\u001b[0m\u001b]8;;\u001b\\\u001b[2m:\u001b[0m\u001b]8;id=686971;file://d:\\Users\\guido\\miniconda3\\envs\\awsmle_py310\\lib\\site-packages\\sagemaker\\session.py#4786\u001b\\\u001b[2m4786\u001b[0m\u001b]8;;\u001b\\\n",
       "\u001b[2;36m                    \u001b[0m         image-classification-\u001b[1;36m2024\u001b[0m-11-26-01-42-59-325                           \u001b[2m               \u001b[0m\n"
      ]
     },
     "metadata": {},
     "output_type": "display_data"
    }
   ],
   "source": [
    "## Delete the endpoint if it's not needed right away.\n",
    "predictor.delete_endpoint()"
   ]
  },
  {
   "cell_type": "markdown",
   "metadata": {},
   "source": [
    "### Draft Lambdas and Step Function Workflow\n",
    "\n",
    "Your operations team uses Step Functions to orchestrate serverless workflows. One of the nice things about Step Functions is that [workflows can call other workflows](https://docs.aws.amazon.com/step-functions/latest/dg/connect-stepfunctions.html), so the team can easily plug your workflow into the broader production architecture for Scones Unlimited.\n",
    "\n",
    "In this next stage you're going to write and deploy **3 Lambda functions**, and then use the Step Functions visual editor to chain them together! Our functions are going to work with a simple data object:\n",
    "\n",
    "```python\n",
    "{\n",
    "    \"inferences\": [], # Output of predictor.predict\n",
    "    \"s3_key\": \"\", # Source data S3 key\n",
    "    \"s3_bucket\": \"\", # Source data S3 bucket\n",
    "    \"image_data\": \"\"  # base64 encoded string containing the image data\n",
    "}\n",
    "```\n",
    "\n",
    "A good test object that you can use for Lambda tests and Step Function executions, throughout the next section, might look like this:\n",
    "\n",
    "```python\n",
    "{\n",
    "  \"image_data\": \"\",\n",
    "  \"s3_bucket\": MY_BUCKET_NAME, # Fill in with your bucket\n",
    "  \"s3_key\": \"test/bicycle_s_000513.png\"\n",
    "}\n",
    "```\n",
    "\n",
    "Using these fields, your functions can read and write the necessary data to execute your workflow. Let's start with the first function. Your first Lambda function will copy an object from S3, base64 encode it, and then return it to the step function as `image_data` in an event.\n",
    "\n",
    "Go to the Lambda dashboard and create a new Lambda function with a descriptive name like \"serializeImageData\" and select thr 'Python 3.8' runtime. Add the same permissions as the SageMaker role you created earlier. (Reminder: you do this in the Configuration tab under \"Permissions\"). Once you're ready, use the starter code below to craft your Lambda handler:\n",
    "\n",
    "```python\n",
    "import json\n",
    "import boto3\n",
    "import base64\n",
    "\n",
    "s3 = boto3.client('s3')\n",
    "\n",
    "def lambda_handler(event, context):\n",
    "    \"\"\"A function to serialize target data from S3\"\"\"\n",
    "    \n",
    "    # Get the s3 address from the Step Function event input\n",
    "    key = ## TODO: fill in\n",
    "    bucket = ## TODO: fill in\n",
    "    \n",
    "    # Download the data from s3 to /tmp/image.png\n",
    "    ## TODO: fill in\n",
    "    \n",
    "    # We read the data from a file\n",
    "    with open(\"/tmp/image.png\", \"rb\") as f:\n",
    "        image_data = base64.b64encode(f.read())\n",
    "\n",
    "    # Pass the data back to the Step Function\n",
    "    print(\"Event:\", event.keys())\n",
    "    return {\n",
    "        'statusCode': 200,\n",
    "        'body': {\n",
    "            \"image_data\": image_data,\n",
    "            \"s3_bucket\": bucket,\n",
    "            \"s3_key\": key,\n",
    "            \"inferences\": []\n",
    "        }\n",
    "    }\n",
    "```\n",
    "\n",
    "The next function is responsible for the classification part - we're going to take the image output from the previous function, decode it, and then pass inferences back to the the Step Function.\n",
    "\n",
    "Because this Lambda will have runtime dependencies (i.e. the SageMaker SDK) you'll need to package them in your function. *Key reading:* https://docs.aws.amazon.com/lambda/latest/dg/python-package-create.html#python-package-create-with-dependency\n",
    "\n",
    "Create a new Lambda function with the same rights and a descriptive name, then fill in the starter code below for your classifier Lambda.\n",
    "\n",
    "```python\n",
    "import json\n",
    "import sagemaker\n",
    "import base64\n",
    "from sagemaker.serializers import IdentitySerializer\n",
    "\n",
    "# Fill this in with the name of your deployed model\n",
    "ENDPOINT = ## TODO: fill in\n",
    "\n",
    "def lambda_handler(event, context):\n",
    "\n",
    "    # Decode the image data\n",
    "    image = base64.b64decode(## TODO: fill in)\n",
    "\n",
    "    # Instantiate a Predictor\n",
    "    predictor = ## TODO: fill in\n",
    "\n",
    "    # For this model the IdentitySerializer needs to be \"image/png\"\n",
    "    predictor.serializer = IdentitySerializer(\"image/png\")\n",
    "    \n",
    "    # Make a prediction:\n",
    "    inferences = ## TODO: fill in\n",
    "    \n",
    "    # We return the data back to the Step Function    \n",
    "    event[\"inferences\"] = inferences.decode('utf-8')\n",
    "    return {\n",
    "        'statusCode': 200,\n",
    "        'body': json.dumps(event)\n",
    "    }\n",
    "```\n",
    "\n",
    "Finally, we need to filter low-confidence inferences. Define a threshold between 1.00 and 0.000 for your model: what is reasonble for you? If the model predicts at `.70` for it's highest confidence label, do we want to pass that inference along to downstream systems? Make one last Lambda function and tee up the same permissions:\n",
    "\n",
    "```python\n",
    "import json\n",
    "\n",
    "\n",
    "THRESHOLD = .93\n",
    "\n",
    "\n",
    "def lambda_handler(event, context):\n",
    "    \n",
    "    # Grab the inferences from the event\n",
    "    inferences = ## TODO: fill in\n",
    "    \n",
    "    # Check if any values in our inferences are above THRESHOLD\n",
    "    meets_threshold = ## TODO: fill in\n",
    "    \n",
    "    # If our threshold is met, pass our data back out of the\n",
    "    # Step Function, else, end the Step Function with an error\n",
    "    if meets_threshold:\n",
    "        pass\n",
    "    else:\n",
    "        raise(\"THRESHOLD_CONFIDENCE_NOT_MET\")\n",
    "\n",
    "    return {\n",
    "        'statusCode': 200,\n",
    "        'body': json.dumps(event)\n",
    "    }\n",
    "```\n",
    "Once you have tested the lambda functions, save the code for each lambda function in a python script called 'lambda.py'.\n",
    "\n",
    "With your lambdas in place, you can use the Step Functions visual editor to construct a workflow that chains them together. In the Step Functions console you'll have the option to author a Standard step function *Visually*.\n",
    "\n",
    "When the visual editor opens, you'll have many options to add transitions in your workflow. We're going to keep it simple and have just one: to invoke Lambda functions. Add three of them chained together. For each one, you'll be able to select the Lambda functions you just created in the proper order, filter inputs and outputs, and give them descriptive names.\n",
    "\n",
    "Make sure that you:\n",
    "\n",
    "1. Are properly filtering the inputs and outputs of your invokations (e.g. `$.body`)\n",
    "2. Take care to remove the error handling from the last function - it's supposed to \"fail loudly\" for your operations colleagues!\n",
    "\n",
    "Take a screenshot of your working step function in action and export the step function as JSON for your submission package."
   ]
  },
  {
   "cell_type": "markdown",
   "metadata": {},
   "source": [
    "\n",
    "Great! Now you can use the files in `./test` as test files for our workflow. Depending on our threshold, our workflow should reliably pass predictions about images from `./test` on to downstream systems, while erroring out for inferences below our confidence threshold!\n",
    "\n",
    "### Testing and Evaluation\n",
    "\n",
    "Do several step function invokations using data from the `./test` folder. This process should give you confidence that the workflow both *succeeds* AND *fails* as expected. In addition, SageMaker Model Monitor will generate recordings of your data and inferences which we can visualize.\n",
    "\n",
    "Here's a function that can help you generate test inputs for your invokations:"
   ]
  },
  {
   "cell_type": "code",
   "execution_count": null,
   "metadata": {},
   "outputs": [
    {
     "data": {
      "text/plain": [
       "'{\"image_data\": \"\", \"s3_bucket\": \"sagemaker-us-east-1-807711953667\", \"s3_key\": \"test/motorcycle_s_000615.png\"}'"
      ]
     },
     "execution_count": 190,
     "metadata": {},
     "output_type": "execute_result"
    }
   ],
   "source": [
    "import random\n",
    "import boto3\n",
    "import json\n",
    "def generate_test_case():\n",
    "    # Setup s3 in boto3\n",
    "    s3 = boto3.resource('s3')\n",
    "    # Randomly pick from sfn or test folders in our bucket\n",
    "    s3_objects = s3.Bucket(bucket).objects.filter(Prefix=\"test\")\n",
    "    # Grab any random object key from that folder!\n",
    "    s3_key = random.choice([x.key for x in s3_objects])\n",
    "    return json.dumps({\n",
    "        \"image_data\": \"\",  ## base64 encoded string containing the image data\n",
    "        \"s3_bucket\": bucket,\n",
    "        \"s3_key\": s3_key\n",
    "    })\n",
    "generate_test_case()"
   ]
  },
  {
   "cell_type": "markdown",
   "metadata": {},
   "source": [
    "In the Step Function dashboard for your new function, you can create new executions and copy in the generated test cases. Do several executions so that you can generate data you can evaluate and visualize.\n",
    "\n",
    "Once you've done several executions, let's visualize the record of our inferences. Pull in the JSONLines data from your inferences like so:"
   ]
  },
  {
   "cell_type": "code",
   "execution_count": 192,
   "metadata": {},
   "outputs": [
    {
     "data": {
      "text/plain": [
       "['captured_data\\\\21-43-282-44f168ee-a326-44fc-a02d-86bb73b45d9f.jsonl']"
      ]
     },
     "execution_count": 192,
     "metadata": {},
     "output_type": "execute_result"
    }
   ],
   "source": [
    "from sagemaker.s3 import S3Downloader\n",
    "# In S3 your data will be saved to a datetime-aware path\n",
    "# Find a path related to a datetime you're interested in\n",
    "data_path = \"s3://sagemaker-us-east-1-807711953667/data_capture/image-classification-2024-11-25-22-35-49-948/AllTraffic/2024/11/25/23/21-43-282-44f168ee-a326-44fc-a02d-86bb73b45d9f.jsonl\" ## TODO: fill in the path to your captured data\n",
    "S3Downloader.download(data_path, \"captured_data\")\n",
    "# Feel free to repeat this multiple times and pull in more data"
   ]
  },
  {
   "cell_type": "markdown",
   "metadata": {},
   "source": [
    "The data are in JSONLines format, where multiple valid JSON objects are stacked on top of eachother in a single `jsonl` file. We'll import an open-source library, `jsonlines` that was purpose built for parsing this format."
   ]
  },
  {
   "cell_type": "code",
   "execution_count": null,
   "metadata": {},
   "outputs": [
    {
     "name": "stdout",
     "output_type": "stream",
     "text": [
      "Collecting jsonlines\n",
      "  Downloading jsonlines-4.0.0-py3-none-any.whl.metadata (1.6 kB)\n",
      "Requirement already satisfied: attrs>=19.2.0 in d:\\users\\guido\\miniconda3\\envs\\awsmle_py310\\lib\\site-packages (from jsonlines) (23.2.0)\n",
      "Downloading jsonlines-4.0.0-py3-none-any.whl (8.7 kB)\n",
      "Installing collected packages: jsonlines\n",
      "Successfully installed jsonlines-4.0.0\n"
     ]
    }
   ],
   "source": [
    "!pip install jsonlines\n",
    "import jsonlines  ## Successfully installed jsonlines-4.0.0"
   ]
  },
  {
   "cell_type": "markdown",
   "metadata": {},
   "source": [
    "Now we can extract the data from each of the source files:"
   ]
  },
  {
   "cell_type": "code",
   "execution_count": 193,
   "metadata": {},
   "outputs": [],
   "source": [
    "import os\n",
    "# List the file names we downloaded\n",
    "file_handles = os.listdir(\"./captured_data\")\n",
    "# Dump all the data into an array\n",
    "json_data = []\n",
    "for jsonl in file_handles:\n",
    "    with jsonlines.open(f\"./captured_data/{jsonl}\") as f:\n",
    "        json_data.append(f.read())"
   ]
  },
  {
   "cell_type": "markdown",
   "metadata": {},
   "source": [
    "The data should now be a list of dictionaries, with significant nesting. We'll give you an example of some code that grabs data out of the objects and visualizes it:"
   ]
  },
  {
   "cell_type": "code",
   "execution_count": 194,
   "metadata": {},
   "outputs": [
    {
     "data": {
      "text/plain": [
       "([0.9986796975135803, 0.0013202379923313856], '2024-11-25T23:21:43Z')"
      ]
     },
     "execution_count": 194,
     "metadata": {},
     "output_type": "execute_result"
    }
   ],
   "source": [
    "# Define how we'll get our data\n",
    "def simple_getter(obj):\n",
    "    inferences = obj[\"captureData\"][\"endpointOutput\"][\"data\"]\n",
    "    timestamp = obj[\"eventMetadata\"][\"inferenceTime\"]\n",
    "    return json.loads(inferences), timestamp\n",
    "simple_getter(json_data[0])"
   ]
  },
  {
   "cell_type": "markdown",
   "metadata": {},
   "source": [
    "Finally, here's an example of a visualization you can build with this data. In this last part, you will take some time and build your own - the captured data has the input images, the resulting inferences, and the timestamps."
   ]
  },
  {
   "cell_type": "code",
   "execution_count": null,
   "metadata": {},
   "outputs": [],
   "source": [
    "# Populate the data for the x and y axis\n",
    "x, y = [], []\n",
    "for obj in json_data:\n",
    "    inference, timestamp = simple_getter(obj)\n",
    "    y.append(max(inference))\n",
    "    x.append(timestamp)\n",
    "\n",
    "# Todo: here is an visualization example, take some time to build another visual that helps monitor the result\n",
    "# Plot the data\n",
    "plt.scatter(x, y, c=['r' if k<.94 else 'b' for k in y ])\n",
    "plt.axhline(y=0.94, color='g', linestyle='--')\n",
    "plt.ylim(bottom=.88)\n",
    "\n",
    "# Add labels\n",
    "plt.ylabel(\"Confidence\")\n",
    "plt.suptitle(\"Observed Recent Inferences\", size=14)\n",
    "plt.title(\"Pictured with confidence threshold for production use\", size=10)\n",
    "\n",
    "# Give it some pizzaz!\n",
    "plt.style.use(\"Solarize_Light2\")\n",
    "plt.gcf().autofmt_xdate()"
   ]
  },
  {
   "cell_type": "markdown",
   "metadata": {},
   "source": [
    "### Todo: build your own visualization\n"
   ]
  },
  {
   "cell_type": "markdown",
   "metadata": {},
   "source": [
    "### Congratulations!\n",
    "\n",
    "You've reached the end of the project. In this project you created an event-drivent ML workflow that can be incorporated into the Scones Unlimited production architecture. You used the SageMaker Estimator API to deploy your SageMaker Model and Endpoint, and you used AWS Lambda and Step Functions to orchestrate your ML workflow. Using SageMaker Model Monitor, you instrumented and observed your Endpoint, and at the end of the project you built a visualization to help stakeholders understand the performance of the Endpoint over time. If you're up for it, you can even go further with these stretch goals:\n",
    "\n",
    "* Extend your workflow to incorporate more classes: the CIFAR dataset includes other vehicles that Scones Unlimited can identify with this model.\n",
    "* Modify your event driven workflow: can you rewrite your Lambda functions so that the workflow can process multiple image inputs in parallel? Can the Step Function \"fan out\" to accomodate this new workflow?\n",
    "* Consider the test data generator we provided for you. Can we use it to create a \"dummy data\" generator, to simulate a continuous stream of input data? Or a big paralell load of data?\n",
    "* What if we want to get notified every time our step function errors out? Can we use the Step Functions visual editor in conjunction with a service like SNS to accomplish this? Try it out!\n",
    "\n",
    "\n"
   ]
  }
 ],
 "metadata": {
  "instance_type": "ml.t3.medium",
  "kernelspec": {
   "display_name": "awsmle_py310",
   "language": "python",
   "name": "python3"
  },
  "language_info": {
   "codemirror_mode": {
    "name": "ipython",
    "version": 3
   },
   "file_extension": ".py",
   "mimetype": "text/x-python",
   "name": "python",
   "nbconvert_exporter": "python",
   "pygments_lexer": "ipython3",
   "version": "3.10.15"
  }
 },
 "nbformat": 4,
 "nbformat_minor": 4
}

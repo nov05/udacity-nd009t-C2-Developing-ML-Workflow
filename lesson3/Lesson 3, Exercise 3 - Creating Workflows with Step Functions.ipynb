{
 "cells": [
  {
   "cell_type": "markdown",
   "id": "da76a358-321f-4d26-81fc-3ad3902a726d",
   "metadata": {},
   "source": [
    "* changed by nov05 on 2024-11-23\n",
    "* check [the Google Docs tutorial](https://docs.google.com/document/d/1Um47l8guJbz3r_OnQyV1aTgI_93fkWcyiUI3xig-cmQ)   "
   ]
  },
  {
   "cell_type": "markdown",
   "id": "c5dc198f",
   "metadata": {},
   "source": [
    "# UDACITY Designing Your First Workflow - Step Functions"
   ]
  },
  {
   "cell_type": "markdown",
   "id": "a00c09c5",
   "metadata": {},
   "source": [
    "## Step Functions & SageMaker"
   ]
  },
  {
   "cell_type": "markdown",
   "id": "2c2a5b51",
   "metadata": {},
   "source": [
    "In the prior exercises, we've been working with many small services. This can be overwhelming for a data scientist that wants to establish a consistent methodology for handling data. Step Functions is an orchestration service that can allow us to utilize SageMaker in a methodical and consistent way. Step Functions also integrates with Lambda, which can allow us to potentially automate our entire machine learning pipeline end-to-end. Let's get a handle on what a 'step' in a step function looks like.\n",
    "\n",
    "In this exercise, you will create a preprocessing step and a training step. Then you will create a step function to chain the two steps."
   ]
  },
  {
   "cell_type": "markdown",
   "id": "3e5c1c6b",
   "metadata": {},
   "source": [
    "## Exercise: Grant Permissions and install packages."
   ]
  },
  {
   "cell_type": "markdown",
   "id": "1d76a91b",
   "metadata": {},
   "source": [
    "Attach the **IAMFullAccess** and the **StepFunctionsFullAccess** polices to your SageMaker execution role in `AWS IAM`."
   ]
  },
  {
   "cell_type": "code",
   "execution_count": 1,
   "id": "42d5d45c-2ffe-4677-a95b-b13011c7af5f",
   "metadata": {},
   "outputs": [
    {
     "name": "stdout",
     "output_type": "stream",
     "text": [
      "sagemaker.config INFO - Not applying SDK defaults from location: /etc/xdg/sagemaker/config.yaml\n",
      "sagemaker.config INFO - Not applying SDK defaults from location: /home/sagemaker-user/.config/sagemaker/config.yaml\n",
      "arn:aws:iam::807711953667:role/service-role/AmazonSageMaker-ExecutionRole-20241121T213663\n"
     ]
    }
   ],
   "source": [
    "## Verify the role ARN\n",
    "from sagemaker import get_execution_role\n",
    "role = get_execution_role()\n",
    "print(role)\n",
    "## arn:aws:iam::807711953667:role/service-role/AmazonSageMaker-ExecutionRole-20241121T213663"
   ]
  },
  {
   "cell_type": "code",
   "execution_count": 2,
   "id": "981094fe",
   "metadata": {
    "scrolled": true
   },
   "outputs": [],
   "source": [
    "%%bash\n",
    "# pip install stepfunctions\n",
    "## Successfully installed stepfunctions-2.3.0"
   ]
  },
  {
   "cell_type": "markdown",
   "id": "2980c12c",
   "metadata": {},
   "source": [
    "## Exercise: Fill out preprocessing step."
   ]
  },
  {
   "cell_type": "markdown",
   "id": "752d3b79",
   "metadata": {},
   "source": [
    "The 'step' interface is designed to be quite similar to the Preprocessing Job in lesson 2. The main difference between these is the ability of a 'step' to interface with other steps. Given the successful outcome of a single step, the next step specified in a workflow will automatically continue. In our case, a training step will launch given the successful outcome of a preprocessing step. The preprocessing step has been encoded for you. Upload the preprocessing code 'HelloBlazePreprocess.py' and the zipped dataset 'reviews_Musical_Instruments_5.json.zip' to s3, and fill out the constants in the code below. "
   ]
  },
  {
   "cell_type": "markdown",
   "id": "0df2f1ac",
   "metadata": {},
   "source": [
    "Code below is the preprocessing step. Fill in the constants in the code."
   ]
  },
  {
   "cell_type": "code",
   "execution_count": 3,
   "id": "9d82815d",
   "metadata": {},
   "outputs": [
    {
     "name": "stdout",
     "output_type": "stream",
     "text": [
      "Train data: s3://sagemaker-us-east-1-807711953667/hello_blaze_train_scikit\n",
      "Test data: s3://sagemaker-us-east-1-807711953667/hello_blaze_test_scikit\n",
      "Preprocessing job: udacity-step-preprocess-20241123190834-631\n"
     ]
    }
   ],
   "source": [
    "import sagemaker\n",
    "from sagemaker import get_execution_role\n",
    "from sagemaker.sklearn.processing import SKLearnProcessor\n",
    "from sagemaker.processing import ProcessingInput, ProcessingOutput\n",
    "from stepfunctions.steps.sagemaker import ProcessingStep\n",
    "from datetime import datetime\n",
    "import random\n",
    "\n",
    "\n",
    "role = get_execution_role()\n",
    "session = sagemaker.Session()\n",
    "\n",
    "input_data = 's3://sagemaker-studio-807711953667-mmx0am1bt28/step_upload/reviews_Musical_Instruments_5.json.zip'\n",
    "input_preprocessing_code = 's3://sagemaker-studio-807711953667-mmx0am1bt28/step_upload/HelloBlazePreprocess.py'\n",
    "processed_data_train = f\"s3://{session.default_bucket()}/hello_blaze_train_scikit\"\n",
    "processed_data_test = f\"s3://{session.default_bucket()}/hello_blaze_test_scikit\"\n",
    "print(\"Train data:\", processed_data_train)\n",
    "print(\"Test data:\", processed_data_test)\n",
    "\n",
    "inputs = [\n",
    "    ProcessingInput(source=input_data, \n",
    "                    destination='/opt/ml/processing/input', ## don't change this path\n",
    "                    input_name='input_data'),  \n",
    "    ProcessingInput(source=input_preprocessing_code, \n",
    "                    destination='/opt/ml/processing/input/code',  ## don't change this path\n",
    "                    input_name='input_code')\n",
    "]\n",
    "outputs = [\n",
    "    ProcessingOutput(source='/opt/ml/processing/output/train', ## don't change this path\n",
    "                     destination=processed_data_train, \n",
    "                     output_name='train_data'), \n",
    "    ProcessingOutput(source='/opt/ml/processing/output/test', ## don't change this path\n",
    "                     destination=processed_data_test, \n",
    "                     output_name='test_data')\n",
    "]\n",
    "sklearn_processor = SKLearnProcessor(framework_version='0.20.0',\n",
    "                                     role=role,\n",
    "                                     instance_type='ml.m5.large',\n",
    "                                     instance_count=1)\n",
    "preprocessing_job_name = (\n",
    "    f\"udacity-step-preprocess-\"\n",
    "    f\"{datetime.now().strftime('%Y%m%d%H%M%S')}-\" ## attach datetime to make it unique\n",
    "    f\"{random.randint(100, 999)}\" ## attach 3 random digits\n",
    ")\n",
    "print(\"Preprocessing job:\", preprocessing_job_name)\n",
    "\n",
    "###################################\n",
    "## define preprocessing step\n",
    "###################################\n",
    "processing_step = ProcessingStep(\n",
    "    \"SageMaker Preprocessing Step\",\n",
    "    processor=sklearn_processor,\n",
    "    job_name=preprocessing_job_name,\n",
    "    inputs=inputs,\n",
    "    outputs=outputs,\n",
    "    container_entrypoint=[\"python3\", \n",
    "                          \"/opt/ml/processing/input/code/HelloBlazePreprocess.py\"],\n",
    ")\n",
    "## s3://sagemaker-us-east-1-807711953667/hello_blaze_train_scikit\n",
    "## s3://sagemaker-us-east-1-807711953667/hello_blaze_test_scikit"
   ]
  },
  {
   "cell_type": "markdown",
   "id": "5048e4f3",
   "metadata": {},
   "source": [
    "## Exercise: Fill out Training Step"
   ]
  },
  {
   "cell_type": "markdown",
   "id": "a904f213",
   "metadata": {},
   "source": [
    "Upon the success of the preprocessing step, we wish to execute a training step. A training step is defined below. Fill the constants in the code."
   ]
  },
  {
   "cell_type": "code",
   "execution_count": 4,
   "id": "a7b7118c",
   "metadata": {},
   "outputs": [
    {
     "name": "stdout",
     "output_type": "stream",
     "text": [
      "Training job: udacity-step-train-20241123190834-557\n"
     ]
    }
   ],
   "source": [
    "from stepfunctions.steps.sagemaker import TrainingStep\n",
    "import boto3\n",
    "\n",
    "workflow_output = \"s3://sagemaker-studio-807711953667-mmx0am1bt28/step_output/\"\n",
    "region_name = boto3.Session().region_name\n",
    "container = sagemaker.image_uris.retrieve(\n",
    "    region=region_name, \n",
    "    framework=\"blazingtext\", \n",
    "    version=\"latest\"\n",
    ")\n",
    "helloBlazeEstimator = sagemaker.estimator.Estimator(\n",
    "    container,\n",
    "    role=role,\n",
    "    instance_count=1,\n",
    "    instance_type='ml.m5.large',\n",
    "    volume_size=30,\n",
    "    max_run=360000,\n",
    "    input_mode=\"File\",\n",
    "    output_path=workflow_output,\n",
    "    sagemaker_session=session,\n",
    ")\n",
    "helloBlazeEstimator.set_hyperparameters(mode='supervised')\n",
    "training_job_name = (\n",
    "    f\"udacity-step-train-\"\n",
    "    f\"{datetime.now().strftime('%Y%m%d%H%M%S')}-\" ## attach datetime to make it unique\n",
    "    f\"{random.randint(100, 999)}\" ## attach 3 random digits\n",
    ")\n",
    "print(\"Training job:\", training_job_name)\n",
    "###################################\n",
    "## define training step\n",
    "###################################\n",
    "training_step = TrainingStep(\n",
    "    \"SageMaker Training Step\",\n",
    "    estimator=helloBlazeEstimator,\n",
    "    data={\n",
    "        \"train\": sagemaker.TrainingInput(processed_data_train, \n",
    "                                         content_type=\"text/plain\"), \n",
    "        \"validation\": sagemaker.TrainingInput(processed_data_test, \n",
    "                                              content_type=\"text/plain\")\n",
    "    },\n",
    "    job_name=training_job_name,\n",
    "    wait_for_completion=True,\n",
    ")"
   ]
  },
  {
   "cell_type": "markdown",
   "id": "672f280c",
   "metadata": {},
   "source": [
    "## Exercise: Create Workflow & Execute It. "
   ]
  },
  {
   "cell_type": "markdown",
   "id": "4c549f3b",
   "metadata": {},
   "source": [
    "To link the steps, you'll need to create a role that is capable of doing so. Go to `IAM` and create a Step Functions role, and attach the **CloudWatchEventsFullAccess** and **SageMakerFullAccess** policies. Once done, make use of the above steps to create a workflow. Quick debugging tip: jobs must have a unique name; you'll need to rename job names when debugging. Consider creating a method that will dynamically create unique job names! "
   ]
  },
  {
   "cell_type": "code",
   "execution_count": 5,
   "id": "c4c39201",
   "metadata": {},
   "outputs": [
    {
     "name": "stdout",
     "output_type": "stream",
     "text": [
      "CPU times: user 627 ms, sys: 79.8 ms, total: 707 ms\n",
      "Wall time: 5min 19s\n"
     ]
    }
   ],
   "source": [
    "%%time\n",
    "from stepfunctions.steps import Chain\n",
    "from stepfunctions.workflow import Workflow\n",
    "\n",
    "workflow_role = \"arn:aws:iam::807711953667:role/udacity_step_20241123\"\n",
    "workflow_graph = Chain([processing_step, training_step])\n",
    "workflow = Workflow(\n",
    "    name=\"udacity_step_handson\",\n",
    "    definition=workflow_graph,\n",
    "    role=workflow_role,\n",
    ")\n",
    "workflow.create()\n",
    "###################################\n",
    "## execute workflow\n",
    "###################################\n",
    "execution = workflow.execute(\n",
    "    inputs={\n",
    "        ## Each pre processing job (SageMaker processing job) requires a unique name\n",
    "        \"PreprocessingJobName\": preprocessing_job_name, \n",
    "        ## Each Sagemaker Training job requires a unique name\n",
    "        \"TrainingJobName\": training_job_name,        \n",
    "    }\n",
    ")\n",
    "execution_output = execution.get_output(wait=True)\n",
    "## CPU times: user 627 ms, sys: 79.8 ms, total: 707 ms\n",
    "## Wall time: 5min 19s"
   ]
  },
  {
   "cell_type": "markdown",
   "id": "d49a3122",
   "metadata": {},
   "source": [
    "You can track the outcome of this workflow through a custom UI that gets generated! Check it out!"
   ]
  },
  {
   "cell_type": "code",
   "execution_count": 6,
   "id": "c81e08b9",
   "metadata": {},
   "outputs": [
    {
     "data": {
      "text/html": [
       "\n",
       "<link rel=\"stylesheet\" type=\"text/css\" href=\"https://do0of8uwbahzz.cloudfront.net/graph.css\">\n",
       "<div id=\"graph-265\" class=\"workflowgraph\">\n",
       "    \n",
       "    <style>\n",
       "        .graph-legend ul {\n",
       "            list-style-type: none;\n",
       "            padding: 10px;\n",
       "            padding-left: 0;\n",
       "            margin: 0;\n",
       "            position: absolute;\n",
       "            top: 0;\n",
       "            background: transparent;\n",
       "        }\n",
       "\n",
       "        .graph-legend li {\n",
       "            margin-left: 10px;\n",
       "            display: inline-block;\n",
       "        }\n",
       "\n",
       "        .graph-legend li > div {\n",
       "            width: 10px;\n",
       "            height: 10px;\n",
       "            display: inline-block;\n",
       "        }\n",
       "\n",
       "        .graph-legend .success { background-color: #2BD62E }\n",
       "        .graph-legend .failed { background-color: #DE322F }\n",
       "        .graph-legend .cancelled { background-color: #DDDDDD }\n",
       "        .graph-legend .in-progress { background-color: #53C9ED }\n",
       "        .graph-legend .caught-error { background-color: #FFA500 }\n",
       "    </style>\n",
       "    <div class=\"graph-legend\">\n",
       "        <ul>\n",
       "            <li>\n",
       "                <div class=\"success\"></div>\n",
       "                <span>Success</span>\n",
       "            </li>\n",
       "            <li>\n",
       "                <div class=\"failed\"></div>\n",
       "                <span>Failed</span>\n",
       "            </li>\n",
       "            <li>\n",
       "                <div class=\"cancelled\"></div>\n",
       "                <span>Cancelled</span>\n",
       "            </li>\n",
       "            <li>\n",
       "                <div class=\"in-progress\"></div>\n",
       "                <span>In Progress</span>\n",
       "            </li>\n",
       "            <li>\n",
       "                <div class=\"caught-error\"></div>\n",
       "                <span>Caught Error</span>\n",
       "            </li>\n",
       "        </ul>\n",
       "    </div>\n",
       "\n",
       "    <svg></svg>\n",
       "    <a href=\"https://console.aws.amazon.com/states/home?region=us-east-1#/executions/details/arn:aws:states:us-east-1:807711953667:execution:udacity_step_handson:15665db0-c9e9-489b-87cb-cb324fd6f079\" target=\"_blank\"> Inspect in AWS Step Functions </a>\n",
       "</div>\n",
       "\n",
       "<script type=\"text/javascript\">\n",
       "\n",
       "require.config({\n",
       "    paths: {\n",
       "        sfn: \"https://do0of8uwbahzz.cloudfront.net/sfn\",\n",
       "    }\n",
       "});\n",
       "\n",
       "require(['sfn'], function(sfn) {\n",
       "    var element = document.getElementById('graph-265')\n",
       "\n",
       "    var options = {\n",
       "        width: parseFloat(getComputedStyle(element, null).width.replace(\"px\", \"\")),\n",
       "        height: 1000,\n",
       "        layout: 'LR',\n",
       "        resizeHeight: true\n",
       "    };\n",
       "\n",
       "    var definition = {\"StartAt\": \"SageMaker Preprocessing Step\", \"States\": {\"SageMaker Preprocessing Step\": {\"Resource\": \"arn:aws:states:::sagemaker:createProcessingJob.sync\", \"Parameters\": {\"ProcessingJobName\": \"udacity-step-preprocess-20241123190834-631\", \"ProcessingInputs\": [{\"InputName\": \"input_data\", \"AppManaged\": false, \"S3Input\": {\"S3Uri\": \"s3://sagemaker-studio-807711953667-mmx0am1bt28/step_upload/reviews_Musical_Instruments_5.json.zip\", \"LocalPath\": \"/opt/ml/processing/input\", \"S3DataType\": \"S3Prefix\", \"S3InputMode\": \"File\", \"S3DataDistributionType\": \"FullyReplicated\", \"S3CompressionType\": \"None\"}}, {\"InputName\": \"script\", \"AppManaged\": false, \"S3Input\": {\"S3Uri\": \"s3://sagemaker-studio-807711953667-mmx0am1bt28/step_upload/HelloBlazePreprocess.py\", \"LocalPath\": \"/opt/ml/processing/input/code\", \"S3DataType\": \"S3Prefix\", \"S3InputMode\": \"File\", \"S3DataDistributionType\": \"FullyReplicated\", \"S3CompressionType\": \"None\"}}], \"ProcessingOutputConfig\": {\"Outputs\": [{\"OutputName\": \"train_data\", \"AppManaged\": false, \"S3Output\": {\"S3Uri\": \"s3://sagemaker-us-east-1-807711953667/hello_blaze_train_scikit\", \"LocalPath\": \"/opt/ml/processing/output/train\", \"S3UploadMode\": \"EndOfJob\"}}, {\"OutputName\": \"test_data\", \"AppManaged\": false, \"S3Output\": {\"S3Uri\": \"s3://sagemaker-us-east-1-807711953667/hello_blaze_test_scikit\", \"LocalPath\": \"/opt/ml/processing/output/test\", \"S3UploadMode\": \"EndOfJob\"}}]}, \"AppSpecification\": {\"ImageUri\": \"683313688378.dkr.ecr.us-east-1.amazonaws.com/sagemaker-scikit-learn:0.20.0-cpu-py3\", \"ContainerEntrypoint\": [\"python3\", \"/opt/ml/processing/input/code/HelloBlazePreprocess.py\"]}, \"RoleArn\": \"arn:aws:iam::807711953667:role/service-role/AmazonSageMaker-ExecutionRole-20241121T213663\", \"ProcessingResources\": {\"ClusterConfig\": {\"InstanceCount\": 1, \"InstanceType\": \"ml.m5.large\", \"VolumeSizeInGB\": 30}}}, \"Type\": \"Task\", \"Next\": \"SageMaker Training Step\"}, \"SageMaker Training Step\": {\"Resource\": \"arn:aws:states:::sagemaker:createTrainingJob.sync\", \"Parameters\": {\"AlgorithmSpecification\": {\"TrainingImage\": \"811284229777.dkr.ecr.us-east-1.amazonaws.com/blazingtext:1\", \"TrainingInputMode\": \"File\"}, \"OutputDataConfig\": {\"S3OutputPath\": \"s3://sagemaker-studio-807711953667-mmx0am1bt28/step_output/\"}, \"StoppingCondition\": {\"MaxRuntimeInSeconds\": 360000}, \"ResourceConfig\": {\"VolumeSizeInGB\": 30, \"InstanceCount\": 1, \"InstanceType\": \"ml.m5.large\"}, \"RoleArn\": \"arn:aws:iam::807711953667:role/service-role/AmazonSageMaker-ExecutionRole-20241121T213663\", \"InputDataConfig\": [{\"DataSource\": {\"S3DataSource\": {\"S3DataType\": \"S3Prefix\", \"S3Uri\": \"s3://sagemaker-us-east-1-807711953667/hello_blaze_train_scikit\", \"S3DataDistributionType\": \"FullyReplicated\"}}, \"ContentType\": \"text/plain\", \"ChannelName\": \"train\"}, {\"DataSource\": {\"S3DataSource\": {\"S3DataType\": \"S3Prefix\", \"S3Uri\": \"s3://sagemaker-us-east-1-807711953667/hello_blaze_test_scikit\", \"S3DataDistributionType\": \"FullyReplicated\"}}, \"ContentType\": \"text/plain\", \"ChannelName\": \"validation\"}], \"HyperParameters\": {\"mode\": \"supervised\"}, \"TrainingJobName\": \"udacity-step-train-20241123190834-557\", \"DebugHookConfig\": {\"S3OutputPath\": \"s3://sagemaker-studio-807711953667-mmx0am1bt28/step_output/\"}}, \"Type\": \"Task\", \"End\": true}}};\n",
       "    var elementId = '#graph-265';\n",
       "    var events = { 'events': [{\"timestamp\": 1732388915.17, \"type\": \"ExecutionStarted\", \"id\": 1, \"previousEventId\": 0, \"executionStartedEventDetails\": {\"input\": \"{\\n    \\\"PreprocessingJobName\\\": \\\"udacity-step-preprocess-20241123190834-631\\\",\\n    \\\"TrainingJobName\\\": \\\"udacity-step-train-20241123190834-557\\\"\\n}\", \"inputDetails\": {\"truncated\": false}, \"roleArn\": \"arn:aws:iam::807711953667:role/udacity_step_20241123\"}}, {\"timestamp\": 1732388915.193, \"type\": \"TaskStateEntered\", \"id\": 2, \"previousEventId\": 0, \"stateEnteredEventDetails\": {\"name\": \"SageMaker Preprocessing Step\", \"input\": \"{\\n    \\\"PreprocessingJobName\\\": \\\"udacity-step-preprocess-20241123190834-631\\\",\\n    \\\"TrainingJobName\\\": \\\"udacity-step-train-20241123190834-557\\\"\\n}\", \"inputDetails\": {\"truncated\": false}}}, {\"timestamp\": 1732388915.193, \"type\": \"TaskScheduled\", \"id\": 3, \"previousEventId\": 2, \"taskScheduledEventDetails\": {\"resourceType\": \"sagemaker\", \"resource\": \"createProcessingJob.sync\", \"region\": \"us-east-1\", \"parameters\": \"{\\\"ProcessingJobName\\\":\\\"udacity-step-preprocess-20241123190834-631\\\",\\\"ProcessingInputs\\\":[{\\\"InputName\\\":\\\"input_data\\\",\\\"AppManaged\\\":false,\\\"S3Input\\\":{\\\"S3Uri\\\":\\\"s3://sagemaker-studio-807711953667-mmx0am1bt28/step_upload/reviews_Musical_Instruments_5.json.zip\\\",\\\"LocalPath\\\":\\\"/opt/ml/processing/input\\\",\\\"S3DataType\\\":\\\"S3Prefix\\\",\\\"S3InputMode\\\":\\\"File\\\",\\\"S3DataDistributionType\\\":\\\"FullyReplicated\\\",\\\"S3CompressionType\\\":\\\"None\\\"}},{\\\"InputName\\\":\\\"script\\\",\\\"AppManaged\\\":false,\\\"S3Input\\\":{\\\"S3Uri\\\":\\\"s3://sagemaker-studio-807711953667-mmx0am1bt28/step_upload/HelloBlazePreprocess.py\\\",\\\"LocalPath\\\":\\\"/opt/ml/processing/input/code\\\",\\\"S3DataType\\\":\\\"S3Prefix\\\",\\\"S3InputMode\\\":\\\"File\\\",\\\"S3DataDistributionType\\\":\\\"FullyReplicated\\\",\\\"S3CompressionType\\\":\\\"None\\\"}}],\\\"ProcessingOutputConfig\\\":{\\\"Outputs\\\":[{\\\"OutputName\\\":\\\"train_data\\\",\\\"AppManaged\\\":false,\\\"S3Output\\\":{\\\"S3Uri\\\":\\\"s3://sagemaker-us-east-1-807711953667/hello_blaze_train_scikit\\\",\\\"LocalPath\\\":\\\"/opt/ml/processing/output/train\\\",\\\"S3UploadMode\\\":\\\"EndOfJob\\\"}},{\\\"OutputName\\\":\\\"test_data\\\",\\\"AppManaged\\\":false,\\\"S3Output\\\":{\\\"S3Uri\\\":\\\"s3://sagemaker-us-east-1-807711953667/hello_blaze_test_scikit\\\",\\\"LocalPath\\\":\\\"/opt/ml/processing/output/test\\\",\\\"S3UploadMode\\\":\\\"EndOfJob\\\"}}]},\\\"AppSpecification\\\":{\\\"ImageUri\\\":\\\"683313688378.dkr.ecr.us-east-1.amazonaws.com/sagemaker-scikit-learn:0.20.0-cpu-py3\\\",\\\"ContainerEntrypoint\\\":[\\\"python3\\\",\\\"/opt/ml/processing/input/code/HelloBlazePreprocess.py\\\"]},\\\"RoleArn\\\":\\\"arn:aws:iam::807711953667:role/service-role/AmazonSageMaker-ExecutionRole-20241121T213663\\\",\\\"ProcessingResources\\\":{\\\"ClusterConfig\\\":{\\\"InstanceCount\\\":1,\\\"InstanceType\\\":\\\"ml.m5.large\\\",\\\"VolumeSizeInGB\\\":30}},\\\"Tags\\\":[{\\\"Key\\\":\\\"MANAGED_BY_AWS\\\",\\\"Value\\\":\\\"STARTED_BY_STEP_FUNCTIONS\\\"}]}\"}}, {\"timestamp\": 1732388915.326, \"type\": \"TaskStarted\", \"id\": 4, \"previousEventId\": 3, \"taskStartedEventDetails\": {\"resourceType\": \"sagemaker\", \"resource\": \"createProcessingJob.sync\"}}, {\"timestamp\": 1732388915.696, \"type\": \"TaskSubmitted\", \"id\": 5, \"previousEventId\": 4, \"taskSubmittedEventDetails\": {\"resourceType\": \"sagemaker\", \"resource\": \"createProcessingJob.sync\", \"output\": \"{\\\"ProcessingJobArn\\\":\\\"arn:aws:sagemaker:us-east-1:807711953667:processing-job/udacity-step-preprocess-20241123190834-631\\\",\\\"SdkHttpMetadata\\\":{\\\"AllHttpHeaders\\\":{\\\"date\\\":[\\\"Sat, 23 Nov 2024 19:08:35 GMT\\\"],\\\"content-length\\\":[\\\"121\\\"],\\\"x-amzn-requestid\\\":[\\\"571f83a0-583a-4391-8607-fe2e9c51f039\\\"],\\\"content-type\\\":[\\\"application/x-amz-json-1.1\\\"]},\\\"HttpHeaders\\\":{\\\"content-length\\\":\\\"121\\\",\\\"content-type\\\":\\\"application/x-amz-json-1.1\\\",\\\"date\\\":\\\"Sat, 23 Nov 2024 19:08:35 GMT\\\",\\\"x-amzn-requestid\\\":\\\"571f83a0-583a-4391-8607-fe2e9c51f039\\\"},\\\"HttpStatusCode\\\":200},\\\"SdkResponseMetadata\\\":{\\\"RequestId\\\":\\\"571f83a0-583a-4391-8607-fe2e9c51f039\\\"}}\", \"outputDetails\": {\"truncated\": false}}}, {\"timestamp\": 1732389069.589, \"type\": \"TaskSucceeded\", \"id\": 6, \"previousEventId\": 5, \"taskSucceededEventDetails\": {\"resourceType\": \"sagemaker\", \"resource\": \"createProcessingJob.sync\", \"output\": \"{\\\"SdkResponseMetadata\\\":null,\\\"SdkHttpMetadata\\\":null,\\\"ProcessingInputs\\\":[{\\\"InputName\\\":\\\"input_data\\\",\\\"AppManaged\\\":false,\\\"S3Input\\\":{\\\"S3Uri\\\":\\\"s3://sagemaker-studio-807711953667-mmx0am1bt28/step_upload/reviews_Musical_Instruments_5.json.zip\\\",\\\"LocalPath\\\":\\\"/opt/ml/processing/input\\\",\\\"S3DataType\\\":\\\"S3_PREFIX\\\",\\\"S3InputMode\\\":\\\"FILE\\\",\\\"S3DataDistributionType\\\":\\\"FULLYREPLICATED\\\",\\\"S3CompressionType\\\":null},\\\"DatasetDefinition\\\":null},{\\\"InputName\\\":\\\"script\\\",\\\"AppManaged\\\":false,\\\"S3Input\\\":{\\\"S3Uri\\\":\\\"s3://sagemaker-studio-807711953667-mmx0am1bt28/step_upload/HelloBlazePreprocess.py\\\",\\\"LocalPath\\\":\\\"/opt/ml/processing/input/code\\\",\\\"S3DataType\\\":\\\"S3_PREFIX\\\",\\\"S3InputMode\\\":\\\"FILE\\\",\\\"S3DataDistributionType\\\":\\\"FULLYREPLICATED\\\",\\\"S3CompressionType\\\":null},\\\"DatasetDefinition\\\":null}],\\\"ProcessingOutputConfig\\\":{\\\"Outputs\\\":[{\\\"OutputName\\\":\\\"train_data\\\",\\\"S3Output\\\":{\\\"S3Uri\\\":\\\"s3://sagemaker-us-east-1-807711953667/hello_blaze_train_scikit\\\",\\\"LocalPath\\\":\\\"/opt/ml/processing/output/train\\\",\\\"S3UploadMode\\\":\\\"END_OF_JOB\\\"},\\\"FeatureStoreOutput\\\":null,\\\"AppManaged\\\":false},{\\\"OutputName\\\":\\\"test_data\\\",\\\"S3Output\\\":{\\\"S3Uri\\\":\\\"s3://sagemaker-us-east-1-807711953667/hello_blaze_test_scikit\\\",\\\"LocalPath\\\":\\\"/opt/ml/processing/output/test\\\",\\\"S3UploadMode\\\":\\\"END_OF_JOB\\\"},\\\"FeatureStoreOutput\\\":null,\\\"AppManaged\\\":false}],\\\"KmsKeyId\\\":null},\\\"ProcessingJobName\\\":\\\"udacity-step-preprocess-20241123190834-631\\\",\\\"ProcessingResources\\\":{\\\"ClusterConfig\\\":{\\\"InstanceCount\\\":1,\\\"InstanceType\\\":\\\"ml.m5.large\\\",\\\"VolumeSizeInGB\\\":30,\\\"VolumeKmsKeyId\\\":null}},\\\"StoppingCondition\\\":{\\\"MaxRuntimeInSeconds\\\":86400},\\\"AppSpecification\\\":{\\\"ImageUri\\\":\\\"683313688378.dkr.ecr.us-east-1.amazonaws.com/sagemaker-scikit-learn:0.20.0-cpu-py3\\\",\\\"ContainerEntrypoint\\\":[\\\"python3\\\",\\\"/opt/ml/processing/input/code/HelloBlazePreprocess.py\\\"],\\\"ContainerArguments\\\":null},\\\"Environment\\\":null,\\\"NetworkConfig\\\":null,\\\"RoleArn\\\":\\\"arn:aws:iam::807711953667:role/service-role/AmazonSageMaker-ExecutionRole-20241121T213663\\\",\\\"ExperimentConfig\\\":{\\\"ExperimentName\\\":null,\\\"TrialName\\\":null,\\\"TrialComponentDisplayName\\\":null,\\\"RunName\\\":null},\\\"ProcessingJobArn\\\":\\\"arn:aws:sagemaker:us-east-1:807711953667:processing-job/udacity-step-preprocess-20241123190834-631\\\",\\\"ProcessingJobStatus\\\":\\\"Completed\\\",\\\"ExitMessage\\\":null,\\\"FailureReason\\\":null,\\\"ProcessingEndTime\\\":1732389054000,\\\"ProcessingStartTime\\\":1732388959000,\\\"LastModifiedTime\\\":1732389066000,\\\"CreationTime\\\":1732388915000,\\\"LastModifiedBy\\\":null,\\\"CreatedBy\\\":null,\\\"MonitoringScheduleArn\\\":null,\\\"AutoMLJobArn\\\":null,\\\"TrainingJobArn\\\":null,\\\"Tags\\\":{\\\"AWS_STEP_FUNCTIONS_EXECUTION_ARN\\\":\\\"arn:aws:states:us-east-1:807711953667:execution:udacity_step_handson:15665db0-c9e9-489b-87cb-cb324fd6f079\\\",\\\"MANAGED_BY_AWS\\\":\\\"STARTED_BY_STEP_FUNCTIONS\\\"}}\", \"outputDetails\": {\"truncated\": false}}}, {\"timestamp\": 1732389069.612, \"type\": \"TaskStateExited\", \"id\": 7, \"previousEventId\": 6, \"stateExitedEventDetails\": {\"name\": \"SageMaker Preprocessing Step\", \"output\": \"{\\\"SdkResponseMetadata\\\":null,\\\"SdkHttpMetadata\\\":null,\\\"ProcessingInputs\\\":[{\\\"InputName\\\":\\\"input_data\\\",\\\"AppManaged\\\":false,\\\"S3Input\\\":{\\\"S3Uri\\\":\\\"s3://sagemaker-studio-807711953667-mmx0am1bt28/step_upload/reviews_Musical_Instruments_5.json.zip\\\",\\\"LocalPath\\\":\\\"/opt/ml/processing/input\\\",\\\"S3DataType\\\":\\\"S3_PREFIX\\\",\\\"S3InputMode\\\":\\\"FILE\\\",\\\"S3DataDistributionType\\\":\\\"FULLYREPLICATED\\\",\\\"S3CompressionType\\\":null},\\\"DatasetDefinition\\\":null},{\\\"InputName\\\":\\\"script\\\",\\\"AppManaged\\\":false,\\\"S3Input\\\":{\\\"S3Uri\\\":\\\"s3://sagemaker-studio-807711953667-mmx0am1bt28/step_upload/HelloBlazePreprocess.py\\\",\\\"LocalPath\\\":\\\"/opt/ml/processing/input/code\\\",\\\"S3DataType\\\":\\\"S3_PREFIX\\\",\\\"S3InputMode\\\":\\\"FILE\\\",\\\"S3DataDistributionType\\\":\\\"FULLYREPLICATED\\\",\\\"S3CompressionType\\\":null},\\\"DatasetDefinition\\\":null}],\\\"ProcessingOutputConfig\\\":{\\\"Outputs\\\":[{\\\"OutputName\\\":\\\"train_data\\\",\\\"S3Output\\\":{\\\"S3Uri\\\":\\\"s3://sagemaker-us-east-1-807711953667/hello_blaze_train_scikit\\\",\\\"LocalPath\\\":\\\"/opt/ml/processing/output/train\\\",\\\"S3UploadMode\\\":\\\"END_OF_JOB\\\"},\\\"FeatureStoreOutput\\\":null,\\\"AppManaged\\\":false},{\\\"OutputName\\\":\\\"test_data\\\",\\\"S3Output\\\":{\\\"S3Uri\\\":\\\"s3://sagemaker-us-east-1-807711953667/hello_blaze_test_scikit\\\",\\\"LocalPath\\\":\\\"/opt/ml/processing/output/test\\\",\\\"S3UploadMode\\\":\\\"END_OF_JOB\\\"},\\\"FeatureStoreOutput\\\":null,\\\"AppManaged\\\":false}],\\\"KmsKeyId\\\":null},\\\"ProcessingJobName\\\":\\\"udacity-step-preprocess-20241123190834-631\\\",\\\"ProcessingResources\\\":{\\\"ClusterConfig\\\":{\\\"InstanceCount\\\":1,\\\"InstanceType\\\":\\\"ml.m5.large\\\",\\\"VolumeSizeInGB\\\":30,\\\"VolumeKmsKeyId\\\":null}},\\\"StoppingCondition\\\":{\\\"MaxRuntimeInSeconds\\\":86400},\\\"AppSpecification\\\":{\\\"ImageUri\\\":\\\"683313688378.dkr.ecr.us-east-1.amazonaws.com/sagemaker-scikit-learn:0.20.0-cpu-py3\\\",\\\"ContainerEntrypoint\\\":[\\\"python3\\\",\\\"/opt/ml/processing/input/code/HelloBlazePreprocess.py\\\"],\\\"ContainerArguments\\\":null},\\\"Environment\\\":null,\\\"NetworkConfig\\\":null,\\\"RoleArn\\\":\\\"arn:aws:iam::807711953667:role/service-role/AmazonSageMaker-ExecutionRole-20241121T213663\\\",\\\"ExperimentConfig\\\":{\\\"ExperimentName\\\":null,\\\"TrialName\\\":null,\\\"TrialComponentDisplayName\\\":null,\\\"RunName\\\":null},\\\"ProcessingJobArn\\\":\\\"arn:aws:sagemaker:us-east-1:807711953667:processing-job/udacity-step-preprocess-20241123190834-631\\\",\\\"ProcessingJobStatus\\\":\\\"Completed\\\",\\\"ExitMessage\\\":null,\\\"FailureReason\\\":null,\\\"ProcessingEndTime\\\":1732389054000,\\\"ProcessingStartTime\\\":1732388959000,\\\"LastModifiedTime\\\":1732389066000,\\\"CreationTime\\\":1732388915000,\\\"LastModifiedBy\\\":null,\\\"CreatedBy\\\":null,\\\"MonitoringScheduleArn\\\":null,\\\"AutoMLJobArn\\\":null,\\\"TrainingJobArn\\\":null,\\\"Tags\\\":{\\\"AWS_STEP_FUNCTIONS_EXECUTION_ARN\\\":\\\"arn:aws:states:us-east-1:807711953667:execution:udacity_step_handson:15665db0-c9e9-489b-87cb-cb324fd6f079\\\",\\\"MANAGED_BY_AWS\\\":\\\"STARTED_BY_STEP_FUNCTIONS\\\"}}\", \"outputDetails\": {\"truncated\": false}}}, {\"timestamp\": 1732389069.612, \"type\": \"TaskStateEntered\", \"id\": 8, \"previousEventId\": 7, \"stateEnteredEventDetails\": {\"name\": \"SageMaker Training Step\", \"input\": \"{\\\"SdkResponseMetadata\\\":null,\\\"SdkHttpMetadata\\\":null,\\\"ProcessingInputs\\\":[{\\\"InputName\\\":\\\"input_data\\\",\\\"AppManaged\\\":false,\\\"S3Input\\\":{\\\"S3Uri\\\":\\\"s3://sagemaker-studio-807711953667-mmx0am1bt28/step_upload/reviews_Musical_Instruments_5.json.zip\\\",\\\"LocalPath\\\":\\\"/opt/ml/processing/input\\\",\\\"S3DataType\\\":\\\"S3_PREFIX\\\",\\\"S3InputMode\\\":\\\"FILE\\\",\\\"S3DataDistributionType\\\":\\\"FULLYREPLICATED\\\",\\\"S3CompressionType\\\":null},\\\"DatasetDefinition\\\":null},{\\\"InputName\\\":\\\"script\\\",\\\"AppManaged\\\":false,\\\"S3Input\\\":{\\\"S3Uri\\\":\\\"s3://sagemaker-studio-807711953667-mmx0am1bt28/step_upload/HelloBlazePreprocess.py\\\",\\\"LocalPath\\\":\\\"/opt/ml/processing/input/code\\\",\\\"S3DataType\\\":\\\"S3_PREFIX\\\",\\\"S3InputMode\\\":\\\"FILE\\\",\\\"S3DataDistributionType\\\":\\\"FULLYREPLICATED\\\",\\\"S3CompressionType\\\":null},\\\"DatasetDefinition\\\":null}],\\\"ProcessingOutputConfig\\\":{\\\"Outputs\\\":[{\\\"OutputName\\\":\\\"train_data\\\",\\\"S3Output\\\":{\\\"S3Uri\\\":\\\"s3://sagemaker-us-east-1-807711953667/hello_blaze_train_scikit\\\",\\\"LocalPath\\\":\\\"/opt/ml/processing/output/train\\\",\\\"S3UploadMode\\\":\\\"END_OF_JOB\\\"},\\\"FeatureStoreOutput\\\":null,\\\"AppManaged\\\":false},{\\\"OutputName\\\":\\\"test_data\\\",\\\"S3Output\\\":{\\\"S3Uri\\\":\\\"s3://sagemaker-us-east-1-807711953667/hello_blaze_test_scikit\\\",\\\"LocalPath\\\":\\\"/opt/ml/processing/output/test\\\",\\\"S3UploadMode\\\":\\\"END_OF_JOB\\\"},\\\"FeatureStoreOutput\\\":null,\\\"AppManaged\\\":false}],\\\"KmsKeyId\\\":null},\\\"ProcessingJobName\\\":\\\"udacity-step-preprocess-20241123190834-631\\\",\\\"ProcessingResources\\\":{\\\"ClusterConfig\\\":{\\\"InstanceCount\\\":1,\\\"InstanceType\\\":\\\"ml.m5.large\\\",\\\"VolumeSizeInGB\\\":30,\\\"VolumeKmsKeyId\\\":null}},\\\"StoppingCondition\\\":{\\\"MaxRuntimeInSeconds\\\":86400},\\\"AppSpecification\\\":{\\\"ImageUri\\\":\\\"683313688378.dkr.ecr.us-east-1.amazonaws.com/sagemaker-scikit-learn:0.20.0-cpu-py3\\\",\\\"ContainerEntrypoint\\\":[\\\"python3\\\",\\\"/opt/ml/processing/input/code/HelloBlazePreprocess.py\\\"],\\\"ContainerArguments\\\":null},\\\"Environment\\\":null,\\\"NetworkConfig\\\":null,\\\"RoleArn\\\":\\\"arn:aws:iam::807711953667:role/service-role/AmazonSageMaker-ExecutionRole-20241121T213663\\\",\\\"ExperimentConfig\\\":{\\\"ExperimentName\\\":null,\\\"TrialName\\\":null,\\\"TrialComponentDisplayName\\\":null,\\\"RunName\\\":null},\\\"ProcessingJobArn\\\":\\\"arn:aws:sagemaker:us-east-1:807711953667:processing-job/udacity-step-preprocess-20241123190834-631\\\",\\\"ProcessingJobStatus\\\":\\\"Completed\\\",\\\"ExitMessage\\\":null,\\\"FailureReason\\\":null,\\\"ProcessingEndTime\\\":1732389054000,\\\"ProcessingStartTime\\\":1732388959000,\\\"LastModifiedTime\\\":1732389066000,\\\"CreationTime\\\":1732388915000,\\\"LastModifiedBy\\\":null,\\\"CreatedBy\\\":null,\\\"MonitoringScheduleArn\\\":null,\\\"AutoMLJobArn\\\":null,\\\"TrainingJobArn\\\":null,\\\"Tags\\\":{\\\"AWS_STEP_FUNCTIONS_EXECUTION_ARN\\\":\\\"arn:aws:states:us-east-1:807711953667:execution:udacity_step_handson:15665db0-c9e9-489b-87cb-cb324fd6f079\\\",\\\"MANAGED_BY_AWS\\\":\\\"STARTED_BY_STEP_FUNCTIONS\\\"}}\", \"inputDetails\": {\"truncated\": false}}}, {\"timestamp\": 1732389069.612, \"type\": \"TaskScheduled\", \"id\": 9, \"previousEventId\": 8, \"taskScheduledEventDetails\": {\"resourceType\": \"sagemaker\", \"resource\": \"createTrainingJob.sync\", \"region\": \"us-east-1\", \"parameters\": \"{\\\"AlgorithmSpecification\\\":{\\\"TrainingImage\\\":\\\"811284229777.dkr.ecr.us-east-1.amazonaws.com/blazingtext:1\\\",\\\"TrainingInputMode\\\":\\\"File\\\"},\\\"OutputDataConfig\\\":{\\\"S3OutputPath\\\":\\\"s3://sagemaker-studio-807711953667-mmx0am1bt28/step_output/\\\"},\\\"StoppingCondition\\\":{\\\"MaxRuntimeInSeconds\\\":360000},\\\"ResourceConfig\\\":{\\\"VolumeSizeInGB\\\":30,\\\"InstanceCount\\\":1,\\\"InstanceType\\\":\\\"ml.m5.large\\\"},\\\"RoleArn\\\":\\\"arn:aws:iam::807711953667:role/service-role/AmazonSageMaker-ExecutionRole-20241121T213663\\\",\\\"InputDataConfig\\\":[{\\\"DataSource\\\":{\\\"S3DataSource\\\":{\\\"S3DataType\\\":\\\"S3Prefix\\\",\\\"S3Uri\\\":\\\"s3://sagemaker-us-east-1-807711953667/hello_blaze_train_scikit\\\",\\\"S3DataDistributionType\\\":\\\"FullyReplicated\\\"}},\\\"ContentType\\\":\\\"text/plain\\\",\\\"ChannelName\\\":\\\"train\\\"},{\\\"DataSource\\\":{\\\"S3DataSource\\\":{\\\"S3DataType\\\":\\\"S3Prefix\\\",\\\"S3Uri\\\":\\\"s3://sagemaker-us-east-1-807711953667/hello_blaze_test_scikit\\\",\\\"S3DataDistributionType\\\":\\\"FullyReplicated\\\"}},\\\"ContentType\\\":\\\"text/plain\\\",\\\"ChannelName\\\":\\\"validation\\\"}],\\\"HyperParameters\\\":{\\\"mode\\\":\\\"supervised\\\"},\\\"TrainingJobName\\\":\\\"udacity-step-train-20241123190834-557\\\",\\\"DebugHookConfig\\\":{\\\"S3OutputPath\\\":\\\"s3://sagemaker-studio-807711953667-mmx0am1bt28/step_output/\\\"},\\\"Tags\\\":[{\\\"Key\\\":\\\"MANAGED_BY_AWS\\\",\\\"Value\\\":\\\"STARTED_BY_STEP_FUNCTIONS\\\"}]}\"}}, {\"timestamp\": 1732389069.678, \"type\": \"TaskStarted\", \"id\": 10, \"previousEventId\": 9, \"taskStartedEventDetails\": {\"resourceType\": \"sagemaker\", \"resource\": \"createTrainingJob.sync\"}}, {\"timestamp\": 1732389070.109, \"type\": \"TaskSubmitted\", \"id\": 11, \"previousEventId\": 10, \"taskSubmittedEventDetails\": {\"resourceType\": \"sagemaker\", \"resource\": \"createTrainingJob.sync\", \"output\": \"{\\\"SdkHttpMetadata\\\":{\\\"AllHttpHeaders\\\":{\\\"date\\\":[\\\"Sat, 23 Nov 2024 19:11:09 GMT\\\"],\\\"content-length\\\":[\\\"112\\\"],\\\"x-amzn-requestid\\\":[\\\"4ba17dfe-8d6b-48b6-9762-c4093d6b6fc2\\\"],\\\"content-type\\\":[\\\"application/x-amz-json-1.1\\\"]},\\\"HttpHeaders\\\":{\\\"content-length\\\":\\\"112\\\",\\\"content-type\\\":\\\"application/x-amz-json-1.1\\\",\\\"date\\\":\\\"Sat, 23 Nov 2024 19:11:09 GMT\\\",\\\"x-amzn-requestid\\\":\\\"4ba17dfe-8d6b-48b6-9762-c4093d6b6fc2\\\"},\\\"HttpStatusCode\\\":200},\\\"SdkResponseMetadata\\\":{\\\"RequestId\\\":\\\"4ba17dfe-8d6b-48b6-9762-c4093d6b6fc2\\\"},\\\"TrainingJobArn\\\":\\\"arn:aws:sagemaker:us-east-1:807711953667:training-job/udacity-step-train-20241123190834-557\\\"}\", \"outputDetails\": {\"truncated\": false}}}, {\"timestamp\": 1732389233.407, \"type\": \"TaskSucceeded\", \"id\": 12, \"previousEventId\": 11, \"taskSucceededEventDetails\": {\"resourceType\": \"sagemaker\", \"resource\": \"createTrainingJob.sync\", \"output\": \"{\\\"SdkResponseMetadata\\\":null,\\\"SdkHttpMetadata\\\":null,\\\"TrainingJobName\\\":\\\"udacity-step-train-20241123190834-557\\\",\\\"TrainingJobArn\\\":\\\"arn:aws:sagemaker:us-east-1:807711953667:training-job/udacity-step-train-20241123190834-557\\\",\\\"ProcessingJobArn\\\":null,\\\"TuningJobArn\\\":null,\\\"LabelingJobArn\\\":null,\\\"AutoMLJobArn\\\":null,\\\"ModelArtifacts\\\":{\\\"S3ModelArtifacts\\\":\\\"s3://sagemaker-studio-807711953667-mmx0am1bt28/step_output/udacity-step-train-20241123190834-557/output/model.tar.gz\\\"},\\\"TrainingJobOutput\\\":null,\\\"TrainingJobStatus\\\":\\\"Completed\\\",\\\"SecondaryStatus\\\":\\\"Completed\\\",\\\"FailureReason\\\":null,\\\"HyperParameters\\\":{\\\"mode\\\":\\\"supervised\\\"},\\\"AlgorithmSpecification\\\":{\\\"TrainingImage\\\":\\\"811284229777.dkr.ecr.us-east-1.amazonaws.com/blazingtext:1\\\",\\\"AlgorithmName\\\":null,\\\"TrainingInputMode\\\":\\\"FILE\\\",\\\"MetricDefinitions\\\":null,\\\"EnableSageMakerMetricsTimeSeries\\\":null,\\\"ContainerEntrypoint\\\":null,\\\"ContainerArguments\\\":null,\\\"TrainingImageConfig\\\":null},\\\"RoleArn\\\":\\\"arn:aws:iam::807711953667:role/service-role/AmazonSageMaker-ExecutionRole-20241121T213663\\\",\\\"InputDataConfig\\\":[{\\\"ChannelName\\\":\\\"train\\\",\\\"DataSource\\\":{\\\"S3DataSource\\\":{\\\"S3DataType\\\":\\\"S3_PREFIX\\\",\\\"S3Uri\\\":\\\"s3://sagemaker-us-east-1-807711953667/hello_blaze_train_scikit\\\",\\\"S3DataDistributionType\\\":\\\"FULLY_REPLICATED\\\",\\\"AttributeNames\\\":null,\\\"InstanceGroupNames\\\":null},\\\"FileSystemDataSource\\\":null},\\\"ContentType\\\":\\\"text/plain\\\",\\\"CompressionType\\\":\\\"NONE\\\",\\\"RecordWrapperType\\\":\\\"NONE\\\",\\\"InputMode\\\":null,\\\"ShuffleConfig\\\":null,\\\"EnableFFM\\\":null},{\\\"ChannelName\\\":\\\"validation\\\",\\\"DataSource\\\":{\\\"S3DataSource\\\":{\\\"S3DataType\\\":\\\"S3_PREFIX\\\",\\\"S3Uri\\\":\\\"s3://sagemaker-us-east-1-807711953667/hello_blaze_test_scikit\\\",\\\"S3DataDistributionType\\\":\\\"FULLY_REPLICATED\\\",\\\"AttributeNames\\\":null,\\\"InstanceGroupNames\\\":null},\\\"FileSystemDataSource\\\":null},\\\"ContentType\\\":\\\"text/plain\\\",\\\"CompressionType\\\":\\\"NONE\\\",\\\"RecordWrapperType\\\":\\\"NONE\\\",\\\"InputMode\\\":null,\\\"ShuffleConfig\\\":null,\\\"EnableFFM\\\":null}],\\\"OutputDataConfig\\\":{\\\"KmsKeyId\\\":null,\\\"S3OutputPath\\\":\\\"s3://sagemaker-studio-807711953667-mmx0am1bt28/step_output/\\\",\\\"CompressionType\\\":null,\\\"RemoveJobNameFromS3OutputPath\\\":null,\\\"DisableModelUpload\\\":null,\\\"Channels\\\":null},\\\"ResourceConfig\\\":{\\\"InstanceType\\\":\\\"ml.m5.large\\\",\\\"InstanceCount\\\":1,\\\"VolumeSizeInGB\\\":30,\\\"VolumeKmsKeyId\\\":null,\\\"KeepAlivePeriodInSeconds\\\":0,\\\"CapacityReservationIds\\\":null,\\\"InstanceGroups\\\":null,\\\"CapacitySchedulesConfig\\\":null,\\\"TrainingPlanArn\\\":null},\\\"WarmPoolStatus\\\":null,\\\"VpcConfig\\\":null,\\\"StoppingCondition\\\":{\\\"MaxRuntimeInSeconds\\\":360000,\\\"MaxWaitTimeInSeconds\\\":null,\\\"MaxPendingTimeInSeconds\\\":null},\\\"CreationTime\\\":1732389069904,\\\"TrainingStartTime\\\":1732389112085,\\\"TrainingEndTime\\\":1732389231495,\\\"LastModifiedTime\\\":1732389231630,\\\"SecondaryStatusTransitions\\\":[{\\\"Status\\\":\\\"Starting\\\",\\\"StartTime\\\":1732389069904,\\\"EndTime\\\":1732389112085,\\\"StatusMessage\\\":\\\"Preparing the instances for training\\\"},{\\\"Status\\\":\\\"Downloading\\\",\\\"StartTime\\\":1732389112085,\\\"EndTime\\\":1732389168254,\\\"StatusMessage\\\":\\\"Downloading the training image\\\"},{\\\"Status\\\":\\\"Training\\\",\\\"StartTime\\\":1732389168254,\\\"EndTime\\\":1732389183673,\\\"StatusMessage\\\":\\\"Training image download completed. Training in progress.\\\"},{\\\"Status\\\":\\\"Uploading\\\",\\\"StartTime\\\":1732389183673,\\\"EndTime\\\":1732389231495,\\\"StatusMessage\\\":\\\"Uploading generated training model\\\"},{\\\"Status\\\":\\\"Completed\\\",\\\"StartTime\\\":1732389231495,\\\"EndTime\\\":1732389231495,\\\"StatusMessage\\\":\\\"Training job completed\\\"}],\\\"FinalMetricDataList\\\":null,\\\"EnableNetworkIsolation\\\":null,\\\"EnableInterContainerTrafficEncryption\\\":null,\\\"EnableManagedSpotTraining\\\":null,\\\"CheckpointConfig\\\":null,\\\"TrainingTimeInSeconds\\\":null,\\\"BillableTimeInSeconds\\\":null,\\\"DebugHookConfig\\\":{\\\"LocalPath\\\":null,\\\"S3OutputPath\\\":\\\"s3://sagemaker-studio-807711953667-mmx0am1bt28/step_output/\\\",\\\"HookParameters\\\":null,\\\"CollectionConfigurations\\\":null},\\\"ExperimentConfig\\\":null,\\\"DebugRuleConfigurations\\\":null,\\\"TensorBoardOutputConfig\\\":null,\\\"DebugRuleEvaluationStatuses\\\":null,\\\"UpstreamPlatformConfig\\\":null,\\\"ProfilerConfig\\\":null,\\\"ProfilerRuleConfigurations\\\":null,\\\"ProfilerRuleEvaluationStatuses\\\":null,\\\"ProfilingStatus\\\":null,\\\"Environment\\\":null,\\\"RetryStrategy\\\":null,\\\"LastModifiedBy\\\":null,\\\"CreatedBy\\\":null,\\\"DisableEFA\\\":null,\\\"ProcessingJobConfig\\\":null,\\\"ImageMetadata\\\":null,\\\"RemoteDebugConfig\\\":null,\\\"ResourceTags\\\":null,\\\"InfraCheckConfig\\\":null,\\\"Tags\\\":{\\\"AWS_STEP_FUNCTIONS_EXECUTION_ARN\\\":\\\"arn:aws:states:us-east-1:807711953667:execution:udacity_step_handson:15665db0-c9e9-489b-87cb-cb324fd6f079\\\",\\\"MANAGED_BY_AWS\\\":\\\"STARTED_BY_STEP_FUNCTIONS\\\"}}\", \"outputDetails\": {\"truncated\": false}}}, {\"timestamp\": 1732389233.424, \"type\": \"TaskStateExited\", \"id\": 13, \"previousEventId\": 12, \"stateExitedEventDetails\": {\"name\": \"SageMaker Training Step\", \"output\": \"{\\\"SdkResponseMetadata\\\":null,\\\"SdkHttpMetadata\\\":null,\\\"TrainingJobName\\\":\\\"udacity-step-train-20241123190834-557\\\",\\\"TrainingJobArn\\\":\\\"arn:aws:sagemaker:us-east-1:807711953667:training-job/udacity-step-train-20241123190834-557\\\",\\\"ProcessingJobArn\\\":null,\\\"TuningJobArn\\\":null,\\\"LabelingJobArn\\\":null,\\\"AutoMLJobArn\\\":null,\\\"ModelArtifacts\\\":{\\\"S3ModelArtifacts\\\":\\\"s3://sagemaker-studio-807711953667-mmx0am1bt28/step_output/udacity-step-train-20241123190834-557/output/model.tar.gz\\\"},\\\"TrainingJobOutput\\\":null,\\\"TrainingJobStatus\\\":\\\"Completed\\\",\\\"SecondaryStatus\\\":\\\"Completed\\\",\\\"FailureReason\\\":null,\\\"HyperParameters\\\":{\\\"mode\\\":\\\"supervised\\\"},\\\"AlgorithmSpecification\\\":{\\\"TrainingImage\\\":\\\"811284229777.dkr.ecr.us-east-1.amazonaws.com/blazingtext:1\\\",\\\"AlgorithmName\\\":null,\\\"TrainingInputMode\\\":\\\"FILE\\\",\\\"MetricDefinitions\\\":null,\\\"EnableSageMakerMetricsTimeSeries\\\":null,\\\"ContainerEntrypoint\\\":null,\\\"ContainerArguments\\\":null,\\\"TrainingImageConfig\\\":null},\\\"RoleArn\\\":\\\"arn:aws:iam::807711953667:role/service-role/AmazonSageMaker-ExecutionRole-20241121T213663\\\",\\\"InputDataConfig\\\":[{\\\"ChannelName\\\":\\\"train\\\",\\\"DataSource\\\":{\\\"S3DataSource\\\":{\\\"S3DataType\\\":\\\"S3_PREFIX\\\",\\\"S3Uri\\\":\\\"s3://sagemaker-us-east-1-807711953667/hello_blaze_train_scikit\\\",\\\"S3DataDistributionType\\\":\\\"FULLY_REPLICATED\\\",\\\"AttributeNames\\\":null,\\\"InstanceGroupNames\\\":null},\\\"FileSystemDataSource\\\":null},\\\"ContentType\\\":\\\"text/plain\\\",\\\"CompressionType\\\":\\\"NONE\\\",\\\"RecordWrapperType\\\":\\\"NONE\\\",\\\"InputMode\\\":null,\\\"ShuffleConfig\\\":null,\\\"EnableFFM\\\":null},{\\\"ChannelName\\\":\\\"validation\\\",\\\"DataSource\\\":{\\\"S3DataSource\\\":{\\\"S3DataType\\\":\\\"S3_PREFIX\\\",\\\"S3Uri\\\":\\\"s3://sagemaker-us-east-1-807711953667/hello_blaze_test_scikit\\\",\\\"S3DataDistributionType\\\":\\\"FULLY_REPLICATED\\\",\\\"AttributeNames\\\":null,\\\"InstanceGroupNames\\\":null},\\\"FileSystemDataSource\\\":null},\\\"ContentType\\\":\\\"text/plain\\\",\\\"CompressionType\\\":\\\"NONE\\\",\\\"RecordWrapperType\\\":\\\"NONE\\\",\\\"InputMode\\\":null,\\\"ShuffleConfig\\\":null,\\\"EnableFFM\\\":null}],\\\"OutputDataConfig\\\":{\\\"KmsKeyId\\\":null,\\\"S3OutputPath\\\":\\\"s3://sagemaker-studio-807711953667-mmx0am1bt28/step_output/\\\",\\\"CompressionType\\\":null,\\\"RemoveJobNameFromS3OutputPath\\\":null,\\\"DisableModelUpload\\\":null,\\\"Channels\\\":null},\\\"ResourceConfig\\\":{\\\"InstanceType\\\":\\\"ml.m5.large\\\",\\\"InstanceCount\\\":1,\\\"VolumeSizeInGB\\\":30,\\\"VolumeKmsKeyId\\\":null,\\\"KeepAlivePeriodInSeconds\\\":0,\\\"CapacityReservationIds\\\":null,\\\"InstanceGroups\\\":null,\\\"CapacitySchedulesConfig\\\":null,\\\"TrainingPlanArn\\\":null},\\\"WarmPoolStatus\\\":null,\\\"VpcConfig\\\":null,\\\"StoppingCondition\\\":{\\\"MaxRuntimeInSeconds\\\":360000,\\\"MaxWaitTimeInSeconds\\\":null,\\\"MaxPendingTimeInSeconds\\\":null},\\\"CreationTime\\\":1732389069904,\\\"TrainingStartTime\\\":1732389112085,\\\"TrainingEndTime\\\":1732389231495,\\\"LastModifiedTime\\\":1732389231630,\\\"SecondaryStatusTransitions\\\":[{\\\"Status\\\":\\\"Starting\\\",\\\"StartTime\\\":1732389069904,\\\"EndTime\\\":1732389112085,\\\"StatusMessage\\\":\\\"Preparing the instances for training\\\"},{\\\"Status\\\":\\\"Downloading\\\",\\\"StartTime\\\":1732389112085,\\\"EndTime\\\":1732389168254,\\\"StatusMessage\\\":\\\"Downloading the training image\\\"},{\\\"Status\\\":\\\"Training\\\",\\\"StartTime\\\":1732389168254,\\\"EndTime\\\":1732389183673,\\\"StatusMessage\\\":\\\"Training image download completed. Training in progress.\\\"},{\\\"Status\\\":\\\"Uploading\\\",\\\"StartTime\\\":1732389183673,\\\"EndTime\\\":1732389231495,\\\"StatusMessage\\\":\\\"Uploading generated training model\\\"},{\\\"Status\\\":\\\"Completed\\\",\\\"StartTime\\\":1732389231495,\\\"EndTime\\\":1732389231495,\\\"StatusMessage\\\":\\\"Training job completed\\\"}],\\\"FinalMetricDataList\\\":null,\\\"EnableNetworkIsolation\\\":null,\\\"EnableInterContainerTrafficEncryption\\\":null,\\\"EnableManagedSpotTraining\\\":null,\\\"CheckpointConfig\\\":null,\\\"TrainingTimeInSeconds\\\":null,\\\"BillableTimeInSeconds\\\":null,\\\"DebugHookConfig\\\":{\\\"LocalPath\\\":null,\\\"S3OutputPath\\\":\\\"s3://sagemaker-studio-807711953667-mmx0am1bt28/step_output/\\\",\\\"HookParameters\\\":null,\\\"CollectionConfigurations\\\":null},\\\"ExperimentConfig\\\":null,\\\"DebugRuleConfigurations\\\":null,\\\"TensorBoardOutputConfig\\\":null,\\\"DebugRuleEvaluationStatuses\\\":null,\\\"UpstreamPlatformConfig\\\":null,\\\"ProfilerConfig\\\":null,\\\"ProfilerRuleConfigurations\\\":null,\\\"ProfilerRuleEvaluationStatuses\\\":null,\\\"ProfilingStatus\\\":null,\\\"Environment\\\":null,\\\"RetryStrategy\\\":null,\\\"LastModifiedBy\\\":null,\\\"CreatedBy\\\":null,\\\"DisableEFA\\\":null,\\\"ProcessingJobConfig\\\":null,\\\"ImageMetadata\\\":null,\\\"RemoteDebugConfig\\\":null,\\\"ResourceTags\\\":null,\\\"InfraCheckConfig\\\":null,\\\"Tags\\\":{\\\"AWS_STEP_FUNCTIONS_EXECUTION_ARN\\\":\\\"arn:aws:states:us-east-1:807711953667:execution:udacity_step_handson:15665db0-c9e9-489b-87cb-cb324fd6f079\\\",\\\"MANAGED_BY_AWS\\\":\\\"STARTED_BY_STEP_FUNCTIONS\\\"}}\", \"outputDetails\": {\"truncated\": false}}}, {\"timestamp\": 1732389233.47, \"type\": \"ExecutionSucceeded\", \"id\": 14, \"previousEventId\": 13, \"executionSucceededEventDetails\": {\"output\": \"{\\\"SdkResponseMetadata\\\":null,\\\"SdkHttpMetadata\\\":null,\\\"TrainingJobName\\\":\\\"udacity-step-train-20241123190834-557\\\",\\\"TrainingJobArn\\\":\\\"arn:aws:sagemaker:us-east-1:807711953667:training-job/udacity-step-train-20241123190834-557\\\",\\\"ProcessingJobArn\\\":null,\\\"TuningJobArn\\\":null,\\\"LabelingJobArn\\\":null,\\\"AutoMLJobArn\\\":null,\\\"ModelArtifacts\\\":{\\\"S3ModelArtifacts\\\":\\\"s3://sagemaker-studio-807711953667-mmx0am1bt28/step_output/udacity-step-train-20241123190834-557/output/model.tar.gz\\\"},\\\"TrainingJobOutput\\\":null,\\\"TrainingJobStatus\\\":\\\"Completed\\\",\\\"SecondaryStatus\\\":\\\"Completed\\\",\\\"FailureReason\\\":null,\\\"HyperParameters\\\":{\\\"mode\\\":\\\"supervised\\\"},\\\"AlgorithmSpecification\\\":{\\\"TrainingImage\\\":\\\"811284229777.dkr.ecr.us-east-1.amazonaws.com/blazingtext:1\\\",\\\"AlgorithmName\\\":null,\\\"TrainingInputMode\\\":\\\"FILE\\\",\\\"MetricDefinitions\\\":null,\\\"EnableSageMakerMetricsTimeSeries\\\":null,\\\"ContainerEntrypoint\\\":null,\\\"ContainerArguments\\\":null,\\\"TrainingImageConfig\\\":null},\\\"RoleArn\\\":\\\"arn:aws:iam::807711953667:role/service-role/AmazonSageMaker-ExecutionRole-20241121T213663\\\",\\\"InputDataConfig\\\":[{\\\"ChannelName\\\":\\\"train\\\",\\\"DataSource\\\":{\\\"S3DataSource\\\":{\\\"S3DataType\\\":\\\"S3_PREFIX\\\",\\\"S3Uri\\\":\\\"s3://sagemaker-us-east-1-807711953667/hello_blaze_train_scikit\\\",\\\"S3DataDistributionType\\\":\\\"FULLY_REPLICATED\\\",\\\"AttributeNames\\\":null,\\\"InstanceGroupNames\\\":null},\\\"FileSystemDataSource\\\":null},\\\"ContentType\\\":\\\"text/plain\\\",\\\"CompressionType\\\":\\\"NONE\\\",\\\"RecordWrapperType\\\":\\\"NONE\\\",\\\"InputMode\\\":null,\\\"ShuffleConfig\\\":null,\\\"EnableFFM\\\":null},{\\\"ChannelName\\\":\\\"validation\\\",\\\"DataSource\\\":{\\\"S3DataSource\\\":{\\\"S3DataType\\\":\\\"S3_PREFIX\\\",\\\"S3Uri\\\":\\\"s3://sagemaker-us-east-1-807711953667/hello_blaze_test_scikit\\\",\\\"S3DataDistributionType\\\":\\\"FULLY_REPLICATED\\\",\\\"AttributeNames\\\":null,\\\"InstanceGroupNames\\\":null},\\\"FileSystemDataSource\\\":null},\\\"ContentType\\\":\\\"text/plain\\\",\\\"CompressionType\\\":\\\"NONE\\\",\\\"RecordWrapperType\\\":\\\"NONE\\\",\\\"InputMode\\\":null,\\\"ShuffleConfig\\\":null,\\\"EnableFFM\\\":null}],\\\"OutputDataConfig\\\":{\\\"KmsKeyId\\\":null,\\\"S3OutputPath\\\":\\\"s3://sagemaker-studio-807711953667-mmx0am1bt28/step_output/\\\",\\\"CompressionType\\\":null,\\\"RemoveJobNameFromS3OutputPath\\\":null,\\\"DisableModelUpload\\\":null,\\\"Channels\\\":null},\\\"ResourceConfig\\\":{\\\"InstanceType\\\":\\\"ml.m5.large\\\",\\\"InstanceCount\\\":1,\\\"VolumeSizeInGB\\\":30,\\\"VolumeKmsKeyId\\\":null,\\\"KeepAlivePeriodInSeconds\\\":0,\\\"CapacityReservationIds\\\":null,\\\"InstanceGroups\\\":null,\\\"CapacitySchedulesConfig\\\":null,\\\"TrainingPlanArn\\\":null},\\\"WarmPoolStatus\\\":null,\\\"VpcConfig\\\":null,\\\"StoppingCondition\\\":{\\\"MaxRuntimeInSeconds\\\":360000,\\\"MaxWaitTimeInSeconds\\\":null,\\\"MaxPendingTimeInSeconds\\\":null},\\\"CreationTime\\\":1732389069904,\\\"TrainingStartTime\\\":1732389112085,\\\"TrainingEndTime\\\":1732389231495,\\\"LastModifiedTime\\\":1732389231630,\\\"SecondaryStatusTransitions\\\":[{\\\"Status\\\":\\\"Starting\\\",\\\"StartTime\\\":1732389069904,\\\"EndTime\\\":1732389112085,\\\"StatusMessage\\\":\\\"Preparing the instances for training\\\"},{\\\"Status\\\":\\\"Downloading\\\",\\\"StartTime\\\":1732389112085,\\\"EndTime\\\":1732389168254,\\\"StatusMessage\\\":\\\"Downloading the training image\\\"},{\\\"Status\\\":\\\"Training\\\",\\\"StartTime\\\":1732389168254,\\\"EndTime\\\":1732389183673,\\\"StatusMessage\\\":\\\"Training image download completed. Training in progress.\\\"},{\\\"Status\\\":\\\"Uploading\\\",\\\"StartTime\\\":1732389183673,\\\"EndTime\\\":1732389231495,\\\"StatusMessage\\\":\\\"Uploading generated training model\\\"},{\\\"Status\\\":\\\"Completed\\\",\\\"StartTime\\\":1732389231495,\\\"EndTime\\\":1732389231495,\\\"StatusMessage\\\":\\\"Training job completed\\\"}],\\\"FinalMetricDataList\\\":null,\\\"EnableNetworkIsolation\\\":null,\\\"EnableInterContainerTrafficEncryption\\\":null,\\\"EnableManagedSpotTraining\\\":null,\\\"CheckpointConfig\\\":null,\\\"TrainingTimeInSeconds\\\":null,\\\"BillableTimeInSeconds\\\":null,\\\"DebugHookConfig\\\":{\\\"LocalPath\\\":null,\\\"S3OutputPath\\\":\\\"s3://sagemaker-studio-807711953667-mmx0am1bt28/step_output/\\\",\\\"HookParameters\\\":null,\\\"CollectionConfigurations\\\":null},\\\"ExperimentConfig\\\":null,\\\"DebugRuleConfigurations\\\":null,\\\"TensorBoardOutputConfig\\\":null,\\\"DebugRuleEvaluationStatuses\\\":null,\\\"UpstreamPlatformConfig\\\":null,\\\"ProfilerConfig\\\":null,\\\"ProfilerRuleConfigurations\\\":null,\\\"ProfilerRuleEvaluationStatuses\\\":null,\\\"ProfilingStatus\\\":null,\\\"Environment\\\":null,\\\"RetryStrategy\\\":null,\\\"LastModifiedBy\\\":null,\\\"CreatedBy\\\":null,\\\"DisableEFA\\\":null,\\\"ProcessingJobConfig\\\":null,\\\"ImageMetadata\\\":null,\\\"RemoteDebugConfig\\\":null,\\\"ResourceTags\\\":null,\\\"InfraCheckConfig\\\":null,\\\"Tags\\\":{\\\"AWS_STEP_FUNCTIONS_EXECUTION_ARN\\\":\\\"arn:aws:states:us-east-1:807711953667:execution:udacity_step_handson:15665db0-c9e9-489b-87cb-cb324fd6f079\\\",\\\"MANAGED_BY_AWS\\\":\\\"STARTED_BY_STEP_FUNCTIONS\\\"}}\", \"outputDetails\": {\"truncated\": false}}}] };\n",
       "\n",
       "    var graph = new sfn.StateMachineExecutionGraph(definition, events, elementId, options);\n",
       "    graph.render();\n",
       "});\n",
       "\n",
       "</script>\n"
      ],
      "text/plain": [
       "<IPython.core.display.HTML object>"
      ]
     },
     "execution_count": 6,
     "metadata": {},
     "output_type": "execute_result"
    }
   ],
   "source": [
    "execution.render_progress()\n",
    "## from IPython.display import display\n",
    "## display(execution.render_progress())"
   ]
  }
 ],
 "metadata": {
  "kernelspec": {
   "display_name": "Python 3 (ipykernel)",
   "language": "python",
   "name": "python3"
  },
  "language_info": {
   "codemirror_mode": {
    "name": "ipython",
    "version": 3
   },
   "file_extension": ".py",
   "mimetype": "text/x-python",
   "name": "python",
   "nbconvert_exporter": "python",
   "pygments_lexer": "ipython3",
   "version": "3.11.10"
  }
 },
 "nbformat": 4,
 "nbformat_minor": 5
}

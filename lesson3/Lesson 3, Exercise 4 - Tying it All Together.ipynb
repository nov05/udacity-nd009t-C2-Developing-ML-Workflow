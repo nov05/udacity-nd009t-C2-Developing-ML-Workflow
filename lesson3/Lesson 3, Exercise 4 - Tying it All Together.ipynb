{
 "cells": [
  {
   "cell_type": "markdown",
   "id": "134e2d03",
   "metadata": {},
   "source": [
    "# UDACITY Designing Your First Workflow - Tying it All Together"
   ]
  },
  {
   "cell_type": "markdown",
   "id": "d6e03226",
   "metadata": {},
   "source": [
    "AWS comprises many services, and one of the main skills you'll develop as an ML Engineer working in AWS is in chaining these services together to accomplish specific data engineering goals. With Lambda, you've learned how to launch serverless jobs, and with Step Functions, you've learned how to create a workflow that chains jobs together. Now, you'll learn how to launch a Step Function using a Lambda job. "
   ]
  },
  {
   "cell_type": "markdown",
   "id": "306881a2",
   "metadata": {},
   "source": [
    "Before starting this, it's important to highlight that this is not the only way to accomplish something like this. Multiple services integrate with Step Functions, and so it follows that there are multiple ways to launch Step Functions. These services, among others, include API Gateway, EventBridge, and even other Step Functions. "
   ]
  },
  {
   "cell_type": "markdown",
   "id": "fd72b5ed",
   "metadata": {},
   "source": [
    "Your task is to `create a new lambda function that will launch the state machine` you created in the **last exercise**. You'll then launch this lambda function from the command line. To find the definition of the step function you've made, click into the step function and look for the definition under the 'Definition' tab. "
   ]
  },
  {
   "cell_type": "markdown",
   "id": "23232098",
   "metadata": {},
   "source": [
    "First, create a new Lambda role. Attach to this role the **StepFunctionsFullAccess** policy. Then create a new lambda function under the default template, and attach this new role to it. Use the starter code below to help you modify the lambda handler to accomplish your task. "
   ]
  },
  {
   "cell_type": "markdown",
   "id": "25d13b61",
   "metadata": {},
   "source": [
    "As Step Function cannot execute more than once with the same name, you must update the definition with a new name. You can find the existing definition of a Step Function in the AWS Console under 'Step Functions'. In the lambda function code below, update the 'definition' with the step function definition from your last exercise, with the only difference being the, step fucntion name, processing-job name and the training-job name. "
   ]
  },
  {
   "cell_type": "markdown",
   "id": "d84f26f3",
   "metadata": {},
   "source": [
    "## Exercise: Create the Lambda Function"
   ]
  },
  {
   "cell_type": "code",
   "execution_count": null,
   "id": "70233ab1",
   "metadata": {},
   "outputs": [],
   "source": [
    "import boto3\n",
    "import json\n",
    "import time\n",
    "## local imports\n",
    "from helper import DEFINITION\n",
    "\n",
    "client = boto3.client('stepfunctions')\n",
    "state_machine_arn = \"arn:aws:iam::807711953667:role/udacity_step_20241123\"\n",
    "# todo, copy the definition from the last exercise and paste it below. \n",
    "# Also change the names of step function, training job and processing job. \n",
    "definition = \"\"\"\n",
    "\n",
    "\"\"\"\n",
    "\n",
    "def lambda_handler(event, context):\n",
    "    #todo \n",
    "    client.update_state_machine(\n",
    "        definition=definition, \n",
    "        stateMachineArn=state_machine_arn) \n",
    "    # Give AWS time to register the defintion\n",
    "    time.sleep(5)\n",
    "    #todo\n",
    "    client.start_execution(\n",
    "        input='{}',  ## the least input\n",
    "        name='CHANGE THIS', \n",
    "        stateMachineArn=state_machine_arn) \n",
    "    return {\n",
    "        'statusCode': 200,\n",
    "        'body': 'The step function has successfully launched!'\n",
    "    }"
   ]
  },
  {
   "cell_type": "code",
   "execution_count": 4,
   "id": "a724b845",
   "metadata": {},
   "outputs": [
    {
     "ename": "ClientError",
     "evalue": "An error occurred (UnrecognizedClientException) when calling the DescribeStateMachine operation: The security token included in the request is invalid.",
     "output_type": "error",
     "traceback": [
      "\u001b[1;31m---------------------------------------------------------------------------\u001b[0m",
      "\u001b[1;31mClientError\u001b[0m                               Traceback (most recent call last)",
      "Cell \u001b[1;32mIn[4], line 4\u001b[0m\n\u001b[0;32m      2\u001b[0m client \u001b[38;5;241m=\u001b[39m boto3\u001b[38;5;241m.\u001b[39mclient(\u001b[38;5;124m'\u001b[39m\u001b[38;5;124mstepfunctions\u001b[39m\u001b[38;5;124m'\u001b[39m)\n\u001b[0;32m      3\u001b[0m state_machine_arn \u001b[38;5;241m=\u001b[39m \u001b[38;5;124m\"\u001b[39m\u001b[38;5;124marn:aws:iam::807711953667:role/udacity_step_20241123\u001b[39m\u001b[38;5;124m\"\u001b[39m\n\u001b[1;32m----> 4\u001b[0m response \u001b[38;5;241m=\u001b[39m \u001b[43mclient\u001b[49m\u001b[38;5;241;43m.\u001b[39;49m\u001b[43mdescribe_state_machine\u001b[49m\u001b[43m(\u001b[49m\n\u001b[0;32m      5\u001b[0m \u001b[43m    \u001b[49m\u001b[43mstateMachineArn\u001b[49m\u001b[38;5;241;43m=\u001b[39;49m\u001b[43mstate_machine_arn\u001b[49m\n\u001b[0;32m      6\u001b[0m \u001b[43m)\u001b[49m\n\u001b[0;32m      7\u001b[0m \u001b[38;5;28mprint\u001b[39m(response[\u001b[38;5;124m'\u001b[39m\u001b[38;5;124mdefinition\u001b[39m\u001b[38;5;124m'\u001b[39m])\n",
      "File \u001b[1;32md:\\Users\\guido\\miniconda3\\envs\\awsmle_py310\\lib\\site-packages\\botocore\\client.py:569\u001b[0m, in \u001b[0;36mClientCreator._create_api_method.<locals>._api_call\u001b[1;34m(self, *args, **kwargs)\u001b[0m\n\u001b[0;32m    565\u001b[0m     \u001b[38;5;28;01mraise\u001b[39;00m \u001b[38;5;167;01mTypeError\u001b[39;00m(\n\u001b[0;32m    566\u001b[0m         \u001b[38;5;124mf\u001b[39m\u001b[38;5;124m\"\u001b[39m\u001b[38;5;132;01m{\u001b[39;00mpy_operation_name\u001b[38;5;132;01m}\u001b[39;00m\u001b[38;5;124m() only accepts keyword arguments.\u001b[39m\u001b[38;5;124m\"\u001b[39m\n\u001b[0;32m    567\u001b[0m     )\n\u001b[0;32m    568\u001b[0m \u001b[38;5;66;03m# The \"self\" in this scope is referring to the BaseClient.\u001b[39;00m\n\u001b[1;32m--> 569\u001b[0m \u001b[38;5;28;01mreturn\u001b[39;00m \u001b[38;5;28;43mself\u001b[39;49m\u001b[38;5;241;43m.\u001b[39;49m\u001b[43m_make_api_call\u001b[49m\u001b[43m(\u001b[49m\u001b[43moperation_name\u001b[49m\u001b[43m,\u001b[49m\u001b[43m \u001b[49m\u001b[43mkwargs\u001b[49m\u001b[43m)\u001b[49m\n",
      "File \u001b[1;32md:\\Users\\guido\\miniconda3\\envs\\awsmle_py310\\lib\\site-packages\\botocore\\client.py:1023\u001b[0m, in \u001b[0;36mBaseClient._make_api_call\u001b[1;34m(self, operation_name, api_params)\u001b[0m\n\u001b[0;32m   1019\u001b[0m     error_code \u001b[38;5;241m=\u001b[39m error_info\u001b[38;5;241m.\u001b[39mget(\u001b[38;5;124m\"\u001b[39m\u001b[38;5;124mQueryErrorCode\u001b[39m\u001b[38;5;124m\"\u001b[39m) \u001b[38;5;129;01mor\u001b[39;00m error_info\u001b[38;5;241m.\u001b[39mget(\n\u001b[0;32m   1020\u001b[0m         \u001b[38;5;124m\"\u001b[39m\u001b[38;5;124mCode\u001b[39m\u001b[38;5;124m\"\u001b[39m\n\u001b[0;32m   1021\u001b[0m     )\n\u001b[0;32m   1022\u001b[0m     error_class \u001b[38;5;241m=\u001b[39m \u001b[38;5;28mself\u001b[39m\u001b[38;5;241m.\u001b[39mexceptions\u001b[38;5;241m.\u001b[39mfrom_code(error_code)\n\u001b[1;32m-> 1023\u001b[0m     \u001b[38;5;28;01mraise\u001b[39;00m error_class(parsed_response, operation_name)\n\u001b[0;32m   1024\u001b[0m \u001b[38;5;28;01melse\u001b[39;00m:\n\u001b[0;32m   1025\u001b[0m     \u001b[38;5;28;01mreturn\u001b[39;00m parsed_response\n",
      "\u001b[1;31mClientError\u001b[0m: An error occurred (UnrecognizedClientException) when calling the DescribeStateMachine operation: The security token included in the request is invalid."
     ]
    }
   ],
   "source": [
    "import boto3\n",
    "client = boto3.client('stepfunctions')\n",
    "state_machine_arn = \"arn:aws:iam::807711953667:role/udacity_step_20241123\"\n",
    "response = client.describe_state_machine(\n",
    "    stateMachineArn=state_machine_arn\n",
    ")\n",
    "print(response['definition'])"
   ]
  },
  {
   "cell_type": "code",
   "execution_count": 2,
   "id": "d9304d78",
   "metadata": {},
   "outputs": [
    {
     "ename": "SyntaxError",
     "evalue": "f-string: expressions nested too deeply (2901922592.py, line 136)",
     "output_type": "error",
     "traceback": [
      "\u001b[1;36m  Cell \u001b[1;32mIn[2], line 136\u001b[1;36m\u001b[0m\n\u001b[1;33m    '''\u001b[0m\n\u001b[1;37m       ^\u001b[0m\n\u001b[1;31mSyntaxError\u001b[0m\u001b[1;31m:\u001b[0m f-string: expressions nested too deeply\n"
     ]
    }
   ],
   "source": [
    "## helper.py\n",
    "from datetime import datetime\n",
    "import random\n",
    "\n",
    "DEFINITION = f'''\n",
    "{\n",
    "  \"StartAt\": \"SageMaker Preprocessing Step\",\n",
    "  \"States\": {\n",
    "    \"SageMaker Preprocessing Step\": {\n",
    "      \"Resource\": \"arn:aws:states:::sagemaker:createProcessingJob.sync\",\n",
    "      \"Parameters\": {\n",
    "        \"ProcessingJobName\": \"udacity-step-preprocess-{datetime.now().strftime('%Y%m%d%H%M%S')}-{random.randint(100, 999)}\",\n",
    "        \"ProcessingInputs\": [\n",
    "          {\n",
    "            \"InputName\": \"input_data\",\n",
    "            \"AppManaged\": false,\n",
    "            \"S3Input\": {\n",
    "              \"S3Uri\": \"s3://sagemaker-studio-807711953667-mmx0am1bt28/step_upload/reviews_Musical_Instruments_5.json.zip\",\n",
    "              \"LocalPath\": \"/opt/ml/processing/input\",\n",
    "              \"S3DataType\": \"S3Prefix\",\n",
    "              \"S3InputMode\": \"File\",\n",
    "              \"S3DataDistributionType\": \"FullyReplicated\",\n",
    "              \"S3CompressionType\": \"None\"\n",
    "            }\n",
    "          },\n",
    "          {\n",
    "            \"InputName\": \"input_code\",\n",
    "            \"AppManaged\": false,\n",
    "            \"S3Input\": {\n",
    "              \"S3Uri\": \"s3://sagemaker-studio-807711953667-mmx0am1bt28/step_upload/HelloBlazePreprocess.py\",\n",
    "              \"LocalPath\": \"/opt/ml/processing/input/code\",\n",
    "              \"S3DataType\": \"S3Prefix\",\n",
    "              \"S3InputMode\": \"File\",\n",
    "              \"S3DataDistributionType\": \"FullyReplicated\",\n",
    "              \"S3CompressionType\": \"None\"\n",
    "            }\n",
    "          }\n",
    "        ],\n",
    "        \"ProcessingOutputConfig\": {\n",
    "          \"Outputs\": [\n",
    "            {\n",
    "              \"OutputName\": \"train_data\",\n",
    "              \"AppManaged\": false,\n",
    "              \"S3Output\": {\n",
    "                \"S3Uri\": \"s3://sagemaker-us-east-1-807711953667/hello_blaze_train_scikit\",\n",
    "                \"LocalPath\": \"/opt/ml/processing/output/train\",\n",
    "                \"S3UploadMode\": \"EndOfJob\"\n",
    "              }\n",
    "            },\n",
    "            {\n",
    "              \"OutputName\": \"test_data\",\n",
    "              \"AppManaged\": false,\n",
    "              \"S3Output\": {\n",
    "                \"S3Uri\": \"s3://sagemaker-us-east-1-807711953667/hello_blaze_test_scikit\",\n",
    "                \"LocalPath\": \"/opt/ml/processing/output/test\",\n",
    "                \"S3UploadMode\": \"EndOfJob\"\n",
    "              }\n",
    "            }\n",
    "          ]\n",
    "        },\n",
    "        \"AppSpecification\": {\n",
    "          \"ImageUri\": \"683313688378.dkr.ecr.us-east-1.amazonaws.com/sagemaker-scikit-learn:0.20.0-cpu-py3\",\n",
    "          \"ContainerEntrypoint\": [\n",
    "            \"python3\",\n",
    "            \"/opt/ml/processing/input/code/HelloBlazePreprocess.py\"\n",
    "          ]\n",
    "        },\n",
    "        \"RoleArn\": \"arn:aws:iam::807711953667:role/service-role/AmazonSageMaker-ExecutionRole-20241121T213663\",\n",
    "        \"ProcessingResources\": {\n",
    "          \"ClusterConfig\": {\n",
    "            \"InstanceCount\": 1,\n",
    "            \"InstanceType\": \"ml.m5.large\",\n",
    "            \"VolumeSizeInGB\": 30\n",
    "          }\n",
    "        }\n",
    "      },\n",
    "      \"Type\": \"Task\",\n",
    "      \"Next\": \"SageMaker Training Step\"\n",
    "    },\n",
    "    \"SageMaker Training Step\": {\n",
    "      \"Resource\": \"arn:aws:states:::sagemaker:createTrainingJob.sync\",\n",
    "      \"Parameters\": {\n",
    "        \"AlgorithmSpecification\": {\n",
    "          \"TrainingImage\": \"811284229777.dkr.ecr.us-east-1.amazonaws.com/blazingtext:1\",\n",
    "          \"TrainingInputMode\": \"File\"\n",
    "        },\n",
    "        \"OutputDataConfig\": {\n",
    "          \"S3OutputPath\": \"s3://sagemaker-studio-807711953667-mmx0am1bt28/step_output/\"\n",
    "        },\n",
    "        \"StoppingCondition\": {\n",
    "          \"MaxRuntimeInSeconds\": 360000\n",
    "        },\n",
    "        \"ResourceConfig\": {\n",
    "          \"VolumeSizeInGB\": 30,\n",
    "          \"InstanceCount\": 1,\n",
    "          \"InstanceType\": \"ml.m5.large\"\n",
    "        },\n",
    "        \"RoleArn\": \"arn:aws:iam::807711953667:role/service-role/AmazonSageMaker-ExecutionRole-20241121T213663\",\n",
    "        \"InputDataConfig\": [\n",
    "          {\n",
    "            \"DataSource\": {\n",
    "              \"S3DataSource\": {\n",
    "                \"S3DataType\": \"S3Prefix\",\n",
    "                \"S3Uri\": \"s3://sagemaker-us-east-1-807711953667/hello_blaze_train_scikit\",\n",
    "                \"S3DataDistributionType\": \"FullyReplicated\"\n",
    "              }\n",
    "            },\n",
    "            \"ContentType\": \"text/plain\",\n",
    "            \"ChannelName\": \"train\"\n",
    "          },\n",
    "          {\n",
    "            \"DataSource\": {\n",
    "              \"S3DataSource\": {\n",
    "                \"S3DataType\": \"S3Prefix\",\n",
    "                \"S3Uri\": \"s3://sagemaker-us-east-1-807711953667/hello_blaze_test_scikit\",\n",
    "                \"S3DataDistributionType\": \"FullyReplicated\"\n",
    "              }\n",
    "            },\n",
    "            \"ContentType\": \"text/plain\",\n",
    "            \"ChannelName\": \"validation\"\n",
    "          }\n",
    "        ],\n",
    "        \"HyperParameters\": {\n",
    "          \"mode\": \"supervised\"\n",
    "        },\n",
    "        \"TrainingJobName\": \"udacity-step-train-20241124035109-354\",\n",
    "        \"DebugHookConfig\": {\n",
    "          \"S3OutputPath\": \"s3://sagemaker-studio-807711953667-mmx0am1bt28/step_output/\"\n",
    "        }\n",
    "      },\n",
    "      \"Type\": \"Task\",\n",
    "      \"End\": true\n",
    "    }\n",
    "  }\n",
    "}\n",
    "'''\n",
    "print(DEFINITION)"
   ]
  },
  {
   "cell_type": "markdown",
   "id": "966f5b08",
   "metadata": {},
   "source": [
    "## Exercise: Launch the Lambda Function\n"
   ]
  },
  {
   "cell_type": "markdown",
   "id": "1abd804d",
   "metadata": {},
   "source": [
    "Launch the lambda function and confirm the step function is created successfully."
   ]
  },
  {
   "cell_type": "markdown",
   "id": "d8b6b4d5",
   "metadata": {},
   "source": [
    "## Conceptual Exercise: What are next steps? "
   ]
  },
  {
   "cell_type": "markdown",
   "id": "fb29a82d",
   "metadata": {},
   "source": [
    "Right now, the Step Function that we made in the prior exercise has a hard-coded location of the dataset we input, as well as all of the locations of the intermediary steps. What are ways that you could modify the Step Function to make it more generalizable? If you could input an S3 location, how could you integrate it with Lambda so that it could asychronously be called? "
   ]
  }
 ],
 "metadata": {
  "kernelspec": {
   "display_name": "awsmle_py310",
   "language": "python",
   "name": "python3"
  },
  "language_info": {
   "codemirror_mode": {
    "name": "ipython",
    "version": 3
   },
   "file_extension": ".py",
   "mimetype": "text/x-python",
   "name": "python",
   "nbconvert_exporter": "python",
   "pygments_lexer": "ipython3",
   "version": "3.10.15"
  }
 },
 "nbformat": 4,
 "nbformat_minor": 5
}

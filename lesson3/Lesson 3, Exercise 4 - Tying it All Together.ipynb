{
 "cells": [
  {
   "cell_type": "markdown",
   "id": "d406b0e8-da8c-4f02-9bad-34b48e5eccc9",
   "metadata": {},
   "source": [
    "* changed by nov05 on 2024-11-24\n",
    "* [Udacity solution video](https://youtu.be/rKUxX033KaU)  "
   ]
  },
  {
   "cell_type": "markdown",
   "id": "134e2d03",
   "metadata": {},
   "source": [
    "# UDACITY Designing Your First Workflow - Tying it All Together"
   ]
  },
  {
   "cell_type": "markdown",
   "id": "d6e03226",
   "metadata": {},
   "source": [
    "AWS comprises many services, and one of the main skills you'll develop as an ML Engineer working in AWS is in chaining these services together to accomplish specific data engineering goals. With Lambda, you've learned how to launch serverless jobs, and with Step Functions, you've learned how to create a workflow that chains jobs together. Now, you'll learn how to launch a Step Function using a Lambda job. "
   ]
  },
  {
   "cell_type": "markdown",
   "id": "306881a2",
   "metadata": {},
   "source": [
    "Before starting this, it's important to highlight that this is not the only way to accomplish something like this. Multiple services integrate with Step Functions, and so it follows that there are multiple ways to launch Step Functions. These services, among others, include `API Gateway`, `EventBridge`, and even other `Step Functions`. "
   ]
  },
  {
   "cell_type": "markdown",
   "id": "fd72b5ed",
   "metadata": {},
   "source": [
    "Your task is to `create a new lambda function that will launch the state machine` you created in the **last exercise**. You'll then launch this lambda function from the command line. To find the definition of the step function you've made, click into the step function and look for the definition under the 'Definition' tab. "
   ]
  },
  {
   "cell_type": "markdown",
   "id": "23232098",
   "metadata": {},
   "source": [
    "First, create a new Lambda role. Attach to this role the **StepFunctionsFullAccess** policy. Then create a new lambda function under the default template, and attach this new role to it. Use the starter code below to help you modify the lambda handler to accomplish your task. "
   ]
  },
  {
   "cell_type": "markdown",
   "id": "25d13b61",
   "metadata": {},
   "source": [
    "As Step Function cannot execute more than once with the same name, you must update the definition with a new name. You can find the existing definition of a Step Function in the AWS Console under 'Step Functions'. In the lambda function code below, update the 'definition' with the step function definition from your last exercise, with the only difference being the, step fucntion name, processing-job name and the training-job name. "
   ]
  },
  {
   "cell_type": "markdown",
   "id": "d84f26f3",
   "metadata": {},
   "source": [
    "## Exercise: Create the Lambda Function"
   ]
  },
  {
   "cell_type": "code",
   "execution_count": null,
   "id": "70233ab1",
   "metadata": {},
   "outputs": [],
   "source": [
    "## copy the code in this cell to the lambda function\n",
    "import boto3\n",
    "import json\n",
    "import time\n",
    "from datetime import datetime\n",
    "import random\n",
    "\n",
    "\n",
    "client = boto3.client('stepfunctions')\n",
    "state_machine_arn = \"arn:aws:states:us-east-1:807711953667:stateMachine:udacity_step_handson\"\n",
    "# todo, copy the definition from the last exercise and paste it below. \n",
    "# Also change the names of step function, training job and processing job. \n",
    "response = client.describe_state_machine(\n",
    "    stateMachineArn=state_machine_arn\n",
    ")\n",
    "definition = json.loads(response['definition'])\n",
    "## create names with datetime and 3 random digits to make them unique\n",
    "definition['States']['SageMaker Preprocessing Step']['Parameters']['ProcessingJobName'] \\\n",
    "    = f\"udacity-step-preprocess-{datetime.now().strftime('%Y%m%d%H%M%S')}-{random.randint(100, 999)}\"\n",
    "definition['States']['SageMaker Training Step']['Parameters']['TrainingJobName'] \\\n",
    "    = f\"udacity-step-train-{datetime.now().strftime('%Y%m%d%H%M%S')}-{random.randint(100, 999)}\"\n",
    "# execution_name = f'udacity-lambda-step-{datetime.now().strftime('%Y%m%d%H%M%S')}-{random.randint(100, 999)}'\n",
    "\n",
    "\n",
    "def lambda_handler(event, context):\n",
    "    # todo \n",
    "    client.update_state_machine(\n",
    "        definition=json.dumps(definition), \n",
    "        stateMachineArn=state_machine_arn) \n",
    "    # Give AWS time to register the defintion\n",
    "    time.sleep(5)\n",
    "    #todo\n",
    "    client.start_execution(\n",
    "        input='{}',  ## the least input is {}\n",
    "        # name=execution_name,  ## optional \n",
    "        stateMachineArn=state_machine_arn) \n",
    "    return {\n",
    "        'statusCode': 200,\n",
    "        'body': 'The step function launched successfully!'\n",
    "    }"
   ]
  },
  {
   "cell_type": "code",
   "execution_count": 9,
   "id": "a724b845",
   "metadata": {},
   "outputs": [
    {
     "name": "stdout",
     "output_type": "stream",
     "text": [
      "<class 'str'>\n",
      "udacity-step-preprocess-20241124035109-152\n",
      "{\"StartAt\": \"SageMaker Preprocessing Step\", \"States\": {\"SageMaker Preprocessing Step\": {\"Resource\": \"arn:aws:states:::sagemaker:createProcessingJob.sync\", \"Parameters\": {\"ProcessingJobName\": \"udacity-step-preprocess-20241124085631-791\", \"ProcessingInputs\": [{\"InputName\": \"input_data\", \"AppManaged\": false, \"S3Input\": {\"S3Uri\": \"s3://sagemaker-studio-807711953667-mmx0am1bt28/step_upload/reviews_Musical_Instruments_5.json.zip\", \"LocalPath\": \"/opt/ml/processing/input\", \"S3DataType\": \"S3Prefix\", \"S3InputMode\": \"File\", \"S3DataDistributionType\": \"FullyReplicated\", \"S3CompressionType\": \"None\"}}, {\"InputName\": \"input_code\", \"AppManaged\": false, \"S3Input\": {\"S3Uri\": \"s3://sagemaker-studio-807711953667-mmx0am1bt28/step_upload/HelloBlazePreprocess.py\", \"LocalPath\": \"/opt/ml/processing/input/code\", \"S3DataType\": \"S3Prefix\", \"S3InputMode\": \"File\", \"S3DataDistributionType\": \"FullyReplicated\", \"S3CompressionType\": \"None\"}}], \"ProcessingOutputConfig\": {\"Outputs\": [{\"OutputName\": \"train_data\", \"AppManaged\": false, \"S3Output\": {\"S3Uri\": \"s3://sagemaker-us-east-1-807711953667/hello_blaze_train_scikit\", \"LocalPath\": \"/opt/ml/processing/output/train\", \"S3UploadMode\": \"EndOfJob\"}}, {\"OutputName\": \"test_data\", \"AppManaged\": false, \"S3Output\": {\"S3Uri\": \"s3://sagemaker-us-east-1-807711953667/hello_blaze_test_scikit\", \"LocalPath\": \"/opt/ml/processing/output/test\", \"S3UploadMode\": \"EndOfJob\"}}]}, \"AppSpecification\": {\"ImageUri\": \"683313688378.dkr.ecr.us-east-1.amazonaws.com/sagemaker-scikit-learn:0.20.0-cpu-py3\", \"ContainerEntrypoint\": [\"python3\", \"/opt/ml/processing/input/code/HelloBlazePreprocess.py\"]}, \"RoleArn\": \"arn:aws:iam::807711953667:role/service-role/AmazonSageMaker-ExecutionRole-20241121T213663\", \"ProcessingResources\": {\"ClusterConfig\": {\"InstanceCount\": 1, \"InstanceType\": \"ml.m5.large\", \"VolumeSizeInGB\": 30}}}, \"Type\": \"Task\", \"Next\": \"SageMaker Training Step\"}, \"SageMaker Training Step\": {\"Resource\": \"arn:aws:states:::sagemaker:createTrainingJob.sync\", \"Parameters\": {\"AlgorithmSpecification\": {\"TrainingImage\": \"811284229777.dkr.ecr.us-east-1.amazonaws.com/blazingtext:1\", \"TrainingInputMode\": \"File\"}, \"OutputDataConfig\": {\"S3OutputPath\": \"s3://sagemaker-studio-807711953667-mmx0am1bt28/step_output/\"}, \"StoppingCondition\": {\"MaxRuntimeInSeconds\": 360000}, \"ResourceConfig\": {\"VolumeSizeInGB\": 30, \"InstanceCount\": 1, \"InstanceType\": \"ml.m5.large\"}, \"RoleArn\": \"arn:aws:iam::807711953667:role/service-role/AmazonSageMaker-ExecutionRole-20241121T213663\", \"InputDataConfig\": [{\"DataSource\": {\"S3DataSource\": {\"S3DataType\": \"S3Prefix\", \"S3Uri\": \"s3://sagemaker-us-east-1-807711953667/hello_blaze_train_scikit\", \"S3DataDistributionType\": \"FullyReplicated\"}}, \"ContentType\": \"text/plain\", \"ChannelName\": \"train\"}, {\"DataSource\": {\"S3DataSource\": {\"S3DataType\": \"S3Prefix\", \"S3Uri\": \"s3://sagemaker-us-east-1-807711953667/hello_blaze_test_scikit\", \"S3DataDistributionType\": \"FullyReplicated\"}}, \"ContentType\": \"text/plain\", \"ChannelName\": \"validation\"}], \"HyperParameters\": {\"mode\": \"supervised\"}, \"TrainingJobName\": \"udacity-step-train-20241124085631-245\", \"DebugHookConfig\": {\"S3OutputPath\": \"s3://sagemaker-studio-807711953667-mmx0am1bt28/step_output/\"}}, \"Type\": \"Task\", \"End\": true}}}\n"
     ]
    }
   ],
   "source": [
    "## test code; do not copy to the lambda function\n",
    "import boto3\n",
    "import json\n",
    "from datetime import datetime\n",
    "import random\n",
    "\n",
    "client = boto3.client('stepfunctions')\n",
    "state_machine_arn = \"arn:aws:states:us-east-1:807711953667:stateMachine:udacity_step_handson\"\n",
    "response = client.describe_state_machine(\n",
    "    stateMachineArn=state_machine_arn\n",
    ")\n",
    "print(type(response['definition']))  ## str\n",
    "definition = json.loads(response['definition'])\n",
    "print(definition['States']['SageMaker Preprocessing Step']['Parameters']['ProcessingJobName'])\n",
    "definition['States']['SageMaker Preprocessing Step']['Parameters']['ProcessingJobName'] \\\n",
    "    = f\"udacity-step-preprocess-{datetime.now().strftime('%Y%m%d%H%M%S')}-{random.randint(100, 999)}\"\n",
    "definition['States']['SageMaker Training Step']['Parameters']['TrainingJobName'] \\\n",
    "    = f\"udacity-step-train-{datetime.now().strftime('%Y%m%d%H%M%S')}-{random.randint(100, 999)}\"\n",
    "print(json.dumps(definition))"
   ]
  },
  {
   "cell_type": "markdown",
   "id": "966f5b08",
   "metadata": {},
   "source": [
    "## Exercise: Launch the Lambda Function\n"
   ]
  },
  {
   "cell_type": "markdown",
   "id": "1abd804d",
   "metadata": {},
   "source": [
    "Launch the lambda function and confirm the step function is created successfully."
   ]
  },
  {
   "cell_type": "markdown",
   "id": "d8b6b4d5",
   "metadata": {},
   "source": [
    "## Conceptual Exercise: What are next steps? "
   ]
  },
  {
   "cell_type": "markdown",
   "id": "fb29a82d",
   "metadata": {},
   "source": [
    "Right now, the Step Function that we made in the prior exercise has a hard-coded location of the dataset we input, as well as all of the locations of the intermediary steps. What are ways that you could modify the Step Function to make it more generalizable? If you could input an S3 location, how could you integrate it with Lambda so that it could asychronously be called? "
   ]
  }
 ],
 "metadata": {
  "kernelspec": {
   "display_name": "awsmle_py310",
   "language": "python",
   "name": "python3"
  },
  "language_info": {
   "codemirror_mode": {
    "name": "ipython",
    "version": 3
   },
   "file_extension": ".py",
   "mimetype": "text/x-python",
   "name": "python",
   "nbconvert_exporter": "python",
   "pygments_lexer": "ipython3",
   "version": "3.10.15"
  }
 },
 "nbformat": 4,
 "nbformat_minor": 5
}
